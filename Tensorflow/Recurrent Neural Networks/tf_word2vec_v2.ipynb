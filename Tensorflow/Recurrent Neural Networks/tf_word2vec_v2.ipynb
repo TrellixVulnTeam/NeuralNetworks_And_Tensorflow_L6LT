{
 "cells": [
  {
   "cell_type": "markdown",
   "metadata": {
    "colab_type": "text",
    "id": "q0HpyIWqwYwn"
   },
   "source": [
    "# The word2vec Approach"
   ]
  },
  {
   "cell_type": "markdown",
   "metadata": {
    "colab_type": "text",
    "id": "_r0URYxowYww"
   },
   "source": [
    "-[Prashant Brahmbhatt](www.github.com/hashbanger)"
   ]
  },
  {
   "cell_type": "markdown",
   "metadata": {
    "colab_type": "text",
    "id": "aFLQQNuZwYw3"
   },
   "source": [
    "____\n",
    "[Reference](https://github.com/adventuresinML)"
   ]
  },
  {
   "cell_type": "markdown",
   "metadata": {
    "colab_type": "text",
    "id": "kzCDX0kywYxJ"
   },
   "source": [
    "___________"
   ]
  },
  {
   "cell_type": "code",
   "execution_count": 0,
   "metadata": {
    "colab": {},
    "colab_type": "code",
    "id": "ia3bof9OwYxP"
   },
   "outputs": [],
   "source": [
    "import os\n",
    "import math\n",
    "import urllib\n",
    "import random\n",
    "import zipfile\n",
    "import collections\n",
    "import numpy as np\n",
    "import datetime as dt\n",
    "import tensorflow as tf  \n",
    "\n",
    "import warnings\n",
    "warnings.filterwarnings('ignore')"
   ]
  },
  {
   "cell_type": "markdown",
   "metadata": {
    "colab_type": "text",
    "id": "jNeWrnmZwYxh"
   },
   "source": [
    "A straight-forward way of doing this would be to use a **one-hot** method of converting the word into a sparse representation with only one element of the vector set to 1, the rest being zero. "
   ]
  },
  {
   "cell_type": "markdown",
   "metadata": {
    "colab_type": "text",
    "id": "ZQ37v7jawYxo"
   },
   "source": [
    "For a sentence **''the cat sat on the mat''**, one hot enocding would be"
   ]
  },
  {
   "cell_type": "markdown",
   "metadata": {
    "colab_type": "text",
    "id": "PoLeYxeiwYxu"
   },
   "source": [
    "$\\begin{bmatrix}the\\\\cat\\\\sat\\\\on\\\\the\\\\mat\\end{bmatrix}$ = $\\begin{bmatrix}1&0&0&0&0\\\\0&1&0&0&0\\\\0&0&1&0&0\\\\0&0&0&1&0\\\\1&0&0&0&0\\\\0&0&0&0&1\\end{bmatrix}$ "
   ]
  },
  {
   "cell_type": "markdown",
   "metadata": {
    "colab_type": "text",
    "id": "naQSNRY7wYxz"
   },
   "source": [
    "But there are efficiency issues with the memory problems and the huge sparsity and also we lose word locality informtion.  \n",
    "For instance, we might expect to see **“United”** and **“States”** to appear close together, or **“Soviet”** and **“Union”**.  Or **“food” and “eat”**, and so on. "
   ]
  },
  {
   "cell_type": "markdown",
   "metadata": {
    "colab_type": "text",
    "id": "bK5hufOTwYx4"
   },
   "source": [
    "## Word2Vec Methodology"
   ]
  },
  {
   "cell_type": "markdown",
   "metadata": {
    "colab_type": "text",
    "id": "QWOvJl7wwYx-"
   },
   "source": [
    "We require two goals to be fulfilled.  \n",
    "- The first is the mapping of a high dimensional one-hot style representation of words to a lower dimensional vector. This might involve transforming a 10,000 columned matrix into a 300 columned matrix, for instance. This process is called word embedding.  \n",
    "- The second goal is to do this while still maintaining word context and therefore, to some extent, meaning. \n"
   ]
  },
  {
   "cell_type": "markdown",
   "metadata": {
    "colab_type": "text",
    "id": "GdWKKjlHwYyD"
   },
   "source": [
    "There are two approaches for achieving these two goals:  \n",
    "-  **Skip Gram Approach** - taking an input word and then attempting to estimate the probability of other words appearing close to that word.  \n",
    "- **Continuous Bag Of Words** - it takes some context words as input and tries to find the single word that has the highest probability of fitting that context.\n"
   ]
  },
  {
   "cell_type": "markdown",
   "metadata": {
    "colab_type": "text",
    "id": "r448ReQzwYyG"
   },
   "source": [
    "### Using Skip Gram Approach"
   ]
  },
  {
   "cell_type": "markdown",
   "metadata": {
    "colab_type": "text",
    "id": "W5csL4OnwYyM"
   },
   "source": [
    " A **gram** is a group of **n words**, where **n** is the **gram window size**.  So for the sentence **“The cat sat on the mat”**, a 3-gram representation of this sentence would be **“The cat sat”, “cat sat on”, “sat on the”, “on the mat”.**\n",
    " "
   ]
  },
  {
   "cell_type": "markdown",
   "metadata": {
    "colab_type": "text",
    "id": "S1EAYALqwYyR"
   },
   "source": [
    "These grams are fed into the Word2Vec context prediction system. For instance, assume the input word is **“cat”** – the Word2Vec tries to predict the context (**“the”**, **“sat”**) from this supplied input word.  The Word2Vec system will move through all the supplied grams and input words and attempt to learn appropriate mapping vectors (embeddings) which produce high probabilities for the right context given the input words.  \n",
    "   \n",
    "The Word2Vec system is nothing but a neural network."
   ]
  },
  {
   "cell_type": "markdown",
   "metadata": {
    "colab_type": "text",
    "id": "2-INCsvKwYyZ"
   },
   "source": [
    "Assuming that **\"the cat sat on the mat\"** is a part of a larger database of 10k words vocb. We want to reduce this vocab to 300 words. If we take the word **“cat”** it will be one of the words in the 10,000 word vocabulary.  Therefore we can represent it as a 10,000 length one-hot vector.  We then interface this input vector to a 300 node hidden layer. The weights connecting this layer will be our **new word vectors***.   \n",
    "The activations of the nodes in this hidden layer are simply linear summations of the weighted inputs i.e. no non-linear activation like **sig** or **tan** are applied.  \n",
    "During training, we want to change the weights of this neural network so that words surrounding **“cat”** have a higher probability in the softmax output layer."
   ]
  },
  {
   "cell_type": "markdown",
   "metadata": {
    "colab_type": "text",
    "id": "uaJruaBcwYyi"
   },
   "source": [
    "So, we will need to create a **10000 * 300** weight matrix connecting the inputs to 300 nodes."
   ]
  },
  {
   "cell_type": "markdown",
   "metadata": {
    "colab_type": "text",
    "id": "Fu83JmXKwYyo"
   },
   "source": [
    "The weight matrix essentially becomes a look-up or encoding table of our words.  Not only that, but these weight values contain context information due to the way we’ve trained our network."
   ]
  },
  {
   "cell_type": "markdown",
   "metadata": {
    "colab_type": "text",
    "id": "L-t99GarwYyy"
   },
   "source": [
    "Once we’ve trained the network, we abandon the softmax layer and just use the 10,000 x 300 weight matrix as our word embedding lookup table"
   ]
  },
  {
   "cell_type": "markdown",
   "metadata": {
    "colab_type": "text",
    "id": "1omQxqBBwYy6"
   },
   "source": [
    "### Preparing the Text Data"
   ]
  },
  {
   "cell_type": "markdown",
   "metadata": {
    "colab_type": "text",
    "id": "PFL9BOLOwYzB"
   },
   "source": [
    "*Getting the data*"
   ]
  },
  {
   "cell_type": "code",
   "execution_count": 0,
   "metadata": {
    "colab": {},
    "colab_type": "code",
    "id": "zgilgsNgwYzH"
   },
   "outputs": [],
   "source": [
    "def maybe_download(filename, url, expected_bytes):\n",
    "    \"\"\"Download a file if not present, and make sure it's the right size.\"\"\"\n",
    "    if not os.path.exists(filename):\n",
    "        filename, _ = urllib.request.urlretrieve(url + filename, filename)\n",
    "    statinfo = os.stat(filename)\n",
    "    if statinfo.st_size == expected_bytes:\n",
    "        print('Found and verified', filename)\n",
    "    else:\n",
    "        print(statinfo.st_size)\n",
    "        raise Exception(\n",
    "            'Failed to verify ' + filename + '. Can you get to it with a browser?')\n",
    "    return filename"
   ]
  },
  {
   "cell_type": "code",
   "execution_count": 0,
   "metadata": {
    "colab": {},
    "colab_type": "code",
    "id": "x1bYEYyhwYzV"
   },
   "outputs": [],
   "source": [
    "def collect_data(vocabulary_size=10000):\n",
    "    url = 'http://mattmahoney.net/dc/'\n",
    "    filename = maybe_download('text8.zip', url, 31344016)\n",
    "    vocabulary = read_data(filename)\n",
    "    print(vocabulary[:7])\n",
    "    data, count, dictionary, reverse_dictionary = build_dataset(vocabulary,\n",
    "                                                                vocabulary_size)\n",
    "    del vocabulary  # Hint to reduce memory.\n",
    "    return data, count, dictionary, reverse_dictionary"
   ]
  },
  {
   "cell_type": "markdown",
   "metadata": {
    "colab_type": "text",
    "id": "qw0a6AU5wYzm"
   },
   "source": [
    "*Extracting and Reading the data as strings*"
   ]
  },
  {
   "cell_type": "code",
   "execution_count": 0,
   "metadata": {
    "colab": {},
    "colab_type": "code",
    "id": "h_qFgaWywY0H"
   },
   "outputs": [],
   "source": [
    "def read_data(filename):\n",
    "    #Extracting and reading as list of strings\n",
    "    with zipfile.ZipFile(filename) as f:\n",
    "        data = tf.compat.as_str(f.read(f.namelist()[0])).split()\n",
    "    return data\n",
    "        "
   ]
  },
  {
   "cell_type": "markdown",
   "metadata": {
    "colab_type": "text",
    "id": "nCQFYHaqwY0W"
   },
   "source": [
    "Since the stings in python 2 were not automatically unicode but were bytes rather.  \n",
    "So, under the hood, **tensorflow.compat.as_str** converts both bytes and unicode strings to unicode strings.  \n",
    "The **namelist()** function retrieves all the members of the archive – in this case there is only one member, so we access this using the zero index."
   ]
  },
  {
   "cell_type": "markdown",
   "metadata": {
    "colab_type": "text",
    "id": "Sze2ipcbDuyD"
   },
   "source": []
  },
  {
   "cell_type": "markdown",
   "metadata": {
    "colab_type": "text",
    "id": "FRkOwDvuwY1H"
   },
   "source": [
    "We have obtained the list of words"
   ]
  },
  {
   "cell_type": "markdown",
   "metadata": {
    "colab_type": "text",
    "id": "kugL_sdowY1k"
   },
   "source": [
    "___________"
   ]
  },
  {
   "cell_type": "markdown",
   "metadata": {
    "colab_type": "text",
    "id": "rNE4aeh-wY1n"
   },
   "source": [
    "Now we have to create our **skip-gram** batch. It includes the following steps.\n",
    "\n",
    "- We will extract most common 10k words.\n",
    "- collect all the unique words and index them with the unique index, to create an equivalent one-hot type input for the word. A dictionary is one way to accomplish this.  \n",
    "- We will go through every word in the dataset and assign it to the unique integer word identified, as done in previous step. It will allow easy lookup of the word data stream"
   ]
  },
  {
   "cell_type": "code",
   "execution_count": 0,
   "metadata": {
    "colab": {},
    "colab_type": "code",
    "id": "dU7gcLv4wY1s"
   },
   "outputs": [],
   "source": [
    "def build_dataset(words, n_words):\n",
    "    \"\"\"Process raw inputs into a dataset.\"\"\"\n",
    "    count = [['UNK', -1]]\n",
    "    count.extend(collections.Counter(words).most_common(n_words - 1))\n",
    "    dictionary = dict()\n",
    "    for word, _ in count:\n",
    "        dictionary[word] = len(dictionary)\n",
    "    data = list()\n",
    "    unk_count = 0\n",
    "    for word in words:\n",
    "        if word in dictionary:\n",
    "            index = dictionary[word]\n",
    "        else:\n",
    "            index = 0  # dictionary['UNK']\n",
    "            unk_count += 1\n",
    "        data.append(index)\n",
    "    count[0][1] = unk_count\n",
    "    reversed_dictionary = dict(zip(dictionary.values(), dictionary.keys()))\n",
    "    return data, count, dictionary, reversed_dictionary"
   ]
  },
  {
   "cell_type": "code",
   "execution_count": 9,
   "metadata": {
    "colab": {
     "base_uri": "https://localhost:8080/",
     "height": 54
    },
    "colab_type": "code",
    "id": "9-jBc0T7wY1U",
    "outputId": "28003dae-0413-41cf-e299-376aff9849d5"
   },
   "outputs": [
    {
     "name": "stdout",
     "output_type": "stream",
     "text": [
      "Found and verified text8.zip\n",
      "['anarchism', 'originated', 'as', 'a', 'term', 'of', 'abuse']\n"
     ]
    }
   ],
   "source": [
    "vocabulary_size = 10000\n",
    "data, count, dictionary, reverse_dictionary = collect_data(vocabulary_size=vocabulary_size)"
   ]
  },
  {
   "cell_type": "markdown",
   "metadata": {
    "colab_type": "text",
    "id": "3Tq0o_6wwY2Q"
   },
   "source": [
    "Setted up a **“counter”** list, which will store the number of times a word is found within the data-set.  We are restricting our vocabulary to only 10,000 words, other words will be of **“UNK”** (Unknown) designation.  The initialized count list is then extended, using the Python collections module and the **Counter()** class and the associated **most_common()** function."
   ]
  },
  {
   "cell_type": "code",
   "execution_count": 10,
   "metadata": {
    "colab": {
     "base_uri": "https://localhost:8080/",
     "height": 35
    },
    "colab_type": "code",
    "id": "eoBtBN5qwY2Z",
    "outputId": "dfcfcb3a-160d-472f-8855-758d7c2ac205"
   },
   "outputs": [
    {
     "data": {
      "text/plain": [
       "[('a', 5), ('b', 2), ('r', 2)]"
      ]
     },
     "execution_count": 10,
     "metadata": {
      "tags": []
     },
     "output_type": "execute_result"
    }
   ],
   "source": [
    "#it works as\n",
    "collections.Counter('abracadabra').most_common(3)"
   ]
  },
  {
   "cell_type": "markdown",
   "metadata": {
    "colab_type": "text",
    "id": "RPXvyS4iwY2o"
   },
   "source": [
    "The value assigned to each unique word key is simply an increasing integer count of the size of the dictionary.  So, for instance, the most common word will receive the value 1, the second most common the value 2. Integer 0 is assigned to **UNK**"
   ]
  },
  {
   "cell_type": "markdown",
   "metadata": {
    "colab_type": "text",
    "id": "vfD4oYbvwY2s"
   },
   "source": [
    "A list **data** is created of the same length as **words** but instead of being a list of individual words, it will instead be a list of integers – with each word now being represented by the unique integer that was assigned to this word in dictionary.  So, for the first sentence of our data-set   \n",
    "**[‘anarchism’, ‘originated’, ‘as’, ‘a’, ‘term’, ‘of’, ‘abuse’]** --------------> **[5242, 3083, 12, 6, 195, 2, 3136]**."
   ]
  },
  {
   "cell_type": "markdown",
   "metadata": {
    "colab_type": "text",
    "id": "ht2XABBKwY27"
   },
   "source": [
    "**reverse_dictionary** that allows us to look up a word based on its unique integer identifier, rather than looking up the identifier based on the word i.e. the original dictionary."
   ]
  },
  {
   "cell_type": "markdown",
   "metadata": {
    "colab_type": "text",
    "id": "uDSoaitAwY3B"
   },
   "source": [
    "____________"
   ]
  },
  {
   "cell_type": "markdown",
   "metadata": {
    "colab_type": "text",
    "id": "TQPZH5bIwY3O"
   },
   "source": [
    "Now we create a data set comprising of our input words and associated grams"
   ]
  },
  {
   "cell_type": "markdown",
   "metadata": {
    "colab_type": "text",
    "id": "zpjVNAF5wY3V"
   },
   "source": [
    "Following function will generate mini-batches to use during our training, which will consist of input words (stored in batch) and random associated context words within the gram as the labels to predict (stored in context).   \n",
    "\n",
    "example: in the 5-gram **“the cat sat on the”**, the input word will be center word i.e. **“sat”** and the context words that will be predicted will be drawn randomly from the remaining words of the gram: **[‘the’, ‘cat’, ‘on’, ‘the’]**.  \n",
    "\n",
    "In this function, the number of words drawn randomly from the surrounding context is defined by the argument **num_skips**.  \n",
    "\n",
    "The size of the window of context words to draw from around the input word is defined in the argument **skip_window** – in the example above (**“the cat sat on the”**), we have a skip window width of 2 around the input word **\"sat”**."
   ]
  },
  {
   "cell_type": "code",
   "execution_count": 0,
   "metadata": {
    "colab": {},
    "colab_type": "code",
    "id": "a5kiOw_mwY3Y"
   },
   "outputs": [],
   "source": [
    "data_index = 0\n",
    "def generate_batch(data, batch_size, num_skips, skip_window):\n",
    "    global data_index\n",
    "    assert batch_size % num_skips == 0\n",
    "    assert num_skips <= 2 * skip_window\n",
    "    batch = np.ndarray(shape = (batch_size), dtype = np.int32)\n",
    "    context = np.ndarray(shape = (batch_size, 1), dtype = np.int32)\n",
    "    span = 2 * skip_window + 1#[ skip_window input_word skip_window ]\n",
    "\n",
    "#------- To create a buffer ---------------------------------------\n",
    "\n",
    "    buffer = collections.deque(maxlen = span) #Deque is preferred over list \n",
    "                                              #where we need quicker append and pop operations\n",
    "    for _ in range(span):\n",
    "        buffer.append(data[data_index])\n",
    "    data_index = (data_index + 1)% len(data)\n",
    "    \n",
    "    \n",
    "#-------- To fill the batch and context variables-------------------\n",
    "\n",
    "    for i in range(batch_size // num_skips):\n",
    "        target = skip_window #input word at the centre\n",
    "        targets_to_avoid = [skip_window]\n",
    "        for j in range(num_skips):\n",
    "            while target in targets_to_avoid:\n",
    "                target = random.randint(0, span-1)\n",
    "            targets_to_avoid.append(target)\n",
    "            batch[i * num_skips + j] = buffer[skip_window] #this is the input word\n",
    "            context[i * num_skips + j, 0] = buffer[target] #these are the context words\n",
    "        buffer.append(data[data_index])\n",
    "        data_index = (data_index + 1) % len(data)\n",
    "    # Backtracking to avoid skipping words in the end of a batch\n",
    "    \n",
    "    data_index = (data_index + len(data) - span) % len(data)\n",
    "    return batch,context\n",
    "            "
   ]
  },
  {
   "cell_type": "markdown",
   "metadata": {
    "colab_type": "text",
    "id": "DWQa5yLOwY3m"
   },
   "source": [
    "First, the batch and label outputs are defined as variables of size batch_size.  \n",
    "Then the span size is defined, which is basically the size of the word list that the input word and context samples will be drawn from.  Example, **“the cat sat on the”**span is  \n",
    "**5 = 2 x skip window + 1**"
   ]
  },
  {
   "cell_type": "markdown",
   "metadata": {
    "colab_type": "text",
    "id": "ckJDTgdHwY3n"
   },
   "source": [
    "This buffer will hold a maximum of **span** elements and will be a kind of moving window of words that samples are drawn from.  Whenever a new word index is added to the buffer, the left most element will drop out of the buffer to allow room for the new word index being added.  The position of the buffer in the input text stream is stored in a global variable **data_index** which is incremented each time a new word is added to the buffer.  If it gets to the end of the text stream, the **“% len(data)”** component of the index update will basically reset the count back to zero."
   ]
  },
  {
   "cell_type": "markdown",
   "metadata": {
    "colab_type": "text",
    "id": "jomspLVPwY3p"
   },
   "source": [
    "The first **target** word selected is the word at the center of the span of words and is therefore the input word.   \n",
    "Then other words are randomly selected from the span of words, making sure that the input word is not selected as part of the context, and each context word is unique.  The batch variable will feature repeated input words (buffer[skip_window]) which are matched with each context word in context."
   ]
  },
  {
   "cell_type": "markdown",
   "metadata": {
    "colab_type": "text",
    "id": "sIZw01dhwY3t"
   },
   "source": [
    "At the end of the function the batch and context are returned. Now we have a means of drawing batches of data from the data set.   \n",
    "We now have to create code for word2vec in TF.   \n",
    "We first have to create a validation set to measure our performance. We can do that by measuring the vectors closest together in vector-space, and make sure these words indeed are similar using our knowledge of English."
   ]
  },
  {
   "cell_type": "markdown",
   "metadata": {
    "colab_type": "text",
    "id": "_CzXG3ocwY3v"
   },
   "source": [
    "the code below shows how to grab some random validation words from the most common words in our vocabulary"
   ]
  },
  {
   "cell_type": "code",
   "execution_count": 0,
   "metadata": {
    "colab": {},
    "colab_type": "code",
    "id": "cpQ7qZJKwY3x"
   },
   "outputs": [],
   "source": [
    "# Picking a random validationset to sample nearest neighbors. Here we limit the\n",
    "# validation samples to the words that have a low numeric ID, which by\n",
    "# construction are also the most frequent.\n",
    "valid_size = 16\n",
    "valid_window = 100\n",
    "valid_examples = np.random.choice(valid_window, valid_size, replace = False)\n",
    "num_sampled = 64 #Number of negative examples to sample"
   ]
  },
  {
   "cell_type": "markdown",
   "metadata": {
    "colab_type": "text",
    "id": "KtzELdJhwY4g"
   },
   "source": [
    "Above code randomly chooses 16 integers from 0-100 each corresponding to the integer indexes of the most common 100 words in our text data.  "
   ]
  },
  {
   "cell_type": "markdown",
   "metadata": {
    "colab_type": "text",
    "id": "JPApSO4BwY4w"
   },
   "source": [
    "## The Tensorflow Model"
   ]
  },
  {
   "cell_type": "markdown",
   "metadata": {
    "colab_type": "text",
    "id": "tN2it4PEwY4y"
   },
   "source": [
    "It consists of a NN with a word embedding matrix as the hidden layer, an output softmax layer in TF.  \n",
    "We’ll be learning the best word embedding matrix and therefore we’ll be learning a reduced, context maintaining, mapping of words to vectors."
   ]
  },
  {
   "cell_type": "code",
   "execution_count": 0,
   "metadata": {
    "colab": {},
    "colab_type": "code",
    "id": "FdZ7nH6LwY40"
   },
   "outputs": [],
   "source": [
    "batch_size = 128\n",
    "embedding_size = 128 # Dimension of embedding vactor\n",
    "skip_window = 1      # Words to consider in left and right\n",
    "num_skips = 2        # How many times to reuse an input to generate a context"
   ]
  },
  {
   "cell_type": "markdown",
   "metadata": {
    "colab_type": "text",
    "id": "ERtvTCIWwY49"
   },
   "source": [
    "#### Placeholders\n",
    "We need to define some placeholders that will hold our input words and context words which we are trying to predict.  \n",
    "We also need to create a constant to hold our validation set indexes."
   ]
  },
  {
   "cell_type": "code",
   "execution_count": 0,
   "metadata": {
    "colab": {},
    "colab_type": "code",
    "id": "qawJAa1KwY5D"
   },
   "outputs": [],
   "source": [
    "train_inputs = tf.placeholder(tf.int32, shape = [batch_size])\n",
    "train_context = tf.placeholder(tf.int32, shape = [batch_size, 1])\n",
    "valid_dataset = tf.constant(valid_examples, dtype= tf.int32)"
   ]
  },
  {
   "cell_type": "markdown",
   "metadata": {
    "colab_type": "text",
    "id": "Le1oLORwwY5W"
   },
   "source": [
    "#### Setting up the embedding matrix tensor"
   ]
  },
  {
   "cell_type": "markdown",
   "metadata": {
    "colab_type": "text",
    "id": "4Wod-BCHwY5Y"
   },
   "source": [
    "First we create the embeddings variable, which is effectively the weights of the connections to the linear hidden layer.   \n",
    "We initialize the variable with a random uniform distribution between -1.0 to 1.0.   \n",
    "The size of this variable is **(vocabulary_size, embedding_size)** – the vocabulary_size is the 10,000 words that we have used to setup our data in the previous section.   \n",
    "This is basically our one-hot vector input, where the only element with a value of “1” is the current input word, all the other values are set to “0”.   \n",
    "The second dimension, **embedding_size**, is our hidden layer size, and is the length of our new, smaller, representation of our words.  We can also think of this tensor as a big lookup table – the rows are each word in our vocabulary, and the columns are our new vector representation of each of these words."
   ]
  },
  {
   "cell_type": "code",
   "execution_count": 0,
   "metadata": {
    "colab": {},
    "colab_type": "code",
    "id": "AzdYUHxHwY5f"
   },
   "outputs": [],
   "source": [
    "embeddings = tf.Variable(tf.random_uniform(shape= [vocabulary_size, embedding_size]\n",
    "                                           , minval= -1.0, maxval = 1.0))\n",
    "embed = tf.nn.embedding_lookup(embeddings, train_inputs)"
   ]
  },
  {
   "cell_type": "markdown",
   "metadata": {
    "colab_type": "text",
    "id": "JZyKiW9FwY5n"
   },
   "source": [
    "  Here’s a simplified example (using dummy values), where vocabulary_size=7 and embedding_size=3:"
   ]
  },
  {
   "cell_type": "markdown",
   "metadata": {
    "colab_type": "text",
    "id": "f6k3XGZQwY5r"
   },
   "source": [
    "### $$\\begin{equation} \n",
    "\\begin{array}{c|c c c} \n",
    "anarchism & 0.5 & 0.1 & -0.1\\\\ \n",
    "originated & -0.5 & 0.3 & 0.9 \\\\ \n",
    "as & 0.3 & -0.5 & -0.3 \\\\ \n",
    "a & 0.7 & 0.2 & -0.3\\\\ \n",
    "term & 0.8 & 0.1 & -0.1 \\\\ \n",
    "of & 0.4 & -0.6 & -0.1 \\\\ \n",
    "abuse & 0.7 & 0.1 & -0.4 \n",
    "\\end{array} \n",
    "\\end{equation}$$"
   ]
  },
  {
   "cell_type": "markdown",
   "metadata": {
    "colab_type": "text",
    "id": "j4nI_cvbwY5t"
   },
   "source": [
    "“anarchism” (which would actually be represented by a unique integer or one-hot vector) is now expressed as [0.5, 0.1, -0.1].  \n",
    "We can “look up” anarchism by finding its integer index and searching the rows of embeddings to find the embedding vector: [0.5, 0.1, -0.1]."
   ]
  },
  {
   "cell_type": "markdown",
   "metadata": {
    "colab_type": "text",
    "id": "u2r6wQUAwY5u"
   },
   "source": [
    "**tf.nn.embedding_lookup()** is a useful helper function in TensorFlow for this type of task.  \n",
    "It takes an input vector of integer indexes – in this case our **train_input** tensor of training input words, and “looks up” these indexes in the supplied embeddings tensor.   \n",
    "Therefore, this command will return the current embedding vector for each of the supplied input words in the training batch.  The full embedding tensor will be optimized during the training process."
   ]
  },
  {
   "cell_type": "markdown",
   "metadata": {
    "colab_type": "text",
    "id": "2WXQUYwGwY5v"
   },
   "source": [
    "#### Creating the weights and biases"
   ]
  },
  {
   "cell_type": "code",
   "execution_count": 0,
   "metadata": {
    "colab": {},
    "colab_type": "code",
    "id": "1s11T_siwY5x"
   },
   "outputs": [],
   "source": [
    "# Weights connecting the hiddden and output layers\n",
    "# (out_layer_size, hidden_layer_size) = (vocabulary_size, embedding_size)\n",
    "weights = tf.Variable(tf.truncated_normal([vocabulary_size, embedding_size], stddev= 1.0 / math.sqrt(embedding_size)))\n",
    "\n",
    "# single dimensional and the size of the output layer\n",
    "biases = tf.Variable(tf.zeros([vocabulary_size]))\n",
    "\n",
    "hidden_out = tf.matmul(embed, tf.transpose(weights)) + biases"
   ]
  },
  {
   "cell_type": "markdown",
   "metadata": {
    "colab_type": "text",
    "id": "W9SI5BYJwY52"
   },
   "source": [
    "#### Creating the softmax layer\n",
    "To create a softmax operation and we will use cross entropy loss to optimize the weights, biases and embeddings of the model.  \n",
    "We can use the **tf.nn.softmax_cross_entropy_with_logits** but to use this function we first have to convert the context words / integer indices into one-hot vectors."
   ]
  },
  {
   "cell_type": "code",
   "execution_count": 0,
   "metadata": {
    "colab": {},
    "colab_type": "code",
    "id": "FnKHJ02kwY53"
   },
   "outputs": [],
   "source": [
    "train_one_hot = tf.one_hot(train_context, vocabulary_size )\n",
    "cross_entropy = tf.reduce_mean(tf.nn.softmax_cross_entropy_with_logits_v2(logits = hidden_out\n",
    "                                                                          , labels = train_one_hot))\n",
    "optimizer = tf.train.GradientDescentOptimizer(1.0).minimize(cross_entropy)"
   ]
  },
  {
   "cell_type": "markdown",
   "metadata": {
    "colab_type": "text",
    "id": "eZ0tTyR6wY58"
   },
   "source": [
    "#### The Cosine Similarity"
   ]
  },
  {
   "cell_type": "markdown",
   "metadata": {
    "colab_type": "text",
    "id": "HPuxOn82wY5-"
   },
   "source": [
    "To determine which words are similar to each other, we need to perform some sort of operation that measures the “distances” between the various word embedding vectors for the different words.  In this case, we will use the cosine similarity measure of distance between vectors.  "
   ]
  },
  {
   "cell_type": "markdown",
   "metadata": {
    "colab_type": "text",
    "id": "kPYp7cqowY5_"
   },
   "source": [
    "### $$similarity = cos(\\theta) = \\frac{\\textbf{A}\\cdot\\textbf{B}}{\\parallel\\textbf{A}\\parallel_2 \\parallel \\textbf{B} \\parallel_2}$$"
   ]
  },
  {
   "cell_type": "markdown",
   "metadata": {
    "colab_type": "text",
    "id": "wDej1wHvwY6C"
   },
   "source": [
    "where the double-parallel lines denote the L2-norm.  \n",
    "The best way to calculate the cosine similarity in TensorFlow is to normalize and then simply multiply each one.   \n",
    "$$\\frac{\\textbf{A}}{\\parallel\\textbf{A}\\parallel_2}\n",
    "\\frac{\\textbf{B}}{\\parallel\\textbf{B}\\parallel_2}$$\n",
    "\n",
    "\n",
    "### $$ similarity = cos(\\theta) = \\textbf{A} . \\textbf{B}$$"
   ]
  },
  {
   "cell_type": "code",
   "execution_count": 0,
   "metadata": {
    "colab": {},
    "colab_type": "code",
    "id": "tzUIJjHhwY6D"
   },
   "outputs": [],
   "source": [
    "# Computing the cosine similarity between minibatch examples and all embeddings\n",
    "norm = tf.sqrt(tf.reduce_sum(tf.square(embeddings), axis = 1, keepdims= True))\n",
    "normalized_embeddings = embeddings / norm "
   ]
  },
  {
   "cell_type": "markdown",
   "metadata": {
    "colab_type": "text",
    "id": "mjX5-LwSwY6J"
   },
   "source": [
    "We can look up our validation words / vectors using the **tf.nn.embedding_lookup()**"
   ]
  },
  {
   "cell_type": "code",
   "execution_count": 0,
   "metadata": {
    "colab": {},
    "colab_type": "code",
    "id": "dA9zUzPnwY6N"
   },
   "outputs": [],
   "source": [
    "valid_embeddings = tf.nn.embedding_lookup(normalized_embeddings, valid_dataset)"
   ]
  },
  {
   "cell_type": "markdown",
   "metadata": {
    "colab_type": "text",
    "id": "bMkvCwGZwY6V"
   },
   "source": [
    "We are supplying a list of integers (that correspond to our validation vocabulary words) to the embedding_lookup() function, which looks up these rows in the normalized_embeddings tensor, and returns the subset of validation normalized embeddings.   \n",
    "Now that we have the normalized validation tensor, valid_embeddings, we can multiply this by the full normalized vocabulary (normalized_embedding) to finalize our similarity calculation:"
   ]
  },
  {
   "cell_type": "code",
   "execution_count": 0,
   "metadata": {
    "colab": {},
    "colab_type": "code",
    "id": "bRar8MfewY6W"
   },
   "outputs": [],
   "source": [
    "similarity = tf.matmul(valid_embeddings, normalized_embeddings, transpose_b= True)"
   ]
  },
  {
   "cell_type": "markdown",
   "metadata": {
    "colab_type": "text",
    "id": "BUSvXzSNwY6e"
   },
   "source": [
    "This operation will return a **(validation_size, vocabulary_size)** sized tensor, where each row refers to one of our validation words and the columns refer to the similarity between the validation word and all the other words in the vocabulary."
   ]
  },
  {
   "cell_type": "markdown",
   "metadata": {
    "colab_type": "text",
    "id": "e-vvecYIwY6i"
   },
   "source": [
    "## Running the Tensorflow Model"
   ]
  },
  {
   "cell_type": "code",
   "execution_count": 0,
   "metadata": {
    "colab": {},
    "colab_type": "code",
    "id": "W12QW5NewY6k"
   },
   "outputs": [],
   "source": [
    "graph = tf.get_default_graph()"
   ]
  },
  {
   "cell_type": "code",
   "execution_count": 0,
   "metadata": {
    "colab": {},
    "colab_type": "code",
    "id": "1nHijidlwY6o"
   },
   "outputs": [],
   "source": [
    "def run(graph, num_steps):\n",
    "    with tf.Session(graph= graph) as session:\n",
    "        # Initializing all the variables\n",
    "        init = tf.initialize_all_variables()\n",
    "        init.run()\n",
    "        print('Initialized')\n",
    "\n",
    "#----------------------------------------------------------------------------------------------\n",
    "\n",
    "        #Now we initialize the variables and feed in each data batch to the training loop,\n",
    "        # printing the average loss every 2000 iterations.\n",
    "\n",
    "        average_loss = 0\n",
    "        for step in range(num_steps):\n",
    "            batch_inputs, batch_context = generate_batch(data, batch_size, num_skips, skip_window)\n",
    "            feed_dict = {train_inputs: batch_inputs, train_context: batch_context}\n",
    "            \n",
    "            # We perform one update step by evaluating the optimizer op (including it\n",
    "            # in the list of returned values for session.run()\n",
    "            _, loss_val = session.run([optimizer, cross_entropy], feed_dict = feed_dict)\n",
    "            average_loss = average_loss + loss_val\n",
    "            \n",
    "            if step % 2000 == 0:\n",
    "                if step > 0:\n",
    "                    average_loss /= 2000\n",
    "                # The average loss is an estimate of the loss over the last 2000 batches.\n",
    "                print('Average loss at step {} is {}'.format(step, average_loss))\n",
    "                average_loss = 0\n",
    "\n",
    "#--------------------------------------------------------------------------------------------------\n",
    "            #This function first evaluates the similarity operation, which returns an array of cosine similarity \n",
    "            # values for each of the validation words.  Then we iterate through each of the validation words,\n",
    "            # taking the top 8 closest words by using argsort() on the negative of the similarity to \n",
    "            #arrange the values in descending order. \n",
    "            # The code then prints out these 8 closest words so we can monitor how the embedding process \n",
    "            # is performing.\n",
    "            \n",
    "            if step % 1000 == 0:\n",
    "                sim = similarity.eval()\n",
    "                for i in range(valid_size):\n",
    "                    valid_word = reverse_dictionary[valid_examples[i]]\n",
    "                    top_k = 8\n",
    "                    nearest = (-sim[i, :]).argsort()[1: top_k + 1]\n",
    "                    log_str = 'Nearest to %s:' %valid_word\n",
    "                    for k in range(top_k):\n",
    "                        close_word = reverse_dictionary[nearest[k]]\n",
    "                        log_str = '%s %s,' % (log_str, close_word)\n",
    "                    print(log_str)\n",
    "                    \n",
    "#--------------------------------------------------------------------------------------------------------------\n",
    "        # Finally, after all the training iterations are finished, we can assign the final embeddings \n",
    "        # to a separate tensor for use later (most likely in some sort of other deep learning or\n",
    "        # machine learning process)\n",
    "        \n",
    "        final_embeddings = normalized_embeddings.eval()"
   ]
  },
  {
   "cell_type": "markdown",
   "metadata": {
    "colab_type": "text",
    "id": "zOPbOkQ9wY6y"
   },
   "source": [
    " To print out the words which are most similar to our validation words – we do this by calling the similarity operation we defined above and sorting the results"
   ]
  },
  {
   "cell_type": "code",
   "execution_count": 23,
   "metadata": {
    "colab": {
     "base_uri": "https://localhost:8080/",
     "height": 441
    },
    "colab_type": "code",
    "id": "O9t9y7kWwY60",
    "outputId": "cbc76d04-2b85-4433-f036-fb686282e3c3"
   },
   "outputs": [
    {
     "name": "stdout",
     "output_type": "stream",
     "text": [
      "WARNING:tensorflow:From /usr/local/lib/python3.6/dist-packages/tensorflow/python/util/tf_should_use.py:189: initialize_all_variables (from tensorflow.python.ops.variables) is deprecated and will be removed after 2017-03-02.\n",
      "Instructions for updating:\n",
      "Use `tf.global_variables_initializer` instead.\n",
      "Initialized\n",
      "Average loss at step 0 is 9.373554229736328\n",
      "Nearest to are: dawn, pursuing, legitimacy, appear, million, scales, countryside, isaac,\n",
      "Nearest to more: coastal, peters, once, conscious, eternal, specialized, benjamin, absent,\n",
      "Nearest to they: usually, layout, session, nationals, nfl, detail, contents, comet,\n",
      "Nearest to often: dollars, williams, mazda, ep, joyce, react, manner, secret,\n",
      "Nearest to most: isn, radios, dual, stream, formerly, recall, battle, rahman,\n",
      "Nearest to such: judged, signed, shifting, memes, occupying, peer, javascript, uniforms,\n",
      "Nearest to there: ryan, letter, brother, port, half, connection, rapper, ipv,\n",
      "Nearest to so: permanently, resurrection, successes, decisions, mainframe, eliminate, notably, propose,\n",
      "Nearest to not: investigations, operation, thomas, their, favor, reluctant, arab, hanging,\n",
      "Nearest to seven: byron, gang, ruler, room, en, ethiopian, where, fascist,\n",
      "Nearest to war: allegedly, zones, consist, commodore, peel, participate, grains, federal,\n",
      "Nearest to over: advantage, mutation, discovered, abilities, dream, emma, tubes, biological,\n",
      "Nearest to all: critically, tightly, atmosphere, believers, backwards, annotated, models, nose,\n",
      "Nearest to i: compact, flemish, inducted, anticipated, lamp, scientific, footballer, evaluation,\n",
      "Nearest to state: fatal, monitoring, contracted, australians, descended, shows, palmer, generation,\n",
      "Nearest to that: voluntary, psychologist, rope, diagrams, theme, sufficiently, research, converts,\n",
      "Softmax method took 10.232436 minutes to run 100 iterations\n"
     ]
    }
   ],
   "source": [
    "num_steps = 100\n",
    "softmax_start_time = dt.datetime.now()\n",
    "run(graph, num_steps=num_steps)\n",
    "softmax_end_time = dt.datetime.now()\n",
    "print(\"Softmax method took {} minutes to run 100 iterations\".format((softmax_end_time-softmax_start_time).total_seconds()))\n"
   ]
  },
  {
   "cell_type": "code",
   "execution_count": 24,
   "metadata": {
    "colab": {
     "base_uri": "https://localhost:8080/",
     "height": 15206
    },
    "colab_type": "code",
    "id": "YP5oN9lcwY7D",
    "outputId": "7fbdcaf9-21b5-44ce-f423-04e9812489df"
   },
   "outputs": [
    {
     "name": "stdout",
     "output_type": "stream",
     "text": [
      "Initialized\n",
      "Average loss at step 0 is 9.366310119628906\n",
      "Nearest to are: genre, residence, composer, fate, hired, manga, associative, announcement,\n",
      "Nearest to more: honors, anywhere, gathering, stay, bid, converting, produces, contributors,\n",
      "Nearest to they: northeastern, photo, lt, caste, bow, endless, eugene, tremendous,\n",
      "Nearest to often: gordon, amazon, click, apollo, scientists, green, consist, politics,\n",
      "Nearest to most: evangelical, loose, interestingly, paramount, haydn, radios, offices, international,\n",
      "Nearest to such: was, well, exodus, mechanisms, julius, whilst, sovereignty, site,\n",
      "Nearest to there: kyrgyzstan, aerospace, arrow, monster, edited, imagery, spencer, tallest,\n",
      "Nearest to so: utc, cruz, cited, ruins, neutrality, lesbian, walter, medicine,\n",
      "Nearest to not: cayman, alpha, overthrow, melbourne, machinery, quad, nobel, chris,\n",
      "Nearest to seven: muscles, diamond, holding, singers, confederacy, secure, stood, knowledge,\n",
      "Nearest to war: sean, empirical, faster, paint, however, druze, carbonate, schedule,\n",
      "Nearest to over: cross, room, relies, lisbon, protected, jos, legends, cycles,\n",
      "Nearest to all: planted, eleanor, georg, lineage, alt, trademark, bringing, foundations,\n",
      "Nearest to i: rs, harris, vision, already, photographic, salary, communism, activity,\n",
      "Nearest to state: hall, decrease, warsaw, kids, hard, flame, kirk, voluntary,\n",
      "Nearest to that: stories, timothy, hardware, manganese, importance, emergency, sphere, theodore,\n",
      "Nearest to are: genre, composer, autism, members, hired, encouraged, fate, college,\n",
      "Nearest to more: farmer, sections, united, gas, national, stay, eight, city,\n",
      "Nearest to they: so, about, includes, difficult, politics, iii, utc, events,\n",
      "Nearest to often: politics, public, apollo, gordon, consist, some, through, importance,\n",
      "Nearest to most: international, evangelical, cooperation, films, loose, twenty, abraham, art,\n",
      "Nearest to such: well, was, site, exports, things, culture, nine, symptoms,\n",
      "Nearest to there: edited, play, within, ended, awards, written, receiving, character,\n",
      "Nearest to so: utc, republican, they, world, novel, short, own, literature,\n",
      "Nearest to not: alpha, national, successful, assassinated, five, where, generation, makes,\n",
      "Nearest to seven: confederacy, knowledge, holding, secure, studied, nine, time, council,\n",
      "Nearest to war: however, sex, empirical, fish, fundamentally, investigation, coming, that,\n",
      "Nearest to over: room, arab, legends, relies, was, battle, receiving, her,\n",
      "Nearest to all: area, bringing, round, council, autism, son, morality, fire,\n",
      "Nearest to i: vision, already, communism, harris, tat, influence, brunswick, widely,\n",
      "Nearest to state: their, essence, book, john, between, sahara, act, hard,\n",
      "Nearest to that: including, average, health, increase, importance, mentioned, stories, consist,\n",
      "Average loss at step 2000 is 9.343250393867493\n",
      "Nearest to are: genre, composer, autism, encouraged, members, fate, college, residence,\n",
      "Nearest to more: vs, farmer, stay, anywhere, sections, converting, gas, gathering,\n",
      "Nearest to they: includes, austin, so, vs, iii, about, gender, utc,\n",
      "Nearest to often: apollo, politics, beam, public, importance, gordon, scientists, consist,\n",
      "Nearest to most: evangelical, international, loose, twenty, cooperation, art, films, l,\n",
      "Nearest to such: well, vs, was, site, philosophies, things, culture, exports,\n",
      "Nearest to there: edited, arrow, play, within, ended, imagery, vulnerable, written,\n",
      "Nearest to so: utc, republican, they, novel, medicine, world, short, literature,\n",
      "Nearest to not: alpha, melbourne, generation, vs, successful, where, assassinated, national,\n",
      "Nearest to seven: confederacy, vs, asia, secure, holding, studied, nine, knowledge,\n",
      "Nearest to war: however, empirical, sex, fish, sample, gore, fundamentally, extraterrestrial,\n",
      "Nearest to over: room, arab, legends, cross, relies, protected, battle, troubled,\n",
      "Nearest to all: area, bringing, round, council, central, autism, son, fire,\n",
      "Nearest to i: already, vision, harris, communism, widely, vs, tat, influence,\n",
      "Nearest to state: arithmetic, processes, hard, ii, sahara, essence, photos, their,\n",
      "Nearest to that: UNK, vs, including, health, average, users, followed, claiming,\n",
      "Nearest to are: genre, cl, composer, autism, crew, prefer, UNK, encouraged,\n",
      "Nearest to more: vs, stay, ada, farmer, anywhere, cl, sections, gas,\n",
      "Nearest to they: photo, includes, so, iii, austin, gender, technology, utc,\n",
      "Nearest to often: apollo, politics, gordon, beam, green, importance, consist, scientists,\n",
      "Nearest to most: evangelical, loose, twenty, international, combustion, art, cooperation, categories,\n",
      "Nearest to such: well, vs, was, site, philosophies, exports, things, culture,\n",
      "Nearest to there: ada, edited, arrow, imagery, ended, vulnerable, play, UNK,\n",
      "Nearest to so: utc, republican, novel, they, medicine, cl, world, literature,\n",
      "Nearest to not: alpha, melbourne, generation, successful, where, poorly, ada, assassinated,\n",
      "Nearest to seven: nine, confederacy, secure, cl, asia, holding, studied, vs,\n",
      "Nearest to war: however, cl, empirical, sex, fish, sample, fundamentally, extraterrestrial,\n",
      "Nearest to over: room, cross, arab, legends, relies, cl, protected, ada,\n",
      "Nearest to all: planted, UNK, area, bringing, round, ada, food, council,\n",
      "Nearest to i: vision, already, harris, communism, widely, influence, lower, tat,\n",
      "Nearest to state: hard, cl, hall, arithmetic, processes, learned, ii, interested,\n",
      "Nearest to that: UNK, vs, including, emergency, users, health, percent, average,\n",
      "Average loss at step 4000 is 9.312233126163482\n",
      "Nearest to are: genre, cl, composer, prefer, crew, autism, exploration, encouraged,\n",
      "Nearest to more: vs, stay, anywhere, ada, farmer, sections, cl, converting,\n",
      "Nearest to they: photo, includes, so, iii, austin, gender, technology, vs,\n",
      "Nearest to often: apollo, gordon, politics, consist, beam, importance, green, scientists,\n",
      "Nearest to most: evangelical, loose, UNK, twenty, international, combustion, art, categories,\n",
      "Nearest to such: well, vs, site, philosophies, was, exports, sovereignty, things,\n",
      "Nearest to there: ada, arrow, edited, imagery, vulnerable, ended, written, play,\n",
      "Nearest to so: utc, republican, novel, they, agave, medicine, literature, cl,\n",
      "Nearest to not: alpha, overthrow, melbourne, generation, nobel, agave, successful, where,\n",
      "Nearest to seven: cl, nine, confederacy, agave, vs, secure, holding, muscles,\n",
      "Nearest to war: however, cl, empirical, faster, sex, sample, fish, fundamentally,\n",
      "Nearest to over: room, cross, arab, legends, relies, protected, cl, troubled,\n",
      "Nearest to all: planted, area, bringing, round, food, trademark, guns, ada,\n",
      "Nearest to i: vision, already, harris, communism, widely, turkey, influence, defines,\n",
      "Nearest to state: UNK, hard, hall, processes, arithmetic, decrease, learned, cl,\n",
      "Nearest to that: UNK, vs, percent, including, agave, emergency, health, users,\n",
      "Nearest to are: genre, prefer, cl, composer, exploration, autism, crew, worth,\n",
      "Nearest to more: vs, stay, anywhere, farmer, ada, penguin, sections, converting,\n",
      "Nearest to they: photo, includes, so, iii, gender, austin, technology, utc,\n",
      "Nearest to often: consist, apollo, beam, gordon, importance, politics, green, scientists,\n",
      "Nearest to most: evangelical, loose, twenty, international, interestingly, tries, combustion, haydn,\n",
      "Nearest to such: well, vs, philosophies, exports, was, site, sovereignty, symptoms,\n",
      "Nearest to there: ada, edited, arrow, imagery, vulnerable, ended, written, play,\n",
      "Nearest to so: utc, republican, they, novel, medicine, agave, literature, short,\n",
      "Nearest to not: alpha, overthrow, melbourne, generation, nobel, successful, agave, where,\n",
      "Nearest to seven: cl, nine, agave, vs, holding, secure, confederacy, muscles,\n",
      "Nearest to war: however, cl, empirical, faster, recursive, fish, sample, sex,\n",
      "Nearest to over: room, cross, arab, legends, relies, protected, troubled, cycles,\n",
      "Nearest to all: planted, area, UNK, round, bringing, food, trademark, guns,\n",
      "Nearest to i: vision, harris, already, communism, widely, turkey, influence, defines,\n",
      "Nearest to state: hall, decrease, UNK, hard, learned, ibid, processes, arithmetic,\n",
      "Nearest to that: vs, emergency, agave, percent, including, average, users, hardware,\n",
      "Average loss at step 6000 is 9.316981376647949\n",
      "Nearest to are: genre, prefer, exploration, composer, newer, cl, numbering, worth,\n",
      "Nearest to more: stay, vs, anywhere, honors, farmer, ada, sections, produces,\n",
      "Nearest to they: photo, iii, so, gender, includes, lt, austin, technology,\n",
      "Nearest to often: consist, apollo, beam, gordon, politics, importance, green, scientists,\n",
      "Nearest to most: evangelical, loose, twenty, interestingly, tries, international, haydn, negative,\n",
      "Nearest to such: well, vs, philosophies, exports, sovereignty, site, symptoms, was,\n",
      "Nearest to there: edited, ada, arrow, imagery, vulnerable, ended, written, within,\n",
      "Nearest to so: utc, republican, novel, medicine, they, cited, walter, agave,\n",
      "Nearest to not: alpha, generation, melbourne, overthrow, nobel, successful, enters, agave,\n",
      "Nearest to seven: nine, zero, cl, secure, agave, holding, confederacy, vs,\n",
      "Nearest to war: however, cl, empirical, faster, automated, recursive, fish, sample,\n",
      "Nearest to over: room, cross, relies, legends, arab, protected, cycles, troubled,\n",
      "Nearest to all: UNK, planted, area, trademark, food, round, bringing, guns,\n",
      "Nearest to i: vision, rs, harris, communism, already, turkey, widely, photographic,\n",
      "Nearest to state: hall, decrease, hard, processes, interested, ibid, learned, arithmetic,\n",
      "Nearest to that: emergency, UNK, vs, including, agave, percent, average, users,\n",
      "Nearest to are: genre, prefer, UNK, cl, exploration, composer, newer, worth,\n",
      "Nearest to more: stay, honors, anywhere, vs, farmer, sections, converting, produces,\n",
      "Nearest to they: photo, gender, iii, so, includes, lt, tremendous, gb,\n",
      "Nearest to often: consist, beam, gordon, apollo, importance, politics, green, blocks,\n",
      "Nearest to most: evangelical, loose, interestingly, tries, twenty, international, negative, critical,\n",
      "Nearest to such: well, vs, rigid, philosophies, sovereignty, exports, symptoms, site,\n",
      "Nearest to there: arrow, edited, ada, imagery, aerospace, vulnerable, arrangements, ended,\n",
      "Nearest to so: utc, republican, novel, medicine, they, cited, neutrality, walter,\n",
      "Nearest to not: alpha, generation, melbourne, nobel, successful, enters, overthrow, agave,\n",
      "Nearest to seven: nine, zero, cl, secure, agave, confederacy, holding, vs,\n",
      "Nearest to war: however, empirical, cl, faster, paint, automated, fundamentally, recursive,\n",
      "Nearest to over: room, cross, relies, legends, arab, protected, cycles, troubled,\n",
      "Nearest to all: planted, UNK, food, trademark, area, bringing, round, ada,\n",
      "Nearest to i: vision, harris, rs, communism, already, turkey, decided, widely,\n",
      "Nearest to state: hall, decrease, hard, interested, processes, ibid, learned, arithmetic,\n",
      "Nearest to that: UNK, emergency, including, vs, agave, percent, average, ki,\n",
      "Average loss at step 8000 is 9.311911934375763\n",
      "Nearest to are: genre, prefer, were, cl, newer, vikings, exploration, composer,\n",
      "Nearest to more: stay, honors, vs, psi, anywhere, farmer, sections, converting,\n",
      "Nearest to they: photo, gender, so, iii, lt, includes, bow, tremendous,\n",
      "Nearest to often: consist, beam, apollo, gordon, politics, importance, green, blocks,\n",
      "Nearest to most: evangelical, loose, interestingly, tries, twenty, negative, international, critical,\n",
      "Nearest to such: well, vs, philosophies, sovereignty, rigid, exports, symptoms, site,\n",
      "Nearest to there: arrow, edited, ada, aerospace, imagery, vulnerable, arrangements, ended,\n",
      "Nearest to so: utc, republican, novel, they, medicine, cited, neutrality, existence,\n",
      "Nearest to not: alpha, generation, successful, melbourne, psi, nobel, enters, agave,\n",
      "Nearest to seven: nine, zero, cl, agave, secure, vs, confederacy, phi,\n",
      "Nearest to war: however, empirical, cl, faster, phi, paint, fundamentally, automated,\n",
      "Nearest to over: room, cross, legends, relies, arab, protected, cycles, troubled,\n",
      "Nearest to all: planted, trademark, rabbi, area, food, bringing, round, UNK,\n",
      "Nearest to i: vision, harris, rs, communism, already, turkey, decided, phi,\n",
      "Nearest to state: hall, decrease, hard, processes, interested, ibid, arithmetic, learned,\n",
      "Nearest to that: agave, vs, emergency, including, UNK, which, ride, psi,\n",
      "Nearest to are: genre, prefer, were, is, newer, cl, composer, vikings,\n",
      "Nearest to more: stay, vs, honors, psi, anywhere, farmer, sections, converting,\n",
      "Nearest to they: photo, so, gender, iii, lt, includes, bow, tremendous,\n",
      "Nearest to often: consist, beam, apollo, gordon, importance, politics, green, blocks,\n",
      "Nearest to most: evangelical, loose, interestingly, tries, twenty, negative, critical, international,\n",
      "Nearest to such: well, exodus, vs, nine, philosophies, rigid, sovereignty, exports,\n",
      "Nearest to there: arrow, edited, ada, aerospace, imagery, vulnerable, arrangements, ended,\n",
      "Nearest to so: utc, ruins, they, novel, republican, medicine, cited, UNK,\n",
      "Nearest to not: alpha, nobel, melbourne, successful, generation, enters, psi, hungary,\n",
      "Nearest to seven: nine, cl, agave, zero, vs, phi, confederacy, holding,\n",
      "Nearest to war: however, empirical, cl, faster, phi, paint, fundamentally, automated,\n",
      "Nearest to over: room, cross, legends, relies, arab, protected, six, cycles,\n",
      "Nearest to all: planted, rabbi, area, trademark, food, bringing, georg, round,\n",
      "Nearest to i: vision, harris, communism, rs, already, turkey, phi, decided,\n",
      "Nearest to state: hall, decrease, hard, processes, interested, learned, ibid, arithmetic,\n",
      "Nearest to that: agave, emergency, vs, including, timothy, ride, percent, psi,\n",
      "Average loss at step 10000 is 9.30097336244583\n",
      "Nearest to are: genre, were, is, prefer, vikings, newer, cl, exploration,\n",
      "Nearest to more: stay, honors, anywhere, vs, psi, farmer, converting, sections,\n",
      "Nearest to they: photo, so, gender, iii, lt, bow, includes, tremendous,\n",
      "Nearest to often: consist, beam, apollo, gordon, importance, politics, green, blocks,\n",
      "Nearest to most: evangelical, loose, interestingly, tries, negative, twenty, sweet, critical,\n",
      "Nearest to such: well, exodus, vs, philosophies, nine, sovereignty, rigid, symptoms,\n",
      "Nearest to there: arrow, edited, ada, aerospace, imagery, vulnerable, arrangements, written,\n",
      "Nearest to so: utc, ruins, they, medicine, novel, republican, cited, lesbian,\n",
      "Nearest to not: alpha, successful, generation, enters, hungary, nobel, melbourne, psi,\n",
      "Nearest to seven: nine, zero, cl, agave, phi, vs, confederacy, secure,\n",
      "Nearest to war: however, empirical, cl, phi, faster, fundamentally, automated, paint,\n",
      "Nearest to over: room, cross, relies, legends, six, cycles, protected, arab,\n",
      "Nearest to all: planted, rabbi, area, trademark, food, bringing, georg, round,\n",
      "Nearest to i: vision, harris, communism, rs, already, turkey, phi, decided,\n",
      "Nearest to state: hall, decrease, hard, interested, voluntary, processes, ibid, learned,\n",
      "Nearest to that: agave, emergency, including, vs, which, timothy, ki, ride,\n",
      "Nearest to are: were, genre, is, prefer, newer, vikings, cl, wolfgang,\n",
      "Nearest to more: stay, honors, psi, vs, anywhere, farmer, converting, produces,\n",
      "Nearest to they: so, photo, gender, iii, bow, lt, includes, tremendous,\n",
      "Nearest to often: consist, beam, apollo, gordon, importance, blocks, politics, green,\n",
      "Nearest to most: evangelical, loose, tries, interestingly, twenty, negative, haydn, sweet,\n",
      "Nearest to such: well, exodus, philosophies, vs, sovereignty, rigid, symptoms, julius,\n",
      "Nearest to there: edited, arrow, ada, imagery, aerospace, vulnerable, arrangements, written,\n",
      "Nearest to so: utc, ruins, they, medicine, republican, novel, lesbian, cited,\n",
      "Nearest to not: alpha, successful, enters, generation, hungary, nobel, melbourne, ca,\n",
      "Nearest to seven: nine, zero, cl, agave, eight, phi, vs, psi,\n",
      "Nearest to war: however, empirical, fundamentally, cl, faster, paint, automated, phi,\n",
      "Nearest to over: room, cross, relies, cycles, six, legends, protected, arab,\n",
      "Nearest to all: planted, rabbi, area, food, trademark, bringing, eleanor, georg,\n",
      "Nearest to i: vision, harris, communism, rs, already, turkey, decided, phi,\n",
      "Nearest to state: hall, decrease, hard, processes, voluntary, interested, ibid, learned,\n",
      "Nearest to that: agave, emergency, including, timothy, which, said, vs, ride,\n",
      "Average loss at step 12000 is 9.304696701526641\n",
      "Nearest to are: were, genre, is, prefer, newer, vikings, was, wolfgang,\n",
      "Nearest to more: stay, psi, honors, vs, farmer, anywhere, converting, produces,\n",
      "Nearest to they: so, photo, gender, bow, we, lt, iii, tremendous,\n",
      "Nearest to often: consist, beam, apollo, gordon, importance, blocks, politics, queen,\n",
      "Nearest to most: evangelical, loose, interestingly, tries, negative, twenty, sweet, haydn,\n",
      "Nearest to such: well, exodus, philosophies, vs, sovereignty, julius, symptoms, rigid,\n",
      "Nearest to there: arrow, edited, imagery, aerospace, kyrgyzstan, vulnerable, arrangements, ada,\n",
      "Nearest to so: utc, ruins, they, lesbian, medicine, republican, neutrality, cited,\n",
      "Nearest to not: alpha, successful, enters, generation, melbourne, psi, hungary, express,\n",
      "Nearest to seven: nine, cl, zero, agave, eight, phi, vs, psi,\n",
      "Nearest to war: however, empirical, cl, fundamentally, faster, paint, phi, automated,\n",
      "Nearest to over: room, cross, relies, six, cycles, protected, legends, troubled,\n",
      "Nearest to all: planted, rabbi, food, trademark, foundations, bringing, area, georg,\n",
      "Nearest to i: vision, harris, communism, rs, turkey, already, phi, decided,\n",
      "Nearest to state: hall, decrease, hard, processes, voluntary, learned, ibid, interested,\n",
      "Nearest to that: agave, emergency, including, said, which, vs, timothy, consist,\n",
      "Nearest to are: were, genre, is, newer, prefer, vikings, was, be,\n",
      "Nearest to more: stay, honors, psi, farmer, anywhere, vs, converting, produces,\n",
      "Nearest to they: so, we, photo, he, bow, gender, iii, tremendous,\n",
      "Nearest to often: consist, beam, apollo, gordon, importance, also, blocks, radar,\n",
      "Nearest to most: evangelical, loose, tries, interestingly, negative, twenty, haydn, sweet,\n",
      "Nearest to such: well, exodus, philosophies, sovereignty, vs, julius, symptoms, exports,\n",
      "Nearest to there: arrow, edited, kyrgyzstan, imagery, aerospace, arrangements, vulnerable, ada,\n",
      "Nearest to so: utc, ruins, they, lesbian, medicine, cited, republican, neutrality,\n",
      "Nearest to not: alpha, successful, enters, generation, melbourne, ca, hungary, psi,\n",
      "Nearest to seven: nine, zero, cl, eight, agave, phi, vs, three,\n",
      "Nearest to war: however, empirical, fundamentally, automated, paint, faster, cl, phi,\n",
      "Nearest to over: room, cross, relies, cycles, protected, legends, six, troubled,\n",
      "Nearest to all: planted, rabbi, foundations, food, trademark, area, bringing, georg,\n",
      "Nearest to i: harris, vision, communism, rs, turkey, suffer, already, tat,\n",
      "Nearest to state: hall, decrease, hard, processes, voluntary, ibid, interested, warsaw,\n",
      "Nearest to that: emergency, including, which, agave, said, timothy, consist, vs,\n",
      "Average loss at step 14000 is 9.292778599739075\n",
      "Nearest to are: were, is, genre, newer, was, prefer, vikings, cl,\n",
      "Nearest to more: honors, stay, psi, farmer, vs, anywhere, converting, produces,\n",
      "Nearest to they: we, so, he, bow, iii, photo, gender, not,\n",
      "Nearest to often: consist, beam, also, apollo, gordon, radar, importance, somewhere,\n",
      "Nearest to most: evangelical, loose, tries, interestingly, negative, twenty, connecticut, haydn,\n",
      "Nearest to such: well, exodus, philosophies, vs, nine, sovereignty, julius, rigid,\n",
      "Nearest to there: edited, arrow, imagery, kyrgyzstan, arrangements, aerospace, vulnerable, ada,\n",
      "Nearest to so: utc, ruins, they, lesbian, medicine, republican, cited, neutrality,\n",
      "Nearest to not: alpha, successful, enters, generation, psi, hungary, melbourne, express,\n",
      "Nearest to seven: nine, zero, cl, eight, agave, vs, phi, five,\n",
      "Nearest to war: however, empirical, fundamentally, automated, paint, faster, carbonate, rose,\n",
      "Nearest to over: room, cross, cycles, relies, protected, troubled, six, legends,\n",
      "Nearest to all: planted, rabbi, foundations, trademark, food, area, bringing, georg,\n",
      "Nearest to i: harris, vision, communism, rs, turkey, suffer, already, tat,\n",
      "Nearest to state: hall, decrease, hard, processes, voluntary, flame, ibid, interested,\n",
      "Nearest to that: which, agave, said, including, emergency, timothy, vs, consist,\n",
      "Nearest to are: were, is, genre, newer, vikings, prefer, be, was,\n",
      "Nearest to more: honors, stay, farmer, psi, anywhere, vs, converting, produces,\n",
      "Nearest to they: we, he, so, bow, photo, iii, gender, not,\n",
      "Nearest to often: consist, beam, also, radar, gordon, somewhere, importance, blocks,\n",
      "Nearest to most: evangelical, loose, tries, interestingly, negative, twenty, connecticut, haydn,\n",
      "Nearest to such: well, exodus, philosophies, nine, vs, sovereignty, julius, rigid,\n",
      "Nearest to there: edited, arrow, arrangements, imagery, kyrgyzstan, aerospace, vulnerable, band,\n",
      "Nearest to so: utc, ruins, they, medicine, lesbian, republican, neutrality, cited,\n",
      "Nearest to not: alpha, successful, enters, generation, psi, hungary, they, separated,\n",
      "Nearest to seven: nine, zero, cl, eight, agave, UNK, phi, vs,\n",
      "Nearest to war: however, empirical, cl, fundamentally, automated, phi, faster, paint,\n",
      "Nearest to over: room, cross, cycles, relies, six, protected, legends, troubled,\n",
      "Nearest to all: planted, rabbi, foundations, trademark, area, food, eleanor, bringing,\n",
      "Nearest to i: harris, vision, communism, rs, turkey, already, tat, suffer,\n",
      "Nearest to state: hall, decrease, hard, processes, voluntary, ibid, flame, interested,\n",
      "Nearest to that: agave, said, which, timothy, vs, emergency, consist, including,\n",
      "Average loss at step 16000 is 9.292821500301361\n",
      "Nearest to are: were, is, newer, genre, was, prefer, be, vikings,\n",
      "Nearest to more: stay, honors, psi, farmer, vs, anywhere, converting, produces,\n",
      "Nearest to they: we, he, so, not, bow, gender, photo, iii,\n",
      "Nearest to often: consist, also, beam, radar, somewhere, gordon, blocks, sometimes,\n",
      "Nearest to most: evangelical, loose, tries, interestingly, negative, twenty, connecticut, haydn,\n",
      "Nearest to such: well, exodus, philosophies, vs, julius, sovereignty, rigid, symptoms,\n",
      "Nearest to there: edited, arrow, arrangements, imagery, kyrgyzstan, aerospace, vulnerable, he,\n",
      "Nearest to so: utc, ruins, they, lesbian, republican, neutrality, medicine, cited,\n",
      "Nearest to not: alpha, successful, enters, generation, hungary, psi, they, described,\n",
      "Nearest to seven: nine, zero, eight, five, cl, three, agave, four,\n",
      "Nearest to war: however, empirical, fundamentally, paint, automated, cl, faster, phi,\n",
      "Nearest to over: room, cycles, cross, relies, six, protected, troubled, UNK,\n",
      "Nearest to all: planted, foundations, rabbi, trademark, area, eleanor, food, georg,\n",
      "Nearest to i: harris, vision, turkey, communism, rs, already, phi, tat,\n",
      "Nearest to state: hall, decrease, UNK, processes, voluntary, hard, ibid, warsaw,\n",
      "Nearest to that: agave, said, which, timothy, vs, emergency, ki, psi,\n",
      "Nearest to are: were, is, newer, genre, was, vikings, prefer, be,\n",
      "Nearest to more: stay, honors, psi, farmer, anywhere, vs, converting, produces,\n",
      "Nearest to they: he, we, so, not, bow, gender, iii, tremendous,\n",
      "Nearest to often: consist, also, beam, radar, somewhere, gordon, sometimes, blocks,\n",
      "Nearest to most: evangelical, loose, tries, interestingly, negative, twenty, connecticut, haydn,\n",
      "Nearest to such: well, exodus, philosophies, vs, julius, sovereignty, symptoms, rigid,\n",
      "Nearest to there: edited, arrow, arrangements, imagery, kyrgyzstan, aerospace, vulnerable, he,\n",
      "Nearest to so: utc, ruins, lesbian, they, neutrality, republican, medicine, cited,\n",
      "Nearest to not: alpha, successful, hungary, enters, generation, they, psi, separated,\n",
      "Nearest to seven: nine, zero, eight, cl, five, three, agave, one,\n",
      "Nearest to war: however, empirical, fundamentally, automated, paint, cl, faster, phi,\n",
      "Nearest to over: room, six, cycles, cross, relies, nine, troubled, protected,\n",
      "Nearest to all: planted, foundations, rabbi, trademark, area, georg, eleanor, round,\n",
      "Nearest to i: harris, vision, turkey, communism, already, rs, phi, copyright,\n",
      "Nearest to state: hall, decrease, hard, processes, voluntary, warsaw, flame, interested,\n",
      "Nearest to that: which, agave, said, timothy, vs, emergency, ki, consist,\n",
      "Average loss at step 18000 is 9.289095400333405\n",
      "Nearest to are: were, is, was, genre, newer, be, vikings, prefer,\n",
      "Nearest to more: stay, honors, farmer, psi, anywhere, converting, vs, produces,\n",
      "Nearest to they: he, we, so, not, bow, gender, tremendous, iii,\n",
      "Nearest to often: consist, also, beam, radar, sometimes, somewhere, importance, blocks,\n",
      "Nearest to most: evangelical, loose, tries, interestingly, negative, twenty, connecticut, sweet,\n",
      "Nearest to such: well, exodus, philosophies, vs, rigid, julius, sovereignty, symptoms,\n",
      "Nearest to there: edited, arrow, kyrgyzstan, arrangements, imagery, aerospace, vulnerable, he,\n",
      "Nearest to so: utc, ruins, lesbian, they, neutrality, medicine, republican, cited,\n",
      "Nearest to not: alpha, successful, enters, hungary, they, psi, generation, separated,\n",
      "Nearest to seven: nine, zero, eight, five, cl, three, UNK, two,\n",
      "Nearest to war: empirical, however, fundamentally, paint, automated, faster, carbonate, cl,\n",
      "Nearest to over: room, cycles, six, cross, relies, nine, troubled, protected,\n",
      "Nearest to all: planted, foundations, rabbi, trademark, georg, area, eleanor, food,\n",
      "Nearest to i: harris, vision, turkey, phi, sagan, communism, already, mosque,\n",
      "Nearest to state: hall, decrease, hard, processes, voluntary, flame, warsaw, interested,\n",
      "Nearest to that: which, said, agave, timothy, including, vs, emergency, ki,\n",
      "Nearest to are: were, is, was, newer, genre, be, wolfgang, vikings,\n",
      "Nearest to more: stay, honors, farmer, psi, anywhere, converting, vs, bid,\n",
      "Nearest to they: he, we, so, not, bow, gender, tremendous, iii,\n",
      "Nearest to often: also, consist, beam, radar, importance, sometimes, somewhere, blocks,\n",
      "Nearest to most: evangelical, loose, tries, negative, interestingly, twenty, connecticut, haydn,\n",
      "Nearest to such: well, exodus, philosophies, vs, symptoms, sovereignty, julius, rigid,\n",
      "Nearest to there: edited, arrangements, arrow, kyrgyzstan, imagery, aerospace, he, vulnerable,\n",
      "Nearest to so: utc, ruins, they, lesbian, neutrality, medicine, republican, novel,\n",
      "Nearest to not: alpha, they, successful, enters, hungary, finals, generation, separated,\n",
      "Nearest to seven: nine, zero, eight, five, three, cl, four, six,\n",
      "Nearest to war: however, empirical, fundamentally, automated, paint, faster, carbonate, rose,\n",
      "Nearest to over: room, cycles, cross, six, relies, protected, troubled, legends,\n",
      "Nearest to all: planted, foundations, rabbi, trademark, eleanor, area, georg, calculation,\n",
      "Nearest to i: harris, vision, turkey, communism, already, copyright, rs, tat,\n",
      "Nearest to state: hall, decrease, hard, processes, voluntary, flame, warsaw, interested,\n",
      "Nearest to that: which, timothy, agave, said, vs, including, emergency, consist,\n",
      "Average loss at step 20000 is 9.298170056343078\n",
      "Nearest to are: were, is, was, newer, genre, wolfgang, be, vikings,\n",
      "Nearest to more: stay, honors, farmer, psi, anywhere, converting, vs, bid,\n",
      "Nearest to they: he, we, so, not, bow, gender, tremendous, photo,\n",
      "Nearest to often: also, consist, beam, radar, sometimes, importance, somewhere, blocks,\n",
      "Nearest to most: evangelical, loose, tries, negative, interestingly, sweet, twenty, radios,\n",
      "Nearest to such: well, exodus, philosophies, mechanisms, sovereignty, vs, viewed, julius,\n",
      "Nearest to there: edited, arrangements, kyrgyzstan, arrow, he, aerospace, imagery, vulnerable,\n",
      "Nearest to so: utc, ruins, they, lesbian, neutrality, republican, medicine, cited,\n",
      "Nearest to not: alpha, they, successful, hungary, enters, generation, finals, to,\n",
      "Nearest to seven: nine, zero, eight, five, three, six, four, cl,\n",
      "Nearest to war: empirical, however, automated, fundamentally, paint, faster, carbonate, cl,\n",
      "Nearest to over: room, cross, cycles, relies, into, troubled, six, protected,\n",
      "Nearest to all: planted, foundations, rabbi, trademark, eleanor, georg, calculation, area,\n",
      "Nearest to i: harris, vision, turkey, communism, already, sagan, copyright, phi,\n",
      "Nearest to state: hall, decrease, hard, processes, flame, ibid, warsaw, voluntary,\n",
      "Nearest to that: which, agave, said, timothy, it, vs, ki, including,\n",
      "Nearest to are: were, is, was, newer, genre, be, wolfgang, vikings,\n",
      "Nearest to more: stay, honors, farmer, psi, converting, anywhere, vs, bid,\n",
      "Nearest to they: he, we, so, not, bow, gender, tremendous, that,\n",
      "Nearest to often: also, consist, beam, sometimes, radar, importance, somewhere, blocks,\n",
      "Nearest to most: evangelical, loose, tries, negative, interestingly, twenty, radios, sweet,\n",
      "Nearest to such: well, exodus, philosophies, mechanisms, vs, sovereignty, viewed, julius,\n",
      "Nearest to there: arrangements, edited, arrow, kyrgyzstan, he, imagery, aerospace, vulnerable,\n",
      "Nearest to so: utc, ruins, they, lesbian, neutrality, medicine, cited, republican,\n",
      "Nearest to not: alpha, they, successful, to, hungary, enters, finals, separated,\n",
      "Nearest to seven: nine, zero, eight, three, five, four, six, cl,\n",
      "Nearest to war: empirical, however, automated, fundamentally, paint, cl, faster, phi,\n",
      "Nearest to over: room, cycles, cross, six, nine, relies, into, troubled,\n",
      "Nearest to all: planted, foundations, rabbi, eleanor, trademark, georg, calculation, round,\n",
      "Nearest to i: harris, vision, turkey, communism, already, copyright, sagan, rs,\n",
      "Nearest to state: hall, hard, decrease, processes, interested, voluntary, ibid, warsaw,\n",
      "Nearest to that: which, agave, said, it, timothy, this, clark, ki,\n",
      "Average loss at step 22000 is 9.301935600280762\n",
      "Nearest to are: were, is, newer, was, genre, wolfgang, be, vikings,\n",
      "Nearest to more: stay, honors, farmer, psi, converting, anywhere, vs, meetings,\n",
      "Nearest to they: he, we, so, not, bow, tremendous, that, gender,\n",
      "Nearest to often: also, consist, beam, sometimes, radar, importance, somewhere, blocks,\n",
      "Nearest to most: evangelical, loose, asbestos, tries, negative, interestingly, radios, twenty,\n",
      "Nearest to such: well, exodus, philosophies, mechanisms, sovereignty, julius, vs, viewed,\n",
      "Nearest to there: arrangements, edited, arrow, he, kyrgyzstan, aerospace, imagery, it,\n",
      "Nearest to so: UNK, utc, ruins, they, lesbian, neutrality, republican, medicine,\n",
      "Nearest to not: alpha, they, successful, enters, hungary, to, finals, separated,\n",
      "Nearest to seven: nine, zero, eight, three, five, six, four, two,\n",
      "Nearest to war: empirical, however, automated, fundamentally, paint, cl, phi, faster,\n",
      "Nearest to over: room, cycles, cross, into, relies, troubled, protected, jos,\n",
      "Nearest to all: planted, foundations, rabbi, eleanor, trademark, georg, calculation, food,\n",
      "Nearest to i: harris, vision, turkey, already, copyright, sagan, communism, tat,\n",
      "Nearest to state: hall, hard, decrease, processes, warsaw, interested, voluntary, ibid,\n",
      "Nearest to that: which, agave, said, it, this, timothy, clark, psi,\n",
      "Nearest to are: were, is, newer, wolfgang, was, genre, be, prefer,\n",
      "Nearest to more: stay, honors, farmer, psi, converting, anywhere, vs, meetings,\n",
      "Nearest to they: he, we, not, so, bow, tremendous, it, gender,\n",
      "Nearest to often: also, consist, beam, sometimes, radar, importance, somewhere, blocks,\n",
      "Nearest to most: evangelical, loose, asbestos, tries, interestingly, negative, radios, twenty,\n",
      "Nearest to such: well, exodus, philosophies, mechanisms, vs, sovereignty, julius, rigid,\n",
      "Nearest to there: arrangements, edited, he, arrow, kyrgyzstan, aerospace, it, imagery,\n",
      "Nearest to so: utc, ruins, lesbian, they, neutrality, republican, medicine, cited,\n",
      "Nearest to not: alpha, they, successful, finals, to, enters, we, hungary,\n",
      "Nearest to seven: nine, eight, zero, six, five, three, cl, agave,\n",
      "Nearest to war: empirical, however, automated, fundamentally, paint, cl, phi, faster,\n",
      "Nearest to over: room, cycles, cross, into, relies, protected, troubled, nine,\n",
      "Nearest to all: planted, foundations, eleanor, rabbi, trademark, calculation, georg, spheres,\n",
      "Nearest to i: harris, vision, turkey, UNK, sagan, phi, already, copyright,\n",
      "Nearest to state: hall, hard, decrease, processes, warsaw, voluntary, interested, ibid,\n",
      "Nearest to that: which, it, agave, this, timothy, said, what, clark,\n",
      "Average loss at step 24000 is 9.295577569007873\n",
      "Nearest to are: were, is, newer, was, wolfgang, genre, be, vikings,\n",
      "Nearest to more: stay, honors, farmer, psi, converting, anywhere, vs, meetings,\n",
      "Nearest to they: he, we, not, so, it, bow, that, who,\n",
      "Nearest to often: also, consist, sometimes, beam, radar, somewhere, importance, blocks,\n",
      "Nearest to most: evangelical, loose, asbestos, tries, negative, interestingly, twenty, sweet,\n",
      "Nearest to such: well, exodus, philosophies, mechanisms, sovereignty, viewed, vs, julius,\n",
      "Nearest to there: arrangements, edited, he, arrow, kyrgyzstan, it, aerospace, imagery,\n",
      "Nearest to so: utc, ruins, lesbian, they, neutrality, UNK, republican, medicine,\n",
      "Nearest to not: alpha, they, successful, to, finals, enters, separated, hungary,\n",
      "Nearest to seven: nine, eight, zero, five, six, three, four, two,\n",
      "Nearest to war: however, empirical, fundamentally, automated, cl, paint, phi, faster,\n",
      "Nearest to over: room, cycles, into, cross, relies, six, troubled, protected,\n",
      "Nearest to all: planted, foundations, eleanor, trademark, rabbi, calculation, spheres, georg,\n",
      "Nearest to i: harris, vision, turkey, sagan, copyright, tat, already, communism,\n",
      "Nearest to state: hall, hard, decrease, processes, warsaw, voluntary, interested, ibid,\n",
      "Nearest to that: which, it, this, agave, timothy, said, ki, vs,\n",
      "Nearest to are: were, is, newer, was, wolfgang, be, genre, vikings,\n",
      "Nearest to more: stay, honors, farmer, psi, converting, anywhere, vs, meetings,\n",
      "Nearest to they: he, we, not, so, it, bow, that, who,\n",
      "Nearest to often: also, consist, sometimes, beam, radar, somewhere, blocks, importance,\n",
      "Nearest to most: evangelical, loose, asbestos, tries, negative, interestingly, twenty, radios,\n",
      "Nearest to such: well, exodus, philosophies, mechanisms, vs, sovereignty, julius, viewed,\n",
      "Nearest to there: he, arrangements, edited, kyrgyzstan, it, arrow, aerospace, vulnerable,\n",
      "Nearest to so: utc, ruins, lesbian, they, neutrality, medicine, republican, cited,\n",
      "Nearest to not: they, to, alpha, finals, we, successful, enters, hungary,\n",
      "Nearest to seven: nine, eight, zero, five, six, three, four, two,\n",
      "Nearest to war: empirical, however, automated, fundamentally, paint, cl, faster, phi,\n",
      "Nearest to over: room, cycles, into, cross, nine, relies, troubled, six,\n",
      "Nearest to all: planted, foundations, eleanor, calculation, rabbi, trademark, spheres, georg,\n",
      "Nearest to i: harris, vision, turkey, sagan, copyright, phi, communism, rs,\n",
      "Nearest to state: hall, hard, decrease, processes, warsaw, voluntary, ibid, interested,\n",
      "Nearest to that: which, this, it, agave, said, ki, timothy, vs,\n",
      "Average loss at step 26000 is 9.296681433200837\n",
      "Nearest to are: were, is, newer, was, wolfgang, be, genre, have,\n",
      "Nearest to more: honors, stay, farmer, psi, converting, anywhere, vs, meetings,\n",
      "Nearest to they: he, we, not, so, bow, it, tremendous, who,\n",
      "Nearest to often: also, sometimes, consist, beam, radar, somewhere, blocks, usually,\n",
      "Nearest to most: evangelical, loose, asbestos, tries, negative, interestingly, twenty, radios,\n",
      "Nearest to such: well, exodus, philosophies, mechanisms, vs, sovereignty, viewed, julius,\n",
      "Nearest to there: he, arrangements, edited, it, kyrgyzstan, arrow, aerospace, imagery,\n",
      "Nearest to so: ruins, utc, lesbian, they, neutrality, medicine, republican, cited,\n",
      "Nearest to not: they, to, alpha, finals, successful, we, enters, hungary,\n",
      "Nearest to seven: nine, eight, six, five, three, zero, four, cl,\n",
      "Nearest to war: empirical, however, automated, fundamentally, cl, phi, paint, rose,\n",
      "Nearest to over: room, cycles, into, cross, six, troubled, relies, at,\n",
      "Nearest to all: planted, foundations, eleanor, calculation, trademark, rabbi, spheres, mary,\n",
      "Nearest to i: harris, vision, turkey, sagan, copyright, rs, tat, already,\n",
      "Nearest to state: hall, hard, decrease, warsaw, processes, voluntary, ibid, interested,\n",
      "Nearest to that: which, it, this, said, agave, timothy, ki, clark,\n",
      "Nearest to are: were, is, newer, was, wolfgang, be, have, and,\n",
      "Nearest to more: honors, farmer, stay, psi, converting, anywhere, vs, meetings,\n",
      "Nearest to they: he, we, not, so, bow, it, tremendous, who,\n",
      "Nearest to often: also, sometimes, consist, beam, radar, somewhere, usually, blocks,\n",
      "Nearest to most: evangelical, loose, asbestos, tries, negative, interestingly, twenty, radios,\n",
      "Nearest to such: well, exodus, philosophies, mechanisms, nine, vs, sovereignty, viewed,\n",
      "Nearest to there: he, arrangements, edited, it, kyrgyzstan, arrow, aerospace, imagery,\n",
      "Nearest to so: ruins, utc, lesbian, they, neutrality, medicine, republican, cited,\n",
      "Nearest to not: they, to, alpha, finals, we, successful, enters, hungary,\n",
      "Nearest to seven: eight, nine, zero, six, three, five, four, cl,\n",
      "Nearest to war: empirical, automated, however, fundamentally, cl, phi, rose, investigation,\n",
      "Nearest to over: room, cycles, into, cross, troubled, relies, at, six,\n",
      "Nearest to all: planted, foundations, eleanor, calculation, trademark, spheres, rabbi, alt,\n",
      "Nearest to i: harris, vision, turkey, sagan, copyright, phi, tat, rs,\n",
      "Nearest to state: hall, hard, decrease, processes, warsaw, voluntary, ibid, interested,\n",
      "Nearest to that: which, it, this, said, agave, ki, timothy, clark,\n",
      "Average loss at step 28000 is 9.295549057006836\n",
      "Nearest to are: were, is, newer, be, wolfgang, have, was, vikings,\n",
      "Nearest to more: farmer, stay, honors, psi, converting, anywhere, vs, meetings,\n",
      "Nearest to they: he, we, not, so, bow, it, who, tremendous,\n",
      "Nearest to often: also, sometimes, consist, beam, radar, usually, somewhere, blocks,\n",
      "Nearest to most: evangelical, loose, asbestos, tries, negative, interestingly, twenty, sweet,\n",
      "Nearest to such: well, exodus, philosophies, mechanisms, sovereignty, viewed, nine, vs,\n",
      "Nearest to there: he, it, edited, arrangements, kyrgyzstan, arrow, vulnerable, aerospace,\n",
      "Nearest to so: ruins, utc, they, lesbian, neutrality, republican, medicine, cited,\n",
      "Nearest to not: they, we, finals, alpha, successful, to, enters, ca,\n",
      "Nearest to seven: nine, eight, six, five, zero, four, three, two,\n",
      "Nearest to war: empirical, automated, however, fundamentally, cl, phi, paint, investigation,\n",
      "Nearest to over: room, cycles, into, cross, six, troubled, relies, at,\n",
      "Nearest to all: planted, foundations, calculation, eleanor, spheres, trademark, mary, alt,\n",
      "Nearest to i: harris, vision, turkey, sagan, copyright, phi, tat, already,\n",
      "Nearest to state: hall, hard, decrease, processes, warsaw, voluntary, ibid, interested,\n",
      "Nearest to that: which, it, this, said, agave, ki, timothy, what,\n",
      "Nearest to are: were, is, newer, be, wolfgang, have, and, was,\n",
      "Nearest to more: farmer, stay, honors, psi, converting, anywhere, meetings, vs,\n",
      "Nearest to they: he, we, not, so, bow, it, that, who,\n",
      "Nearest to often: also, sometimes, consist, beam, usually, radar, somewhere, blocks,\n",
      "Nearest to most: evangelical, loose, asbestos, tries, negative, interestingly, sweet, twenty,\n",
      "Nearest to such: well, exodus, philosophies, mechanisms, viewed, sovereignty, julius, vs,\n",
      "Nearest to there: it, he, edited, arrangements, kyrgyzstan, arrow, aerospace, vulnerable,\n",
      "Nearest to so: ruins, utc, they, lesbian, neutrality, republican, medicine, cited,\n",
      "Nearest to not: they, to, we, finals, alpha, successful, enters, who,\n",
      "Nearest to seven: nine, eight, six, five, zero, four, three, two,\n",
      "Nearest to war: empirical, automated, cl, fundamentally, phi, however, paint, investigation,\n",
      "Nearest to over: room, into, cycles, cross, six, troubled, relies, at,\n",
      "Nearest to all: planted, foundations, calculation, eleanor, spheres, trademark, mary, alt,\n",
      "Nearest to i: harris, vision, turkey, sagan, copyright, phi, tat, already,\n",
      "Nearest to state: hall, hard, decrease, warsaw, processes, voluntary, ibid, interested,\n",
      "Nearest to that: which, this, it, said, agave, what, vs, ki,\n",
      "Average loss at step 30000 is 9.301156883716583\n",
      "Nearest to are: were, is, newer, and, be, have, was, wolfgang,\n",
      "Nearest to more: farmer, stay, psi, honors, converting, anywhere, vs, less,\n",
      "Nearest to they: he, we, not, so, bow, who, it, tremendous,\n",
      "Nearest to often: also, sometimes, consist, usually, beam, radar, somewhere, blocks,\n",
      "Nearest to most: evangelical, loose, asbestos, tries, negative, interestingly, sweet, art,\n",
      "Nearest to such: well, exodus, mechanisms, philosophies, viewed, sovereignty, follows, julius,\n",
      "Nearest to there: he, it, edited, arrangements, kyrgyzstan, zero, arrow, vulnerable,\n",
      "Nearest to so: ruins, utc, they, lesbian, neutrality, republican, medicine, cited,\n",
      "Nearest to not: they, to, we, finals, alpha, successful, who, hungary,\n",
      "Nearest to seven: nine, eight, six, five, zero, four, three, two,\n",
      "Nearest to war: empirical, automated, however, fundamentally, cl, phi, paint, faster,\n",
      "Nearest to over: room, into, cycles, cross, six, troubled, relies, at,\n",
      "Nearest to all: foundations, planted, calculation, eleanor, spheres, trademark, alt, axis,\n",
      "Nearest to i: harris, vision, turkey, sagan, tat, copyright, phi, already,\n",
      "Nearest to state: hall, hard, decrease, warsaw, processes, voluntary, UNK, flame,\n",
      "Nearest to that: which, this, it, said, agave, what, ki, vs,\n",
      "Nearest to are: were, is, newer, be, have, wolfgang, was, and,\n",
      "Nearest to more: farmer, stay, psi, honors, converting, less, vs, anywhere,\n",
      "Nearest to they: he, we, not, so, it, bow, that, who,\n",
      "Nearest to often: also, sometimes, consist, usually, beam, radar, somewhere, UNK,\n",
      "Nearest to most: evangelical, loose, asbestos, tries, negative, interestingly, radios, haydn,\n",
      "Nearest to such: well, exodus, mechanisms, philosophies, viewed, vs, sovereignty, follows,\n",
      "Nearest to there: he, it, arrangements, edited, zero, kyrgyzstan, arrow, said,\n",
      "Nearest to so: ruins, utc, they, lesbian, neutrality, republican, medicine, simpsons,\n",
      "Nearest to not: they, to, we, finals, alpha, successful, who, hungary,\n",
      "Nearest to seven: nine, eight, five, six, three, four, zero, cl,\n",
      "Nearest to war: empirical, automated, however, fundamentally, paint, druze, rose, cl,\n",
      "Nearest to over: room, into, cycles, six, cross, relies, at, troubled,\n",
      "Nearest to all: foundations, planted, calculation, eleanor, spheres, trademark, alt, axis,\n",
      "Nearest to i: harris, vision, turkey, sagan, copyright, tat, already, phi,\n",
      "Nearest to state: hall, hard, decrease, warsaw, processes, voluntary, flame, ibid,\n",
      "Nearest to that: which, this, it, said, agave, what, psi, vs,\n",
      "Average loss at step 32000 is 9.295041133403778\n",
      "Nearest to are: were, is, newer, have, be, wolfgang, acceptable, projected,\n",
      "Nearest to more: farmer, stay, honors, psi, converting, less, anywhere, vs,\n",
      "Nearest to they: he, we, not, who, so, there, bow, it,\n",
      "Nearest to often: also, sometimes, consist, usually, beam, radar, somewhere, frequently,\n",
      "Nearest to most: evangelical, loose, asbestos, tries, negative, interestingly, radios, haydn,\n",
      "Nearest to such: well, exodus, mechanisms, philosophies, viewed, follows, vs, as,\n",
      "Nearest to there: he, it, edited, arrangements, said, arrow, kyrgyzstan, zero,\n",
      "Nearest to so: ruins, they, utc, lesbian, neutrality, republican, medicine, psi,\n",
      "Nearest to not: they, to, we, finals, who, alpha, successful, enters,\n",
      "Nearest to seven: nine, eight, five, six, four, three, zero, two,\n",
      "Nearest to war: empirical, automated, however, fundamentally, paint, druze, sex, exploited,\n",
      "Nearest to over: room, into, cycles, cross, six, relies, at, troubled,\n",
      "Nearest to all: foundations, planted, calculation, eleanor, spheres, axis, trademark, rabbi,\n",
      "Nearest to i: harris, turkey, vision, sagan, copyright, phi, already, tat,\n",
      "Nearest to state: hall, hard, decrease, warsaw, processes, voluntary, UNK, flame,\n",
      "Nearest to that: which, this, it, what, said, agave, hosts, ki,\n",
      "Nearest to are: were, is, newer, have, be, wolfgang, acceptable, associative,\n",
      "Nearest to more: farmer, psi, stay, honors, less, converting, anywhere, vs,\n",
      "Nearest to they: he, we, not, so, who, it, there, bow,\n",
      "Nearest to often: also, sometimes, consist, usually, beam, radar, somewhere, frequently,\n",
      "Nearest to most: evangelical, loose, asbestos, tries, negative, interestingly, haydn, radios,\n",
      "Nearest to such: well, exodus, mechanisms, philosophies, viewed, known, follows, as,\n",
      "Nearest to there: he, it, arrangements, edited, they, said, arrow, kyrgyzstan,\n",
      "Nearest to so: ruins, they, utc, lesbian, neutrality, republican, psi, medicine,\n",
      "Nearest to not: they, to, we, finals, alpha, successful, ca, enters,\n",
      "Nearest to seven: eight, nine, six, five, four, three, zero, two,\n",
      "Nearest to war: automated, empirical, druze, however, fundamentally, rose, paint, cl,\n",
      "Nearest to over: room, into, cycles, cross, at, relies, jos, troubled,\n",
      "Nearest to all: foundations, planted, calculation, eleanor, spheres, axis, trademark, rabbi,\n",
      "Nearest to i: harris, turkey, vision, sagan, copyright, already, tat, phi,\n",
      "Nearest to state: hall, hard, decrease, processes, warsaw, voluntary, flame, learned,\n",
      "Nearest to that: which, this, it, what, agave, said, ki, timothy,\n",
      "Average loss at step 34000 is 9.302686657428742\n",
      "Nearest to are: were, is, newer, have, nine, be, wolfgang, associative,\n",
      "Nearest to more: farmer, psi, stay, honors, converting, less, anywhere, vs,\n",
      "Nearest to they: he, we, not, who, there, it, so, bow,\n",
      "Nearest to often: also, sometimes, consist, usually, radar, beam, somewhere, frequently,\n",
      "Nearest to most: evangelical, loose, asbestos, tries, negative, interestingly, haydn, anarchist,\n",
      "Nearest to such: well, exodus, mechanisms, philosophies, viewed, other, as, follows,\n",
      "Nearest to there: it, he, zero, arrangements, edited, they, kyrgyzstan, arrow,\n",
      "Nearest to so: ruins, they, utc, lesbian, neutrality, republican, medicine, psi,\n",
      "Nearest to not: they, we, to, finals, alpha, successful, ca, enters,\n",
      "Nearest to seven: eight, nine, five, six, four, three, zero, two,\n",
      "Nearest to war: automated, empirical, druze, cl, however, rose, fundamentally, phi,\n",
      "Nearest to over: room, into, cycles, cross, six, relies, troubled, at,\n",
      "Nearest to all: foundations, planted, calculation, eleanor, spheres, axis, trademark, rabbi,\n",
      "Nearest to i: harris, turkey, vision, copyright, sagan, phi, tat, already,\n",
      "Nearest to state: hall, hard, decrease, warsaw, processes, voluntary, flame, learned,\n",
      "Nearest to that: which, it, this, agave, what, said, ki, timothy,\n",
      "Nearest to are: were, is, newer, have, be, wolfgang, acceptable, nine,\n",
      "Nearest to more: farmer, psi, less, stay, honors, converting, than, not,\n",
      "Nearest to they: he, we, not, it, there, who, so, bow,\n",
      "Nearest to often: also, sometimes, consist, usually, beam, somewhere, radar, frequently,\n",
      "Nearest to most: evangelical, loose, asbestos, tries, negative, interestingly, anarchist, alpha,\n",
      "Nearest to such: well, exodus, mechanisms, philosophies, viewed, other, as, known,\n",
      "Nearest to there: it, he, arrangements, they, edited, zero, said, arrow,\n",
      "Nearest to so: ruins, they, utc, lesbian, neutrality, republican, psi, medicine,\n",
      "Nearest to not: they, to, we, alpha, finals, successful, ca, psi,\n",
      "Nearest to seven: nine, eight, six, five, four, three, zero, two,\n",
      "Nearest to war: automated, empirical, druze, rose, cl, fundamentally, however, paint,\n",
      "Nearest to over: room, into, cycles, cross, at, troubled, six, baldwin,\n",
      "Nearest to all: foundations, planted, calculation, eleanor, spheres, axis, trademark, alt,\n",
      "Nearest to i: harris, turkey, vision, phi, sagan, copyright, tat, mosque,\n",
      "Nearest to state: hard, hall, decrease, processes, warsaw, voluntary, flame, learned,\n",
      "Nearest to that: which, this, it, agave, ki, what, said, vs,\n",
      "Average loss at step 36000 is 9.301634378910064\n",
      "Nearest to are: were, is, newer, have, be, nine, wolfgang, acceptable,\n",
      "Nearest to more: farmer, psi, less, honors, stay, converting, than, vs,\n",
      "Nearest to they: he, we, not, there, it, so, who, you,\n",
      "Nearest to often: also, sometimes, usually, consist, beam, frequently, radar, somewhere,\n",
      "Nearest to most: evangelical, asbestos, tries, loose, negative, interestingly, anarchist, haydn,\n",
      "Nearest to such: well, exodus, mechanisms, philosophies, viewed, other, as, known,\n",
      "Nearest to there: it, he, they, arrangements, edited, said, arrow, kyrgyzstan,\n",
      "Nearest to so: ruins, they, utc, lesbian, psi, republican, phi, agave,\n",
      "Nearest to not: they, we, to, finals, ca, alpha, successful, perhaps,\n",
      "Nearest to seven: eight, nine, six, four, five, three, zero, one,\n",
      "Nearest to war: automated, empirical, rose, druze, however, paint, fundamentally, cl,\n",
      "Nearest to over: room, into, cycles, cross, at, troubled, regarding, baldwin,\n",
      "Nearest to all: foundations, planted, calculation, spheres, eleanor, axis, trademark, round,\n",
      "Nearest to i: harris, turkey, vision, sagan, copyright, phi, tat, already,\n",
      "Nearest to state: hard, hall, decrease, processes, warsaw, voluntary, flame, learned,\n",
      "Nearest to that: which, this, it, agave, said, ki, what, timothy,\n",
      "Nearest to are: were, is, newer, have, be, nine, wolfgang, was,\n",
      "Nearest to more: farmer, less, honors, converting, stay, psi, crosby, not,\n",
      "Nearest to they: he, we, not, there, it, who, you, so,\n",
      "Nearest to often: also, sometimes, usually, consist, beam, frequently, radar, somewhere,\n",
      "Nearest to most: evangelical, tries, loose, asbestos, negative, interestingly, radios, sweet,\n",
      "Nearest to such: well, exodus, mechanisms, philosophies, viewed, other, as, known,\n",
      "Nearest to there: it, he, arrangements, they, edited, said, zero, arrow,\n",
      "Nearest to so: ruins, they, utc, UNK, lesbian, psi, republican, neutrality,\n",
      "Nearest to not: they, to, we, successful, finals, considered, unable, perhaps,\n",
      "Nearest to seven: eight, nine, six, five, four, three, zero, two,\n",
      "Nearest to war: automated, empirical, rose, druze, cl, paint, however, fundamentally,\n",
      "Nearest to over: room, into, cycles, cross, at, only, six, when,\n",
      "Nearest to all: foundations, calculation, planted, spheres, eleanor, axis, round, trademark,\n",
      "Nearest to i: harris, turkey, vision, copyright, sagan, rs, phi, already,\n",
      "Nearest to state: hard, hall, processes, decrease, warsaw, voluntary, learned, flame,\n",
      "Nearest to that: which, this, it, agave, said, what, ki, timothy,\n",
      "Average loss at step 38000 is 9.30125691986084\n",
      "Nearest to are: were, is, newer, have, be, was, nine, acceptable,\n",
      "Nearest to more: farmer, psi, less, honors, stay, converting, than, crosby,\n",
      "Nearest to they: he, we, not, there, you, it, who, so,\n",
      "Nearest to often: also, sometimes, usually, consist, frequently, radar, beam, somewhere,\n",
      "Nearest to most: evangelical, tries, loose, asbestos, negative, interestingly, sweet, radios,\n",
      "Nearest to such: well, exodus, mechanisms, philosophies, other, viewed, known, as,\n",
      "Nearest to there: it, he, they, arrangements, edited, said, arrow, kyrgyzstan,\n",
      "Nearest to so: ruins, they, utc, lesbian, psi, republican, neutrality, werner,\n",
      "Nearest to not: they, to, we, finals, considered, successful, unable, perhaps,\n",
      "Nearest to seven: eight, nine, six, four, five, three, zero, cl,\n",
      "Nearest to war: automated, empirical, druze, rose, however, cl, paint, fundamentally,\n",
      "Nearest to over: room, into, cycles, cross, six, at, through, only,\n",
      "Nearest to all: foundations, calculation, planted, eleanor, spheres, axis, trademark, allegiance,\n",
      "Nearest to i: harris, turkey, vision, copyright, sagan, phi, rs, we,\n",
      "Nearest to state: hard, hall, processes, decrease, voluntary, warsaw, learned, flame,\n",
      "Nearest to that: which, this, it, agave, ki, what, said, timothy,\n",
      "Nearest to are: were, is, newer, have, nine, be, acceptable, cl,\n",
      "Nearest to more: less, farmer, psi, stay, honors, converting, than, crosby,\n",
      "Nearest to they: he, we, not, there, you, it, who, so,\n",
      "Nearest to often: also, sometimes, usually, consist, frequently, radar, somewhere, beam,\n",
      "Nearest to most: evangelical, tries, asbestos, loose, negative, interestingly, sweet, radios,\n",
      "Nearest to such: well, exodus, mechanisms, other, known, philosophies, viewed, as,\n",
      "Nearest to there: it, he, they, arrangements, edited, zero, kyrgyzstan, said,\n",
      "Nearest to so: ruins, they, lesbian, utc, psi, republican, neutrality, cited,\n",
      "Nearest to not: they, we, considered, finals, been, successful, to, perhaps,\n",
      "Nearest to seven: eight, nine, six, four, five, three, zero, cl,\n",
      "Nearest to war: automated, empirical, rose, druze, cl, however, paint, phi,\n",
      "Nearest to over: room, into, cycles, cross, at, through, when, six,\n",
      "Nearest to all: foundations, calculation, planted, eleanor, spheres, axis, allegiance, round,\n",
      "Nearest to i: harris, turkey, vision, phi, sagan, copyright, rs, mosque,\n",
      "Nearest to state: hard, hall, processes, decrease, voluntary, warsaw, flame, interested,\n",
      "Nearest to that: which, this, it, what, ki, said, agave, he,\n",
      "Average loss at step 40000 is 9.300550780773163\n",
      "Nearest to are: were, is, newer, have, zero, cl, wolfgang, nine,\n",
      "Nearest to more: farmer, less, psi, stay, honors, converting, than, crosby,\n",
      "Nearest to they: he, we, not, there, it, you, who, so,\n",
      "Nearest to often: also, sometimes, usually, consist, frequently, radar, somewhere, beam,\n",
      "Nearest to most: evangelical, tries, asbestos, loose, negative, radios, interestingly, sweet,\n",
      "Nearest to such: well, exodus, mechanisms, other, known, viewed, philosophies, follows,\n",
      "Nearest to there: it, he, they, zero, arrangements, edited, said, kyrgyzstan,\n",
      "Nearest to so: they, ruins, lesbian, utc, psi, republican, neutrality, werner,\n",
      "Nearest to not: they, we, finals, been, considered, successful, ca, unable,\n",
      "Nearest to seven: eight, six, four, nine, five, three, zero, two,\n",
      "Nearest to war: automated, empirical, rose, druze, cl, however, paint, phi,\n",
      "Nearest to over: room, into, cycles, six, only, cross, five, through,\n",
      "Nearest to all: foundations, calculation, planted, eleanor, spheres, axis, allegiance, rabbi,\n",
      "Nearest to i: harris, turkey, vision, phi, sagan, rs, copyright, tat,\n",
      "Nearest to state: hard, hall, processes, voluntary, decrease, warsaw, flame, interested,\n",
      "Nearest to that: which, this, it, what, said, agave, ki, he,\n",
      "Nearest to are: were, is, have, newer, be, wolfgang, was, acceptable,\n",
      "Nearest to more: farmer, less, stay, converting, honors, psi, than, crosby,\n",
      "Nearest to they: he, we, not, it, there, you, who, bow,\n",
      "Nearest to often: also, sometimes, usually, consist, frequently, radar, somewhere, beam,\n",
      "Nearest to most: evangelical, tries, loose, asbestos, negative, radios, interestingly, anarchist,\n",
      "Nearest to such: well, exodus, mechanisms, other, known, viewed, philosophies, follows,\n",
      "Nearest to there: it, he, they, arrangements, said, edited, kyrgyzstan, arrow,\n",
      "Nearest to so: they, ruins, lesbian, utc, neutrality, republican, psi, werner,\n",
      "Nearest to not: they, to, we, been, successful, finals, considered, able,\n",
      "Nearest to seven: eight, six, nine, four, five, three, zero, two,\n",
      "Nearest to war: automated, empirical, rose, druze, paint, however, fundamentally, cl,\n",
      "Nearest to over: room, into, cycles, cross, at, only, through, six,\n",
      "Nearest to all: foundations, planted, calculation, spheres, eleanor, axis, allegiance, rabbi,\n",
      "Nearest to i: harris, turkey, UNK, vision, phi, sagan, rs, copyright,\n",
      "Nearest to state: hard, hall, processes, decrease, voluntary, warsaw, flame, interested,\n",
      "Nearest to that: which, this, it, what, ki, said, agave, he,\n",
      "Average loss at step 42000 is 9.299345346927643\n",
      "Nearest to are: were, is, have, newer, nine, be, acceptable, wolfgang,\n",
      "Nearest to more: farmer, less, converting, stay, honors, psi, than, crosby,\n",
      "Nearest to they: he, we, not, it, there, you, who, that,\n",
      "Nearest to often: also, sometimes, usually, consist, frequently, somewhere, still, easily,\n",
      "Nearest to most: evangelical, tries, asbestos, loose, negative, radios, interestingly, sweet,\n",
      "Nearest to such: well, exodus, mechanisms, other, known, philosophies, viewed, nine,\n",
      "Nearest to there: it, he, they, arrangements, edited, said, zero, kyrgyzstan,\n",
      "Nearest to so: lesbian, they, ruins, utc, werner, republican, neutrality, medicine,\n",
      "Nearest to not: they, to, we, been, finals, considered, successful, it,\n",
      "Nearest to seven: eight, six, five, four, nine, three, zero, two,\n",
      "Nearest to war: automated, empirical, rose, druze, cl, paint, however, phi,\n",
      "Nearest to over: room, into, cycles, cross, only, six, through, troubled,\n",
      "Nearest to all: foundations, calculation, planted, spheres, eleanor, allegiance, axis, rabbi,\n",
      "Nearest to i: harris, turkey, vision, copyright, sagan, rs, tat, phi,\n",
      "Nearest to state: hard, hall, processes, decrease, voluntary, warsaw, flame, ibid,\n",
      "Nearest to that: which, this, it, what, said, ki, agave, they,\n",
      "Nearest to are: were, is, have, newer, nine, be, acceptable, was,\n",
      "Nearest to more: less, farmer, converting, psi, stay, honors, than, not,\n",
      "Nearest to they: he, we, not, it, there, you, who, that,\n",
      "Nearest to often: also, sometimes, usually, consist, frequently, easily, somewhere, still,\n",
      "Nearest to most: evangelical, tries, asbestos, loose, negative, radios, interestingly, sweet,\n",
      "Nearest to such: well, exodus, mechanisms, other, known, viewed, philosophies, as,\n",
      "Nearest to there: it, he, they, arrangements, edited, said, arrow, kyrgyzstan,\n",
      "Nearest to so: they, lesbian, ruins, utc, republican, psi, neutrality, medicine,\n",
      "Nearest to not: they, to, we, finals, able, considered, successful, ca,\n",
      "Nearest to seven: eight, six, five, four, nine, three, zero, two,\n",
      "Nearest to war: automated, empirical, rose, druze, paint, however, cl, phi,\n",
      "Nearest to over: room, into, cycles, six, cross, only, at, through,\n",
      "Nearest to all: foundations, calculation, planted, spheres, axis, allegiance, eleanor, rabbi,\n",
      "Nearest to i: harris, turkey, vision, copyright, phi, sagan, rs, we,\n",
      "Nearest to state: hard, hall, processes, decrease, warsaw, voluntary, flame, ibid,\n",
      "Nearest to that: which, this, it, what, said, agave, ki, they,\n",
      "Average loss at step 44000 is 9.298075640201569\n",
      "Nearest to are: were, is, have, newer, nine, be, acceptable, was,\n",
      "Nearest to more: less, farmer, converting, psi, stay, honors, than, crosby,\n",
      "Nearest to they: he, we, not, it, there, you, who, so,\n",
      "Nearest to often: also, sometimes, usually, consist, frequently, still, somewhere, easily,\n",
      "Nearest to most: evangelical, tries, loose, asbestos, negative, radios, sweet, anarchist,\n",
      "Nearest to such: well, exodus, mechanisms, other, known, philosophies, viewed, follows,\n",
      "Nearest to there: it, he, they, arrangements, said, edited, zero, arrow,\n",
      "Nearest to so: lesbian, they, ruins, psi, utc, republican, neutrality, medicine,\n",
      "Nearest to not: they, to, we, finals, able, considered, ca, successful,\n",
      "Nearest to seven: six, eight, nine, five, four, three, zero, two,\n",
      "Nearest to war: automated, empirical, cl, rose, phi, druze, however, paint,\n",
      "Nearest to over: room, into, cycles, six, through, only, at, cross,\n",
      "Nearest to all: foundations, calculation, planted, spheres, axis, eleanor, allegiance, UNK,\n",
      "Nearest to i: harris, turkey, vision, copyright, we, sagan, rs, phi,\n",
      "Nearest to state: hard, processes, hall, warsaw, decrease, voluntary, flame, ibid,\n",
      "Nearest to that: which, it, this, what, said, ki, agave, they,\n",
      "Nearest to are: were, is, have, newer, nine, be, was, acceptable,\n",
      "Nearest to more: less, farmer, converting, psi, stay, honors, crosby, than,\n",
      "Nearest to they: he, we, it, there, not, you, who, bow,\n",
      "Nearest to often: also, sometimes, usually, consist, frequently, still, somewhere, easily,\n",
      "Nearest to most: evangelical, tries, asbestos, loose, negative, radios, anarchist, sweet,\n",
      "Nearest to such: well, exodus, mechanisms, other, known, philosophies, viewed, as,\n",
      "Nearest to there: it, he, they, zero, arrangements, said, edited, kyrgyzstan,\n",
      "Nearest to so: lesbian, ruins, they, utc, psi, republican, neutrality, werner,\n",
      "Nearest to not: to, they, we, finals, ca, able, successful, it,\n",
      "Nearest to seven: eight, six, five, four, nine, three, zero, two,\n",
      "Nearest to war: automated, empirical, rose, cl, druze, however, phi, paint,\n",
      "Nearest to over: into, room, cycles, six, through, only, at, cross,\n",
      "Nearest to all: foundations, calculation, planted, axis, spheres, eleanor, allegiance, mary,\n",
      "Nearest to i: harris, UNK, turkey, vision, we, copyright, sagan, rs,\n",
      "Nearest to state: hall, processes, hard, warsaw, voluntary, decrease, flame, interested,\n",
      "Nearest to that: which, this, it, what, said, ki, agave, UNK,\n",
      "Average loss at step 46000 is 9.297231689453126\n",
      "Nearest to are: were, is, have, newer, be, acceptable, nine, associative,\n",
      "Nearest to more: less, farmer, converting, psi, stay, honors, than, crosby,\n",
      "Nearest to they: he, we, it, there, not, you, who, bow,\n",
      "Nearest to often: also, sometimes, usually, consist, frequently, still, somewhere, easily,\n",
      "Nearest to most: evangelical, tries, asbestos, loose, negative, radios, anarchist, sweet,\n",
      "Nearest to such: well, exodus, mechanisms, other, known, viewed, philosophies, as,\n",
      "Nearest to there: it, he, they, arrangements, said, zero, kyrgyzstan, edited,\n",
      "Nearest to so: lesbian, ruins, they, utc, republican, psi, werner, neutrality,\n",
      "Nearest to not: to, they, we, able, finals, ca, considered, been,\n",
      "Nearest to seven: eight, six, four, five, nine, three, zero, two,\n",
      "Nearest to war: automated, empirical, however, rose, druze, paint, cl, fundamentally,\n",
      "Nearest to over: into, room, cycles, six, through, at, only, cross,\n",
      "Nearest to all: foundations, calculation, planted, axis, spheres, allegiance, eleanor, mary,\n",
      "Nearest to i: harris, turkey, vision, UNK, we, copyright, sagan, phi,\n",
      "Nearest to state: hall, processes, hard, warsaw, voluntary, decrease, flame, interested,\n",
      "Nearest to that: which, this, it, what, said, ki, agave, hosts,\n",
      "Nearest to are: were, is, have, newer, be, acceptable, cl, wolfgang,\n",
      "Nearest to more: less, farmer, converting, psi, than, stay, honors, crosby,\n",
      "Nearest to they: he, we, there, you, not, it, who, bow,\n",
      "Nearest to often: also, sometimes, usually, consist, frequently, still, easily, somewhere,\n",
      "Nearest to most: evangelical, tries, asbestos, loose, negative, radios, interestingly, sweet,\n",
      "Nearest to such: well, exodus, mechanisms, other, known, viewed, philosophies, as,\n",
      "Nearest to there: it, he, they, arrangements, zero, said, kyrgyzstan, edited,\n",
      "Nearest to so: lesbian, they, ruins, utc, republican, psi, neutrality, werner,\n",
      "Nearest to not: to, they, we, able, ca, finals, considered, been,\n",
      "Nearest to seven: eight, six, four, five, nine, three, zero, two,\n",
      "Nearest to war: automated, empirical, however, druze, rose, paint, cl, real,\n",
      "Nearest to over: into, room, cycles, six, through, cross, only, at,\n",
      "Nearest to all: foundations, calculation, axis, spheres, planted, allegiance, these, eleanor,\n",
      "Nearest to i: harris, turkey, vision, we, copyright, sagan, you, rs,\n",
      "Nearest to state: hall, processes, hard, warsaw, voluntary, decrease, flame, interested,\n",
      "Nearest to that: which, this, it, what, said, agave, ki, psi,\n",
      "Average loss at step 48000 is 9.296505970478059\n",
      "Nearest to are: were, is, have, newer, nine, be, acceptable, these,\n",
      "Nearest to more: less, farmer, psi, converting, than, honors, stay, crosby,\n",
      "Nearest to they: he, we, there, you, not, it, who, bow,\n",
      "Nearest to often: also, sometimes, usually, frequently, consist, still, easily, somewhere,\n",
      "Nearest to most: evangelical, tries, asbestos, loose, negative, radios, sweet, interestingly,\n",
      "Nearest to such: well, exodus, mechanisms, other, known, viewed, philosophies, follows,\n",
      "Nearest to there: it, he, they, arrangements, said, zero, kyrgyzstan, edited,\n",
      "Nearest to so: lesbian, ruins, they, psi, utc, republican, werner, neutrality,\n",
      "Nearest to not: they, to, we, able, finals, ca, considered, unable,\n",
      "Nearest to seven: eight, six, nine, four, five, three, zero, cl,\n",
      "Nearest to war: automated, empirical, however, druze, rose, paint, cl, real,\n",
      "Nearest to over: into, room, cycles, through, six, cross, only, at,\n",
      "Nearest to all: foundations, calculation, spheres, planted, allegiance, axis, eleanor, these,\n",
      "Nearest to i: harris, turkey, vision, we, copyright, phi, sagan, you,\n",
      "Nearest to state: hall, hard, processes, warsaw, voluntary, decrease, flame, interested,\n",
      "Nearest to that: which, this, it, what, said, agave, ki, procedure,\n",
      "Nearest to are: were, is, have, newer, be, was, nine, acceptable,\n",
      "Nearest to more: less, farmer, converting, psi, honors, stay, crosby, than,\n",
      "Nearest to they: he, we, there, you, not, it, who, bow,\n",
      "Nearest to often: also, sometimes, usually, frequently, consist, still, easily, somewhere,\n",
      "Nearest to most: evangelical, tries, asbestos, loose, negative, radios, interestingly, sweet,\n",
      "Nearest to such: well, exodus, mechanisms, other, known, viewed, philosophies, as,\n",
      "Nearest to there: it, he, they, arrangements, said, zero, kyrgyzstan, edited,\n",
      "Nearest to so: lesbian, ruins, psi, republican, werner, they, neutrality, utc,\n",
      "Nearest to not: to, they, we, able, finals, ca, considered, also,\n",
      "Nearest to seven: eight, six, nine, four, five, three, zero, two,\n",
      "Nearest to war: automated, empirical, however, rose, druze, cl, paint, phi,\n",
      "Nearest to over: into, room, cycles, through, at, only, cross, when,\n",
      "Nearest to all: foundations, calculation, spheres, these, axis, allegiance, planted, eleanor,\n",
      "Nearest to i: harris, turkey, vision, we, phi, sagan, copyright, tat,\n",
      "Nearest to state: hall, hard, processes, warsaw, voluntary, decrease, flame, interested,\n",
      "Nearest to that: which, this, it, what, said, agave, ki, procedure,\n",
      "NCE method took 3668.504284 minutes to run 100 iterations\n"
     ]
    }
   ],
   "source": [
    "with graph.as_default():\n",
    "\n",
    "    # Construct the variables for the NCE loss\n",
    "    nce_weights = tf.Variable(\n",
    "        tf.truncated_normal([vocabulary_size, embedding_size],\n",
    "                            stddev=1.0 / math.sqrt(embedding_size)))\n",
    "    nce_biases = tf.Variable(tf.zeros([vocabulary_size]))\n",
    "\n",
    "    nce_loss = tf.reduce_mean(\n",
    "        tf.nn.nce_loss(weights=nce_weights,\n",
    "                       biases=nce_biases,\n",
    "                       labels=train_context,\n",
    "                       inputs=embed,\n",
    "                       num_sampled=num_sampled,\n",
    "                       num_classes=vocabulary_size))\n",
    "\n",
    "    optimizer = tf.train.GradientDescentOptimizer(1.0).minimize(nce_loss)\n",
    "\n",
    "    # Add variable initializer.\n",
    "    init = tf.global_variables_initializer()\n",
    "\n",
    "num_steps = 50000\n",
    "nce_start_time = dt.datetime.now()\n",
    "run(graph, num_steps)\n",
    "nce_end_time = dt.datetime.now()\n",
    "print(\"NCE method took {} minutes to run 50000 iterations\".format((nce_end_time-nce_start_time).total_seconds()))"
   ]
  },
  {
   "cell_type": "markdown",
   "metadata": {
    "colab_type": "text",
    "id": "R6rDDp4YCZuH"
   },
   "source": [
    "After every 10,000 iterations the code outputs the validation words and the words that the Word2Vec system deems are similar.  Below, you can see the improvement for some selected validation"
   ]
  },
  {
   "cell_type": "markdown",
   "metadata": {},
   "source": [
    "After 1000 iterations:  \n",
    "Nearest to seven: muscles, diamond, holding, singers, confederacy, secure, stood, knowledge,    \n",
    "Nearest to over: cross, room, relies, lisbon, protected, jos, legends, cycles,"
   ]
  },
  {
   "cell_type": "markdown",
   "metadata": {},
   "source": [
    "After 50000 iteration:  \n",
    "Nearest to seven: eight, six, four, five, nine, three, zero, two,  \n",
    "Nearest to over: into, room, cycles, through, at, only, cross, when,"
   ]
  },
  {
   "cell_type": "markdown",
   "metadata": {},
   "source": [
    "We have learnt how to use the Word2Vec methodology to reduce large one-hot word vectors to much reduced word embedding vectors which preserve the context and meaning of the original words.  These word embedding vectors can then be used as a more efficient and effective input to deep learning techniques which aim to model natural language."
   ]
  },
  {
   "cell_type": "markdown",
   "metadata": {},
   "source": [
    "### de nada!"
   ]
  }
 ],
 "metadata": {
  "colab": {
   "collapsed_sections": [
    "kPYp7cqowY5_"
   ],
   "name": "word2vec.ipynb",
   "provenance": [],
   "version": "0.3.2"
  },
  "kernelspec": {
   "display_name": "Python 3",
   "language": "python",
   "name": "python3"
  },
  "language_info": {
   "codemirror_mode": {
    "name": "ipython",
    "version": 3
   },
   "file_extension": ".py",
   "mimetype": "text/x-python",
   "name": "python",
   "nbconvert_exporter": "python",
   "pygments_lexer": "ipython3",
   "version": "3.6.4"
  }
 },
 "nbformat": 4,
 "nbformat_minor": 1
}
