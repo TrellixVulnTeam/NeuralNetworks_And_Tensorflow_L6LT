{
 "cells": [
  {
   "cell_type": "markdown",
   "metadata": {},
   "source": [
    "# Deep Nets using TF- Abstractions"
   ]
  },
  {
   "cell_type": "markdown",
   "metadata": {},
   "source": [
    "[Prashant Brahmbhatt](www.github.com/hashbanger)"
   ]
  },
  {
   "cell_type": "markdown",
   "metadata": {},
   "source": [
    "## Keras API"
   ]
  },
  {
   "cell_type": "markdown",
   "metadata": {},
   "source": [
    "_____"
   ]
  },
  {
   "cell_type": "markdown",
   "metadata": {},
   "source": [
    "### The Data"
   ]
  },
  {
   "cell_type": "markdown",
   "metadata": {},
   "source": [
    "To compare these various abstractions we'll use a dataset easily available from the SciKit Learn library. The data is comprised of the results of a chemical analysis of wines grown in the same region in Italy by three different cultivators. There are thirteen different\n",
    "measurements taken for different constituents found in the three types of wine. We will use the various TF Abstractions to classify the wine to one of the 3 possible labels.\n"
   ]
  },
  {
   "cell_type": "code",
   "execution_count": 16,
   "metadata": {},
   "outputs": [],
   "source": [
    "from sklearn.datasets import load_wine"
   ]
  },
  {
   "cell_type": "code",
   "execution_count": 17,
   "metadata": {},
   "outputs": [],
   "source": [
    "wine_data = load_wine()"
   ]
  },
  {
   "cell_type": "code",
   "execution_count": 18,
   "metadata": {},
   "outputs": [
    {
     "data": {
      "text/plain": [
       "sklearn.utils.Bunch"
      ]
     },
     "execution_count": 18,
     "metadata": {},
     "output_type": "execute_result"
    }
   ],
   "source": [
    "type(wine_data)"
   ]
  },
  {
   "cell_type": "markdown",
   "metadata": {},
   "source": [
    "The sklearn Bunch is kind of a dictionary which contains the data as well as other information related to the data"
   ]
  },
  {
   "cell_type": "code",
   "execution_count": 19,
   "metadata": {},
   "outputs": [
    {
     "data": {
      "text/plain": [
       "dict_keys(['data', 'target', 'target_names', 'DESCR', 'feature_names'])"
      ]
     },
     "execution_count": 19,
     "metadata": {},
     "output_type": "execute_result"
    }
   ],
   "source": [
    "wine_data.keys()"
   ]
  },
  {
   "cell_type": "markdown",
   "metadata": {},
   "source": [
    "Taking a look at the description of the data."
   ]
  },
  {
   "cell_type": "code",
   "execution_count": 20,
   "metadata": {},
   "outputs": [
    {
     "name": "stdout",
     "output_type": "stream",
     "text": [
      "Wine Data Database\n",
      "====================\n",
      "\n",
      "Notes\n",
      "-----\n",
      "Data Set Characteristics:\n",
      "    :Number of Instances: 178 (50 in each of three classes)\n",
      "    :Number of Attributes: 13 numeric, predictive attributes and the class\n",
      "    :Attribute Information:\n",
      " \t\t- 1) Alcohol\n",
      " \t\t- 2) Malic acid\n",
      " \t\t- 3) Ash\n",
      "\t\t- 4) Alcalinity of ash  \n",
      " \t\t- 5) Magnesium\n",
      "\t\t- 6) Total phenols\n",
      " \t\t- 7) Flavanoids\n",
      " \t\t- 8) Nonflavanoid phenols\n",
      " \t\t- 9) Proanthocyanins\n",
      "\t\t- 10)Color intensity\n",
      " \t\t- 11)Hue\n",
      " \t\t- 12)OD280/OD315 of diluted wines\n",
      " \t\t- 13)Proline\n",
      "        \t- class:\n",
      "                - class_0\n",
      "                - class_1\n",
      "                - class_2\n",
      "\t\t\n",
      "    :Summary Statistics:\n",
      "    \n",
      "    ============================= ==== ===== ======= =====\n",
      "                                   Min   Max   Mean     SD\n",
      "    ============================= ==== ===== ======= =====\n",
      "    Alcohol:                      11.0  14.8    13.0   0.8\n",
      "    Malic Acid:                   0.74  5.80    2.34  1.12\n",
      "    Ash:                          1.36  3.23    2.36  0.27\n",
      "    Alcalinity of Ash:            10.6  30.0    19.5   3.3\n",
      "    Magnesium:                    70.0 162.0    99.7  14.3\n",
      "    Total Phenols:                0.98  3.88    2.29  0.63\n",
      "    Flavanoids:                   0.34  5.08    2.03  1.00\n",
      "    Nonflavanoid Phenols:         0.13  0.66    0.36  0.12\n",
      "    Proanthocyanins:              0.41  3.58    1.59  0.57\n",
      "    Colour Intensity:              1.3  13.0     5.1   2.3\n",
      "    Hue:                          0.48  1.71    0.96  0.23\n",
      "    OD280/OD315 of diluted wines: 1.27  4.00    2.61  0.71\n",
      "    Proline:                       278  1680     746   315\n",
      "    ============================= ==== ===== ======= =====\n",
      "\n",
      "    :Missing Attribute Values: None\n",
      "    :Class Distribution: class_0 (59), class_1 (71), class_2 (48)\n",
      "    :Creator: R.A. Fisher\n",
      "    :Donor: Michael Marshall (MARSHALL%PLU@io.arc.nasa.gov)\n",
      "    :Date: July, 1988\n",
      "\n",
      "This is a copy of UCI ML Wine recognition datasets.\n",
      "https://archive.ics.uci.edu/ml/machine-learning-databases/wine/wine.data\n",
      "\n",
      "The data is the results of a chemical analysis of wines grown in the same\n",
      "region in Italy by three different cultivators. There are thirteen different\n",
      "measurements taken for different constituents found in the three types of\n",
      "wine.\n",
      "\n",
      "Original Owners: \n",
      "\n",
      "Forina, M. et al, PARVUS - \n",
      "An Extendible Package for Data Exploration, Classification and Correlation. \n",
      "Institute of Pharmaceutical and Food Analysis and Technologies,\n",
      "Via Brigata Salerno, 16147 Genoa, Italy.\n",
      "\n",
      "Citation:\n",
      "\n",
      "Lichman, M. (2013). UCI Machine Learning Repository\n",
      "[http://archive.ics.uci.edu/ml]. Irvine, CA: University of California,\n",
      "School of Information and Computer Science. \n",
      "\n",
      "References\n",
      "----------\n",
      "(1) \n",
      "S. Aeberhard, D. Coomans and O. de Vel, \n",
      "Comparison of Classifiers in High Dimensional Settings, \n",
      "Tech. Rep. no. 92-02, (1992), Dept. of Computer Science and Dept. of \n",
      "Mathematics and Statistics, James Cook University of North Queensland. \n",
      "(Also submitted to Technometrics). \n",
      "\n",
      "The data was used with many others for comparing various \n",
      "classifiers. The classes are separable, though only RDA \n",
      "has achieved 100% correct classification. \n",
      "(RDA : 100%, QDA 99.4%, LDA 98.9%, 1NN 96.1% (z-transformed data)) \n",
      "(All results using the leave-one-out technique) \n",
      "\n",
      "(2) \n",
      "S. Aeberhard, D. Coomans and O. de Vel, \n",
      "\"THE CLASSIFICATION PERFORMANCE OF RDA\" \n",
      "Tech. Rep. no. 92-01, (1992), Dept. of Computer Science and Dept. of \n",
      "Mathematics and Statistics, James Cook University of North Queensland. \n",
      "(Also submitted to Journal of Chemometrics). \n",
      "\n"
     ]
    }
   ],
   "source": [
    "print(wine_data['DESCR'])"
   ]
  },
  {
   "cell_type": "markdown",
   "metadata": {},
   "source": [
    "____"
   ]
  },
  {
   "cell_type": "markdown",
   "metadata": {},
   "source": [
    "Creating the features and the labels"
   ]
  },
  {
   "cell_type": "code",
   "execution_count": 21,
   "metadata": {},
   "outputs": [],
   "source": [
    "feat_data = wine_data['data']"
   ]
  },
  {
   "cell_type": "code",
   "execution_count": 22,
   "metadata": {},
   "outputs": [],
   "source": [
    "labels = wine_data['target']"
   ]
  },
  {
   "cell_type": "markdown",
   "metadata": {},
   "source": [
    "### Splitting the dataset"
   ]
  },
  {
   "cell_type": "code",
   "execution_count": 23,
   "metadata": {},
   "outputs": [],
   "source": [
    "from sklearn.model_selection import train_test_split"
   ]
  },
  {
   "cell_type": "code",
   "execution_count": 24,
   "metadata": {},
   "outputs": [],
   "source": [
    "X_train, X_test, y_train, y_test = train_test_split(feat_data, labels, test_size = 0.3, random_state = 101)"
   ]
  },
  {
   "cell_type": "markdown",
   "metadata": {},
   "source": [
    "### Scaling the data"
   ]
  },
  {
   "cell_type": "code",
   "execution_count": 25,
   "metadata": {},
   "outputs": [],
   "source": [
    "from sklearn.preprocessing import MinMaxScaler"
   ]
  },
  {
   "cell_type": "code",
   "execution_count": 26,
   "metadata": {},
   "outputs": [],
   "source": [
    "scaler = MinMaxScaler()"
   ]
  },
  {
   "cell_type": "code",
   "execution_count": 27,
   "metadata": {},
   "outputs": [],
   "source": [
    "scaled_x_train = scaler.fit_transform(X_train)"
   ]
  },
  {
   "cell_type": "code",
   "execution_count": 28,
   "metadata": {},
   "outputs": [],
   "source": [
    "scaled_x_test = scaler.fit_transform(X_test)"
   ]
  },
  {
   "cell_type": "markdown",
   "metadata": {},
   "source": [
    "_______"
   ]
  },
  {
   "cell_type": "markdown",
   "metadata": {},
   "source": [
    "## The abstraction"
   ]
  },
  {
   "cell_type": "code",
   "execution_count": 29,
   "metadata": {},
   "outputs": [],
   "source": [
    "import keras\n",
    "import tensorflow as tf"
   ]
  },
  {
   "cell_type": "markdown",
   "metadata": {},
   "source": [
    "### Creating the model"
   ]
  },
  {
   "cell_type": "code",
   "execution_count": 30,
   "metadata": {},
   "outputs": [],
   "source": [
    "from keras import Sequential"
   ]
  },
  {
   "cell_type": "code",
   "execution_count": 31,
   "metadata": {},
   "outputs": [],
   "source": [
    "dnn_model = Sequential()"
   ]
  },
  {
   "cell_type": "markdown",
   "metadata": {},
   "source": [
    "### Addding the layers"
   ]
  },
  {
   "cell_type": "code",
   "execution_count": 32,
   "metadata": {},
   "outputs": [],
   "source": [
    "from keras import layers"
   ]
  },
  {
   "cell_type": "code",
   "execution_count": 33,
   "metadata": {},
   "outputs": [],
   "source": [
    "dnn_model.add(layers.Dense(units= 13, input_dim = 13, activation= 'relu' ))"
   ]
  },
  {
   "cell_type": "code",
   "execution_count": 34,
   "metadata": {},
   "outputs": [],
   "source": [
    "dnn_model.add(layers.Dense(units= 13, activation= 'relu' ))\n",
    "dnn_model.add(layers.Dense(units= 13, activation= 'relu' ))              "
   ]
  },
  {
   "cell_type": "code",
   "execution_count": 35,
   "metadata": {},
   "outputs": [],
   "source": [
    "dnn_model.add(layers.Dense(units= 3, activation= 'softmax' ))"
   ]
  },
  {
   "cell_type": "markdown",
   "metadata": {},
   "source": [
    "### Compiling the model"
   ]
  },
  {
   "cell_type": "code",
   "execution_count": 36,
   "metadata": {},
   "outputs": [],
   "source": [
    "from keras import optimizers, losses, metrics"
   ]
  },
  {
   "cell_type": "markdown",
   "metadata": {},
   "source": [
    "There are several optimizers, losses to explore"
   ]
  },
  {
   "cell_type": "code",
   "execution_count": 37,
   "metadata": {},
   "outputs": [],
   "source": [
    "#losses.\n",
    "#optimizers."
   ]
  },
  {
   "cell_type": "code",
   "execution_count": 38,
   "metadata": {},
   "outputs": [],
   "source": [
    "dnn_model.compile(optimizer= 'adam', loss= 'sparse_categorical_crossentropy', metrics= ['accuracy'])"
   ]
  },
  {
   "cell_type": "markdown",
   "metadata": {},
   "source": [
    "### Training the Model"
   ]
  },
  {
   "cell_type": "code",
   "execution_count": 39,
   "metadata": {},
   "outputs": [
    {
     "name": "stdout",
     "output_type": "stream",
     "text": [
      "Epoch 1/100\n",
      "124/124 [==============================] - 1s 4ms/step - loss: 1.0899 - acc: 0.4435\n",
      "Epoch 2/100\n",
      "124/124 [==============================] - 0s 88us/step - loss: 1.0806 - acc: 0.5242\n",
      "Epoch 3/100\n",
      "124/124 [==============================] - 0s 113us/step - loss: 1.0712 - acc: 0.5887\n",
      "Epoch 4/100\n",
      "124/124 [==============================] - 0s 129us/step - loss: 1.0621 - acc: 0.6129\n",
      "Epoch 5/100\n",
      "124/124 [==============================] - 0s 80us/step - loss: 1.0518 - acc: 0.6371\n",
      "Epoch 6/100\n",
      "124/124 [==============================] - 0s 97us/step - loss: 1.0404 - acc: 0.6452\n",
      "Epoch 7/100\n",
      "124/124 [==============================] - 0s 80us/step - loss: 1.0286 - acc: 0.6452\n",
      "Epoch 8/100\n",
      "124/124 [==============================] - 0s 88us/step - loss: 1.0151 - acc: 0.6452\n",
      "Epoch 9/100\n",
      "124/124 [==============================] - 0s 80us/step - loss: 0.9997 - acc: 0.6452\n",
      "Epoch 10/100\n",
      "124/124 [==============================] - 0s 121us/step - loss: 0.9828 - acc: 0.6532\n",
      "Epoch 11/100\n",
      "124/124 [==============================] - 0s 105us/step - loss: 0.9642 - acc: 0.6613\n",
      "Epoch 12/100\n",
      "124/124 [==============================] - 0s 113us/step - loss: 0.9434 - acc: 0.6613\n",
      "Epoch 13/100\n",
      "124/124 [==============================] - 0s 105us/step - loss: 0.9206 - acc: 0.6613\n",
      "Epoch 14/100\n",
      "124/124 [==============================] - 0s 72us/step - loss: 0.8968 - acc: 0.6613\n",
      "Epoch 15/100\n",
      "124/124 [==============================] - 0s 97us/step - loss: 0.8725 - acc: 0.6613\n",
      "Epoch 16/100\n",
      "124/124 [==============================] - 0s 105us/step - loss: 0.8467 - acc: 0.6613\n",
      "Epoch 17/100\n",
      "124/124 [==============================] - 0s 96us/step - loss: 0.8198 - acc: 0.6613\n",
      "Epoch 18/100\n",
      "124/124 [==============================] - 0s 105us/step - loss: 0.7935 - acc: 0.6613\n",
      "Epoch 19/100\n",
      "124/124 [==============================] - 0s 80us/step - loss: 0.7646 - acc: 0.6694\n",
      "Epoch 20/100\n",
      "124/124 [==============================] - 0s 72us/step - loss: 0.7371 - acc: 0.6774\n",
      "Epoch 21/100\n",
      "124/124 [==============================] - 0s 105us/step - loss: 0.7096 - acc: 0.7016\n",
      "Epoch 22/100\n",
      "124/124 [==============================] - 0s 121us/step - loss: 0.6805 - acc: 0.7177\n",
      "Epoch 23/100\n",
      "124/124 [==============================] - 0s 97us/step - loss: 0.6529 - acc: 0.7500\n",
      "Epoch 24/100\n",
      "124/124 [==============================] - 0s 88us/step - loss: 0.6262 - acc: 0.8065\n",
      "Epoch 25/100\n",
      "124/124 [==============================] - 0s 88us/step - loss: 0.5993 - acc: 0.8226\n",
      "Epoch 26/100\n",
      "124/124 [==============================] - 0s 101us/step - loss: 0.5740 - acc: 0.8548\n",
      "Epoch 27/100\n",
      "124/124 [==============================] - 0s 105us/step - loss: 0.5488 - acc: 0.8790\n",
      "Epoch 28/100\n",
      "124/124 [==============================] - 0s 105us/step - loss: 0.5251 - acc: 0.8790\n",
      "Epoch 29/100\n",
      "124/124 [==============================] - 0s 88us/step - loss: 0.5011 - acc: 0.8871\n",
      "Epoch 30/100\n",
      "124/124 [==============================] - 0s 105us/step - loss: 0.4779 - acc: 0.8952\n",
      "Epoch 31/100\n",
      "124/124 [==============================] - 0s 96us/step - loss: 0.4560 - acc: 0.9032\n",
      "Epoch 32/100\n",
      "124/124 [==============================] - 0s 88us/step - loss: 0.4338 - acc: 0.9032\n",
      "Epoch 33/100\n",
      "124/124 [==============================] - 0s 105us/step - loss: 0.4134 - acc: 0.9032\n",
      "Epoch 34/100\n",
      "124/124 [==============================] - 0s 112us/step - loss: 0.3928 - acc: 0.9113\n",
      "Epoch 35/100\n",
      "124/124 [==============================] - 0s 105us/step - loss: 0.3740 - acc: 0.9516\n",
      "Epoch 36/100\n",
      "124/124 [==============================] - 0s 153us/step - loss: 0.3557 - acc: 0.9516\n",
      "Epoch 37/100\n",
      "124/124 [==============================] - 0s 80us/step - loss: 0.3373 - acc: 0.9516\n",
      "Epoch 38/100\n",
      "124/124 [==============================] - 0s 80us/step - loss: 0.3200 - acc: 0.9516\n",
      "Epoch 39/100\n",
      "124/124 [==============================] - 0s 72us/step - loss: 0.3042 - acc: 0.9516\n",
      "Epoch 40/100\n",
      "124/124 [==============================] - 0s 80us/step - loss: 0.2882 - acc: 0.9516\n",
      "Epoch 41/100\n",
      "124/124 [==============================] - 0s 97us/step - loss: 0.2742 - acc: 0.9597\n",
      "Epoch 42/100\n",
      "124/124 [==============================] - 0s 121us/step - loss: 0.2593 - acc: 0.9597\n",
      "Epoch 43/100\n",
      "124/124 [==============================] - 0s 105us/step - loss: 0.2460 - acc: 0.9677\n",
      "Epoch 44/100\n",
      "124/124 [==============================] - 0s 113us/step - loss: 0.2336 - acc: 0.9677\n",
      "Epoch 45/100\n",
      "124/124 [==============================] - 0s 88us/step - loss: 0.2210 - acc: 0.9677\n",
      "Epoch 46/100\n",
      "124/124 [==============================] - 0s 96us/step - loss: 0.2092 - acc: 0.9677\n",
      "Epoch 47/100\n",
      "124/124 [==============================] - 0s 72us/step - loss: 0.1986 - acc: 0.9758\n",
      "Epoch 48/100\n",
      "124/124 [==============================] - 0s 88us/step - loss: 0.1886 - acc: 0.9758\n",
      "Epoch 49/100\n",
      "124/124 [==============================] - 0s 97us/step - loss: 0.1786 - acc: 0.9758\n",
      "Epoch 50/100\n",
      "124/124 [==============================] - 0s 97us/step - loss: 0.1704 - acc: 0.9758\n",
      "Epoch 51/100\n",
      "124/124 [==============================] - 0s 97us/step - loss: 0.1615 - acc: 0.9839\n",
      "Epoch 52/100\n",
      "124/124 [==============================] - 0s 161us/step - loss: 0.1536 - acc: 0.9839\n",
      "Epoch 53/100\n",
      "124/124 [==============================] - 0s 145us/step - loss: 0.1466 - acc: 0.9839\n",
      "Epoch 54/100\n",
      "124/124 [==============================] - 0s 105us/step - loss: 0.1393 - acc: 0.9839\n",
      "Epoch 55/100\n",
      "124/124 [==============================] - 0s 113us/step - loss: 0.1330 - acc: 0.9839\n",
      "Epoch 56/100\n",
      "124/124 [==============================] - 0s 97us/step - loss: 0.1270 - acc: 0.9839\n",
      "Epoch 57/100\n",
      "124/124 [==============================] - 0s 97us/step - loss: 0.1214 - acc: 0.9839\n",
      "Epoch 58/100\n",
      "124/124 [==============================] - 0s 80us/step - loss: 0.1161 - acc: 0.9839\n",
      "Epoch 59/100\n",
      "124/124 [==============================] - 0s 153us/step - loss: 0.1112 - acc: 0.9839\n",
      "Epoch 60/100\n",
      "124/124 [==============================] - 0s 129us/step - loss: 0.1064 - acc: 0.9839\n",
      "Epoch 61/100\n",
      "124/124 [==============================] - 0s 105us/step - loss: 0.1019 - acc: 0.9839\n",
      "Epoch 62/100\n",
      "124/124 [==============================] - 0s 88us/step - loss: 0.0992 - acc: 0.9919\n",
      "Epoch 63/100\n",
      "124/124 [==============================] - 0s 97us/step - loss: 0.0943 - acc: 0.9919\n",
      "Epoch 64/100\n",
      "124/124 [==============================] - 0s 88us/step - loss: 0.0902 - acc: 0.9919\n",
      "Epoch 65/100\n",
      "124/124 [==============================] - 0s 97us/step - loss: 0.0863 - acc: 0.9919\n",
      "Epoch 66/100\n",
      "124/124 [==============================] - 0s 88us/step - loss: 0.0835 - acc: 0.9919\n",
      "Epoch 67/100\n",
      "124/124 [==============================] - 0s 113us/step - loss: 0.0799 - acc: 0.9919\n",
      "Epoch 68/100\n",
      "124/124 [==============================] - 0s 97us/step - loss: 0.0771 - acc: 0.9919\n",
      "Epoch 69/100\n",
      "124/124 [==============================] - 0s 105us/step - loss: 0.0744 - acc: 0.9919\n",
      "Epoch 70/100\n",
      "124/124 [==============================] - 0s 129us/step - loss: 0.0716 - acc: 0.9919\n",
      "Epoch 71/100\n",
      "124/124 [==============================] - 0s 113us/step - loss: 0.0696 - acc: 0.9919\n",
      "Epoch 72/100\n",
      "124/124 [==============================] - 0s 105us/step - loss: 0.0665 - acc: 0.9919\n",
      "Epoch 73/100\n",
      "124/124 [==============================] - 0s 97us/step - loss: 0.0644 - acc: 0.9919\n",
      "Epoch 74/100\n",
      "124/124 [==============================] - 0s 88us/step - loss: 0.0627 - acc: 0.9919\n",
      "Epoch 75/100\n",
      "124/124 [==============================] - 0s 113us/step - loss: 0.0604 - acc: 0.9919\n",
      "Epoch 76/100\n",
      "124/124 [==============================] - 0s 161us/step - loss: 0.0583 - acc: 0.9919\n",
      "Epoch 77/100\n",
      "124/124 [==============================] - 0s 137us/step - loss: 0.0568 - acc: 0.9919\n",
      "Epoch 78/100\n",
      "124/124 [==============================] - 0s 145us/step - loss: 0.0550 - acc: 0.9919\n",
      "Epoch 79/100\n",
      "124/124 [==============================] - 0s 105us/step - loss: 0.0529 - acc: 0.9919\n",
      "Epoch 80/100\n",
      "124/124 [==============================] - 0s 121us/step - loss: 0.0515 - acc: 0.9919\n",
      "Epoch 81/100\n",
      "124/124 [==============================] - 0s 121us/step - loss: 0.0501 - acc: 0.9919\n",
      "Epoch 82/100\n",
      "124/124 [==============================] - 0s 121us/step - loss: 0.0490 - acc: 0.9919\n",
      "Epoch 83/100\n",
      "124/124 [==============================] - 0s 121us/step - loss: 0.0478 - acc: 0.9919\n",
      "Epoch 84/100\n",
      "124/124 [==============================] - 0s 121us/step - loss: 0.0466 - acc: 0.9919\n",
      "Epoch 85/100\n",
      "124/124 [==============================] - ETA: 0s - loss: 0.0725 - acc: 1.000 - 0s 113us/step - loss: 0.0449 - acc: 0.9919\n",
      "Epoch 86/100\n",
      "124/124 [==============================] - 0s 145us/step - loss: 0.0447 - acc: 0.9919\n",
      "Epoch 87/100\n",
      "124/124 [==============================] - 0s 97us/step - loss: 0.0428 - acc: 0.9919\n",
      "Epoch 88/100\n",
      "124/124 [==============================] - 0s 105us/step - loss: 0.0428 - acc: 0.9919\n",
      "Epoch 89/100\n",
      "124/124 [==============================] - 0s 121us/step - loss: 0.0407 - acc: 0.9919\n",
      "Epoch 90/100\n",
      "124/124 [==============================] - 0s 121us/step - loss: 0.0394 - acc: 0.9919\n",
      "Epoch 91/100\n",
      "124/124 [==============================] - 0s 121us/step - loss: 0.0384 - acc: 0.9919\n",
      "Epoch 92/100\n",
      "124/124 [==============================] - 0s 121us/step - loss: 0.0377 - acc: 0.9919\n",
      "Epoch 93/100\n",
      "124/124 [==============================] - 0s 113us/step - loss: 0.0368 - acc: 0.9919\n",
      "Epoch 94/100\n",
      "124/124 [==============================] - 0s 121us/step - loss: 0.0359 - acc: 0.9919\n",
      "Epoch 95/100\n",
      "124/124 [==============================] - 0s 97us/step - loss: 0.0350 - acc: 0.9919\n",
      "Epoch 96/100\n",
      "124/124 [==============================] - 0s 113us/step - loss: 0.0342 - acc: 0.9919\n",
      "Epoch 97/100\n",
      "124/124 [==============================] - 0s 88us/step - loss: 0.0337 - acc: 0.9919\n",
      "Epoch 98/100\n",
      "124/124 [==============================] - 0s 97us/step - loss: 0.0326 - acc: 0.9919\n",
      "Epoch 99/100\n",
      "124/124 [==============================] - 0s 80us/step - loss: 0.0321 - acc: 0.9919\n",
      "Epoch 100/100\n",
      "124/124 [==============================] - 0s 105us/step - loss: 0.0315 - acc: 0.9919\n"
     ]
    },
    {
     "data": {
      "text/plain": [
       "<keras.callbacks.History at 0x1bded6a8978>"
      ]
     },
     "execution_count": 39,
     "metadata": {},
     "output_type": "execute_result"
    }
   ],
   "source": [
    "dnn_model.fit(x = scaled_x_train, y = y_train, epochs= 100)"
   ]
  },
  {
   "cell_type": "markdown",
   "metadata": {},
   "source": [
    "### Making the predcitions"
   ]
  },
  {
   "cell_type": "code",
   "execution_count": 43,
   "metadata": {},
   "outputs": [],
   "source": [
    "preds_labels = dnn_model.predict_classes(x= scaled_x_test)"
   ]
  },
  {
   "cell_type": "markdown",
   "metadata": {},
   "source": [
    "Evaluating using the confusion matrix"
   ]
  },
  {
   "cell_type": "code",
   "execution_count": 44,
   "metadata": {},
   "outputs": [],
   "source": [
    "from sklearn.metrics import confusion_matrix, classification_report"
   ]
  },
  {
   "cell_type": "code",
   "execution_count": 45,
   "metadata": {},
   "outputs": [
    {
     "data": {
      "text/plain": [
       "array([[19,  0,  0],\n",
       "       [ 0, 22,  0],\n",
       "       [ 0,  1, 12]], dtype=int64)"
      ]
     },
     "execution_count": 45,
     "metadata": {},
     "output_type": "execute_result"
    }
   ],
   "source": [
    "confusion_matrix(y_true= y_test, y_pred= preds_labels)"
   ]
  },
  {
   "cell_type": "code",
   "execution_count": 46,
   "metadata": {},
   "outputs": [
    {
     "name": "stdout",
     "output_type": "stream",
     "text": [
      "             precision    recall  f1-score   support\n",
      "\n",
      "          0       1.00      1.00      1.00        19\n",
      "          1       0.96      1.00      0.98        22\n",
      "          2       1.00      0.92      0.96        13\n",
      "\n",
      "avg / total       0.98      0.98      0.98        54\n",
      "\n"
     ]
    }
   ],
   "source": [
    "print(classification_report(y_test, preds_labels))"
   ]
  },
  {
   "cell_type": "markdown",
   "metadata": {},
   "source": [
    "So we got an accuracy floating around 98%"
   ]
  },
  {
   "cell_type": "markdown",
   "metadata": {},
   "source": [
    "### de nada!"
   ]
  }
 ],
 "metadata": {
  "kernelspec": {
   "display_name": "Python 3",
   "language": "python",
   "name": "python3"
  },
  "language_info": {
   "codemirror_mode": {
    "name": "ipython",
    "version": 3
   },
   "file_extension": ".py",
   "mimetype": "text/x-python",
   "name": "python",
   "nbconvert_exporter": "python",
   "pygments_lexer": "ipython3",
   "version": "3.6.4"
  }
 },
 "nbformat": 4,
 "nbformat_minor": 2
}
