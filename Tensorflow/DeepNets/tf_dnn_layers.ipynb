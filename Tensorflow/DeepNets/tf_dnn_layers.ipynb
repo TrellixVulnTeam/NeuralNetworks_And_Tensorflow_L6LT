{
  "nbformat": 4,
  "nbformat_minor": 0,
  "metadata": {
    "colab": {
      "name": "tf_dnn_layers.ipynb",
      "version": "0.3.2",
      "provenance": [],
      "collapsed_sections": []
    },
    "kernelspec": {
      "display_name": "Python 3",
      "language": "python",
      "name": "python3"
    }
  },
  "cells": [
    {
      "metadata": {
        "id": "6N3XP-970e1E",
        "colab_type": "text"
      },
      "cell_type": "markdown",
      "source": [
        "# Deep Nets using TF- Abstractions"
      ]
    },
    {
      "metadata": {
        "id": "-RxTSRAt0e1M",
        "colab_type": "text"
      },
      "cell_type": "markdown",
      "source": [
        "[Prashant Brahmbhatt](www.github.com/hashbanger)"
      ]
    },
    {
      "metadata": {
        "id": "79A1pXsx0e1T",
        "colab_type": "text"
      },
      "cell_type": "markdown",
      "source": [
        "## Layers API"
      ]
    },
    {
      "metadata": {
        "id": "dre_wDRU0e1f",
        "colab_type": "text"
      },
      "cell_type": "markdown",
      "source": [
        "https://www.tensorflow.org/tutorials/layers"
      ]
    },
    {
      "metadata": {
        "id": "4SHGMesI0e1l",
        "colab_type": "text"
      },
      "cell_type": "markdown",
      "source": [
        "_____"
      ]
    },
    {
      "metadata": {
        "id": "Q8fWuCp70e1p",
        "colab_type": "text"
      },
      "cell_type": "markdown",
      "source": [
        "### The Data"
      ]
    },
    {
      "metadata": {
        "id": "WN-cQqEx0e12",
        "colab_type": "text"
      },
      "cell_type": "markdown",
      "source": [
        "To compare these various abstractions we'll use a dataset easily available from the SciKit Learn library. The data is comprised of the results of a chemical analysis of wines grown in the same region in Italy by three different cultivators. There are thirteen different\n",
        "measurements taken for different constituents found in the three types of wine. We will use the various TF Abstractions to classify the wine to one of the 3 possible labels.\n"
      ]
    },
    {
      "metadata": {
        "id": "HZPR58zR0e15",
        "colab_type": "code",
        "colab": {}
      },
      "cell_type": "code",
      "source": [
        "from sklearn.datasets import load_wine"
      ],
      "execution_count": 0,
      "outputs": []
    },
    {
      "metadata": {
        "id": "HEIKkm6D0e2N",
        "colab_type": "code",
        "colab": {}
      },
      "cell_type": "code",
      "source": [
        "wine_data = load_wine()"
      ],
      "execution_count": 0,
      "outputs": []
    },
    {
      "metadata": {
        "id": "DurPVmfJ0e2e",
        "colab_type": "code",
        "outputId": "76ff86d1-a659-4e88-9521-8f60c312de79",
        "colab": {
          "base_uri": "https://localhost:8080/",
          "height": 35
        }
      },
      "cell_type": "code",
      "source": [
        "type(wine_data)"
      ],
      "execution_count": 0,
      "outputs": [
        {
          "output_type": "execute_result",
          "data": {
            "text/plain": [
              "sklearn.utils.Bunch"
            ]
          },
          "metadata": {
            "tags": []
          },
          "execution_count": 7
        }
      ]
    },
    {
      "metadata": {
        "id": "Dt-iBE9U0e25",
        "colab_type": "text"
      },
      "cell_type": "markdown",
      "source": [
        "The sklearn Bunch is kind of a dictionary which contains the data as well as other information related to the data"
      ]
    },
    {
      "metadata": {
        "id": "GDgQX3720e29",
        "colab_type": "code",
        "outputId": "a526f4e9-599a-4bff-ae90-7c51861ef014",
        "colab": {
          "base_uri": "https://localhost:8080/",
          "height": 35
        }
      },
      "cell_type": "code",
      "source": [
        "wine_data.keys()"
      ],
      "execution_count": 0,
      "outputs": [
        {
          "output_type": "execute_result",
          "data": {
            "text/plain": [
              "dict_keys(['data', 'target', 'target_names', 'DESCR', 'feature_names'])"
            ]
          },
          "metadata": {
            "tags": []
          },
          "execution_count": 8
        }
      ]
    },
    {
      "metadata": {
        "id": "Jv1zOVzX0e3R",
        "colab_type": "text"
      },
      "cell_type": "markdown",
      "source": [
        "Taking a look at the description of the data."
      ]
    },
    {
      "metadata": {
        "id": "jRoowRl20e3T",
        "colab_type": "code",
        "outputId": "143ee2dc-93b0-4cb6-b846-009707c6e7bb",
        "colab": {
          "base_uri": "https://localhost:8080/",
          "height": 1780
        }
      },
      "cell_type": "code",
      "source": [
        "print(wine_data['DESCR'])"
      ],
      "execution_count": 0,
      "outputs": [
        {
          "output_type": "stream",
          "text": [
            ".. _wine_dataset:\n",
            "\n",
            "Wine recognition dataset\n",
            "------------------------\n",
            "\n",
            "**Data Set Characteristics:**\n",
            "\n",
            "    :Number of Instances: 178 (50 in each of three classes)\n",
            "    :Number of Attributes: 13 numeric, predictive attributes and the class\n",
            "    :Attribute Information:\n",
            " \t\t- Alcohol\n",
            " \t\t- Malic acid\n",
            " \t\t- Ash\n",
            "\t\t- Alcalinity of ash  \n",
            " \t\t- Magnesium\n",
            "\t\t- Total phenols\n",
            " \t\t- Flavanoids\n",
            " \t\t- Nonflavanoid phenols\n",
            " \t\t- Proanthocyanins\n",
            "\t\t- Color intensity\n",
            " \t\t- Hue\n",
            " \t\t- OD280/OD315 of diluted wines\n",
            " \t\t- Proline\n",
            "\n",
            "    - class:\n",
            "            - class_0\n",
            "            - class_1\n",
            "            - class_2\n",
            "\t\t\n",
            "    :Summary Statistics:\n",
            "    \n",
            "    ============================= ==== ===== ======= =====\n",
            "                                   Min   Max   Mean     SD\n",
            "    ============================= ==== ===== ======= =====\n",
            "    Alcohol:                      11.0  14.8    13.0   0.8\n",
            "    Malic Acid:                   0.74  5.80    2.34  1.12\n",
            "    Ash:                          1.36  3.23    2.36  0.27\n",
            "    Alcalinity of Ash:            10.6  30.0    19.5   3.3\n",
            "    Magnesium:                    70.0 162.0    99.7  14.3\n",
            "    Total Phenols:                0.98  3.88    2.29  0.63\n",
            "    Flavanoids:                   0.34  5.08    2.03  1.00\n",
            "    Nonflavanoid Phenols:         0.13  0.66    0.36  0.12\n",
            "    Proanthocyanins:              0.41  3.58    1.59  0.57\n",
            "    Colour Intensity:              1.3  13.0     5.1   2.3\n",
            "    Hue:                          0.48  1.71    0.96  0.23\n",
            "    OD280/OD315 of diluted wines: 1.27  4.00    2.61  0.71\n",
            "    Proline:                       278  1680     746   315\n",
            "    ============================= ==== ===== ======= =====\n",
            "\n",
            "    :Missing Attribute Values: None\n",
            "    :Class Distribution: class_0 (59), class_1 (71), class_2 (48)\n",
            "    :Creator: R.A. Fisher\n",
            "    :Donor: Michael Marshall (MARSHALL%PLU@io.arc.nasa.gov)\n",
            "    :Date: July, 1988\n",
            "\n",
            "This is a copy of UCI ML Wine recognition datasets.\n",
            "https://archive.ics.uci.edu/ml/machine-learning-databases/wine/wine.data\n",
            "\n",
            "The data is the results of a chemical analysis of wines grown in the same\n",
            "region in Italy by three different cultivators. There are thirteen different\n",
            "measurements taken for different constituents found in the three types of\n",
            "wine.\n",
            "\n",
            "Original Owners: \n",
            "\n",
            "Forina, M. et al, PARVUS - \n",
            "An Extendible Package for Data Exploration, Classification and Correlation. \n",
            "Institute of Pharmaceutical and Food Analysis and Technologies,\n",
            "Via Brigata Salerno, 16147 Genoa, Italy.\n",
            "\n",
            "Citation:\n",
            "\n",
            "Lichman, M. (2013). UCI Machine Learning Repository\n",
            "[http://archive.ics.uci.edu/ml]. Irvine, CA: University of California,\n",
            "School of Information and Computer Science. \n",
            "\n",
            ".. topic:: References\n",
            "\n",
            "  (1) S. Aeberhard, D. Coomans and O. de Vel, \n",
            "  Comparison of Classifiers in High Dimensional Settings, \n",
            "  Tech. Rep. no. 92-02, (1992), Dept. of Computer Science and Dept. of  \n",
            "  Mathematics and Statistics, James Cook University of North Queensland. \n",
            "  (Also submitted to Technometrics). \n",
            "\n",
            "  The data was used with many others for comparing various \n",
            "  classifiers. The classes are separable, though only RDA \n",
            "  has achieved 100% correct classification. \n",
            "  (RDA : 100%, QDA 99.4%, LDA 98.9%, 1NN 96.1% (z-transformed data)) \n",
            "  (All results using the leave-one-out technique) \n",
            "\n",
            "  (2) S. Aeberhard, D. Coomans and O. de Vel, \n",
            "  \"THE CLASSIFICATION PERFORMANCE OF RDA\" \n",
            "  Tech. Rep. no. 92-01, (1992), Dept. of Computer Science and Dept. of \n",
            "  Mathematics and Statistics, James Cook University of North Queensland. \n",
            "  (Also submitted to Journal of Chemometrics).\n",
            "\n"
          ],
          "name": "stdout"
        }
      ]
    },
    {
      "metadata": {
        "id": "5dZtaiUB0e3r",
        "colab_type": "text"
      },
      "cell_type": "markdown",
      "source": [
        "____"
      ]
    },
    {
      "metadata": {
        "id": "F5HPGTbU0e3w",
        "colab_type": "text"
      },
      "cell_type": "markdown",
      "source": [
        "Creating the features and the labels"
      ]
    },
    {
      "metadata": {
        "id": "hN9mjA4j0e36",
        "colab_type": "code",
        "colab": {}
      },
      "cell_type": "code",
      "source": [
        "feat_data = wine_data['data']"
      ],
      "execution_count": 0,
      "outputs": []
    },
    {
      "metadata": {
        "id": "y6YvMk0U0e4D",
        "colab_type": "code",
        "colab": {}
      },
      "cell_type": "code",
      "source": [
        "labels = wine_data['target']"
      ],
      "execution_count": 0,
      "outputs": []
    },
    {
      "metadata": {
        "id": "D2bUZiWF0e4L",
        "colab_type": "text"
      },
      "cell_type": "markdown",
      "source": [
        "### Splitting the dataset"
      ]
    },
    {
      "metadata": {
        "id": "sN_fnvys0e4Q",
        "colab_type": "code",
        "colab": {}
      },
      "cell_type": "code",
      "source": [
        "from sklearn.model_selection import train_test_split"
      ],
      "execution_count": 0,
      "outputs": []
    },
    {
      "metadata": {
        "id": "FvjDdGgC0e4c",
        "colab_type": "code",
        "colab": {}
      },
      "cell_type": "code",
      "source": [
        "X_train, X_test, y_train, y_test = train_test_split(feat_data, labels, test_size = 0.3, random_state = 101)"
      ],
      "execution_count": 0,
      "outputs": []
    },
    {
      "metadata": {
        "id": "lIoVVDB40e4z",
        "colab_type": "text"
      },
      "cell_type": "markdown",
      "source": [
        "### Scaling the data"
      ]
    },
    {
      "metadata": {
        "id": "LiWkpMSO0e46",
        "colab_type": "code",
        "colab": {}
      },
      "cell_type": "code",
      "source": [
        "from sklearn.preprocessing import MinMaxScaler"
      ],
      "execution_count": 0,
      "outputs": []
    },
    {
      "metadata": {
        "id": "OZ1EiKwr0e5E",
        "colab_type": "code",
        "colab": {}
      },
      "cell_type": "code",
      "source": [
        "scaler = MinMaxScaler()"
      ],
      "execution_count": 0,
      "outputs": []
    },
    {
      "metadata": {
        "id": "WVezOxYJ0e5R",
        "colab_type": "code",
        "colab": {}
      },
      "cell_type": "code",
      "source": [
        "scaled_x_train = scaler.fit_transform(X_train)"
      ],
      "execution_count": 0,
      "outputs": []
    },
    {
      "metadata": {
        "id": "cvZpi2Z_0e5j",
        "colab_type": "code",
        "colab": {}
      },
      "cell_type": "code",
      "source": [
        "scaled_x_test = scaler.fit_transform(X_test)"
      ],
      "execution_count": 0,
      "outputs": []
    },
    {
      "metadata": {
        "id": "dtbrg1EB0e53",
        "colab_type": "text"
      },
      "cell_type": "markdown",
      "source": [
        "### One Hot Encoding the data"
      ]
    },
    {
      "metadata": {
        "id": "8Dig4MqV0e55",
        "colab_type": "code",
        "colab": {}
      },
      "cell_type": "code",
      "source": [
        "import pandas as pd"
      ],
      "execution_count": 0,
      "outputs": []
    },
    {
      "metadata": {
        "id": "E8OEDIuC0e6F",
        "colab_type": "code",
        "colab": {}
      },
      "cell_type": "code",
      "source": [
        "onehot_y_train = pd.get_dummies(y_train).values # or as_matrix()\n",
        "# The layers API would require a numpy array rather than a dataframe\n",
        "onehot_y_test = pd.get_dummies(y_test).values"
      ],
      "execution_count": 0,
      "outputs": []
    },
    {
      "metadata": {
        "id": "Ee-Fgajf0e6V",
        "colab_type": "text"
      },
      "cell_type": "markdown",
      "source": [
        "_______"
      ]
    },
    {
      "metadata": {
        "id": "-YIonUfP0e6X",
        "colab_type": "text"
      },
      "cell_type": "markdown",
      "source": [
        "## The abstraction"
      ]
    },
    {
      "metadata": {
        "id": "KcmFzGTZ0e6f",
        "colab_type": "text"
      },
      "cell_type": "markdown",
      "source": [
        "### Parameters"
      ]
    },
    {
      "metadata": {
        "id": "NvHh1AQB0e6l",
        "colab_type": "code",
        "colab": {}
      },
      "cell_type": "code",
      "source": [
        "num_feat = 13\n",
        "num_hidden1 = 13\n",
        "num_hidden2 = 13\n",
        "num_outputs = 3\n",
        "learning_rate = 0.01"
      ],
      "execution_count": 0,
      "outputs": []
    },
    {
      "metadata": {
        "id": "6UfwlP4O0e62",
        "colab_type": "code",
        "colab": {}
      },
      "cell_type": "code",
      "source": [
        "import tensorflow as tf\n",
        "from tensorflow.contrib.layers import fully_connected"
      ],
      "execution_count": 0,
      "outputs": []
    },
    {
      "metadata": {
        "id": "q9T2AdL10e7I",
        "colab_type": "text"
      },
      "cell_type": "markdown",
      "source": [
        "### Placeholders"
      ]
    },
    {
      "metadata": {
        "id": "6N73N1Gf0e7K",
        "colab_type": "code",
        "colab": {}
      },
      "cell_type": "code",
      "source": [
        "X = tf.placeholder(tf.float32, shape = [None, num_feat])\n",
        "y_true = tf.placeholder(tf.float32, shape = [None, 3])"
      ],
      "execution_count": 0,
      "outputs": []
    },
    {
      "metadata": {
        "id": "QjXVa1OP0e7R",
        "colab_type": "text"
      },
      "cell_type": "markdown",
      "source": [
        "### Activation Function"
      ]
    },
    {
      "metadata": {
        "id": "MATfch8_0e7g",
        "colab_type": "code",
        "colab": {}
      },
      "cell_type": "code",
      "source": [
        "actf = tf.nn.relu"
      ],
      "execution_count": 0,
      "outputs": []
    },
    {
      "metadata": {
        "id": "pdT2e9Ix0e7r",
        "colab_type": "text"
      },
      "cell_type": "markdown",
      "source": [
        "### Create Layers"
      ]
    },
    {
      "metadata": {
        "id": "GNLas4AS0e7t",
        "colab_type": "code",
        "colab": {}
      },
      "cell_type": "code",
      "source": [
        "hidden1 = fully_connected(X, num_hidden1, activation_fn = actf)\n",
        "hidden2 = fully_connected(hidden1, num_hidden2, activation_fn = actf)"
      ],
      "execution_count": 0,
      "outputs": []
    },
    {
      "metadata": {
        "id": "2dKHFbKT0e75",
        "colab_type": "code",
        "colab": {}
      },
      "cell_type": "code",
      "source": [
        "output = fully_connected(hidden2, num_outputs)"
      ],
      "execution_count": 0,
      "outputs": []
    },
    {
      "metadata": {
        "id": "blQDjMUD0e8R",
        "colab_type": "text"
      },
      "cell_type": "markdown",
      "source": [
        "### Loss Function"
      ]
    },
    {
      "metadata": {
        "id": "7BYogKhK0e8Y",
        "colab_type": "code",
        "colab": {}
      },
      "cell_type": "code",
      "source": [
        "loss = tf.losses.softmax_cross_entropy(onehot_labels= y_true, logits = output)"
      ],
      "execution_count": 0,
      "outputs": []
    },
    {
      "metadata": {
        "id": "_Az5jZAq0e8m",
        "colab_type": "text"
      },
      "cell_type": "markdown",
      "source": [
        "### Optimizer"
      ]
    },
    {
      "metadata": {
        "id": "94H69Ybc0e8o",
        "colab_type": "code",
        "colab": {}
      },
      "cell_type": "code",
      "source": [
        "optimizer = tf.train.AdamOptimizer(learning_rate)\n",
        "train = optimizer.minimize(loss)"
      ],
      "execution_count": 0,
      "outputs": []
    },
    {
      "metadata": {
        "id": "DyjWRCQn0e8u",
        "colab_type": "text"
      },
      "cell_type": "markdown",
      "source": [
        "### Init"
      ]
    },
    {
      "metadata": {
        "id": "SpbtsUIr0e8v",
        "colab_type": "code",
        "colab": {}
      },
      "cell_type": "code",
      "source": [
        "init = tf.global_variables_initializer()"
      ],
      "execution_count": 0,
      "outputs": []
    },
    {
      "metadata": {
        "id": "UXRZWx150e81",
        "colab_type": "code",
        "colab": {}
      },
      "cell_type": "code",
      "source": [
        "training_steps = 1000\n",
        "with tf.Session() as sess:\n",
        "    sess.run(init)\n",
        "    \n",
        "    for i in range(training_steps):\n",
        "        sess.run(train,feed_dict={X: scaled_x_train,y_true:onehot_y_train})\n",
        "        \n",
        "    # Get Predictions\n",
        "    logits = output.eval(feed_dict={X:scaled_x_test})\n",
        "    \n",
        "    preds = tf.argmax(logits,axis=1)\n",
        "    \n",
        "    results = preds.eval()"
      ],
      "execution_count": 0,
      "outputs": []
    },
    {
      "metadata": {
        "id": "8KxqJ7JT0e87",
        "colab_type": "text"
      },
      "cell_type": "markdown",
      "source": [
        "Evaluating using the confusion matrix"
      ]
    },
    {
      "metadata": {
        "id": "A6-CK3aj0e89",
        "colab_type": "code",
        "colab": {}
      },
      "cell_type": "code",
      "source": [
        "from sklearn.metrics import confusion_matrix, classification_report"
      ],
      "execution_count": 0,
      "outputs": []
    },
    {
      "metadata": {
        "id": "BK3pDXhw0e9G",
        "colab_type": "code",
        "outputId": "17110e07-5b20-45c8-c783-00704e452f5f",
        "colab": {
          "base_uri": "https://localhost:8080/",
          "height": 72
        }
      },
      "cell_type": "code",
      "source": [
        "confusion_matrix(y_true= y_test, y_pred= results)"
      ],
      "execution_count": 0,
      "outputs": [
        {
          "output_type": "execute_result",
          "data": {
            "text/plain": [
              "array([[19,  0,  0],\n",
              "       [ 0, 22,  0],\n",
              "       [ 0,  0, 13]])"
            ]
          },
          "metadata": {
            "tags": []
          },
          "execution_count": 50
        }
      ]
    },
    {
      "metadata": {
        "id": "uqLwAs7n0e9a",
        "colab_type": "code",
        "outputId": "33ac4f2d-537c-4cb5-809a-99f75bf01e8c",
        "colab": {
          "base_uri": "https://localhost:8080/",
          "height": 201
        }
      },
      "cell_type": "code",
      "source": [
        "print(classification_report(y_test, results))"
      ],
      "execution_count": 0,
      "outputs": [
        {
          "output_type": "stream",
          "text": [
            "              precision    recall  f1-score   support\n",
            "\n",
            "           0       1.00      1.00      1.00        19\n",
            "           1       1.00      1.00      1.00        22\n",
            "           2       1.00      1.00      1.00        13\n",
            "\n",
            "   micro avg       1.00      1.00      1.00        54\n",
            "   macro avg       1.00      1.00      1.00        54\n",
            "weighted avg       1.00      1.00      1.00        54\n",
            "\n"
          ],
          "name": "stdout"
        }
      ]
    },
    {
      "metadata": {
        "id": "RQZJFC-b0e9h",
        "colab_type": "text"
      },
      "cell_type": "markdown",
      "source": [
        "So we got perfect accuracy"
      ]
    },
    {
      "metadata": {
        "id": "g_9TXjHx0e9i",
        "colab_type": "text"
      },
      "cell_type": "markdown",
      "source": [
        "### de nada!"
      ]
    }
  ]
}