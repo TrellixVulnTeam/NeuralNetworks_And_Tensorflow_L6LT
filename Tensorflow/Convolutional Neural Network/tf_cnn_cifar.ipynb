{
  "nbformat": 4,
  "nbformat_minor": 0,
  "metadata": {
    "colab": {
      "name": "CNN_in_Tensorflow_CIFAR.ipynb",
      "version": "0.3.2",
      "provenance": [],
      "collapsed_sections": []
    },
    "kernelspec": {
      "name": "python3",
      "display_name": "Python 3"
    },
    "accelerator": "GPU"
  },
  "cells": [
    {
      "metadata": {
        "id": "IdbW9CNQFpOB",
        "colab_type": "text"
      },
      "cell_type": "markdown",
      "source": [
        "# A Convolutional Neural Network to Classify the CIFAR dataset"
      ]
    },
    {
      "metadata": {
        "id": "nBF1rc4VFpOM",
        "colab_type": "text"
      },
      "cell_type": "markdown",
      "source": [
        "[Prashant Brahmbhatt](www.github.com/hashbanger)"
      ]
    },
    {
      "metadata": {
        "id": "MKZlpfZqFpOZ",
        "colab_type": "text"
      },
      "cell_type": "markdown",
      "source": [
        "References:  \n",
        "- [Deep-Diver Github](https://github.com/deep-diver/)  \n",
        "- [CIFAR-10 official Documentation](https://www.cs.toronto.edu/~kriz/cifar.html)"
      ]
    },
    {
      "metadata": {
        "id": "YqfAbheMFpOj",
        "colab_type": "text"
      },
      "cell_type": "markdown",
      "source": [
        "___"
      ]
    },
    {
      "metadata": {
        "id": "I6wmA428FpOm",
        "colab_type": "code",
        "colab": {
          "base_uri": "https://localhost:8080/",
          "height": 35
        },
        "outputId": "ffc3ff5c-864e-4b57-b2be-ed6bee591a27"
      },
      "cell_type": "code",
      "source": [
        "from urllib.request import urlretrieve\n",
        "from os.path import isfile, isdir\n",
        "from tqdm import tqdm \n",
        "import tarfile\n",
        "\n",
        "cifar10_dataset_folder_path = 'cifar-10-batches-py'\n",
        "\n",
        "class DownloadProgress(tqdm):\n",
        "    last_block = 0\n",
        "\n",
        "    def hook(self, block_num=1, block_size=1, total_size=None):\n",
        "        self.total = total_size\n",
        "        self.update((block_num - self.last_block) * block_size)\n",
        "        self.last_block = block_num\n",
        "\n",
        "\"\"\" \n",
        "    check if the data (zip) file is already downloaded\n",
        "    if not, download it from \"https://www.cs.toronto.edu/~kriz/cifar-10-python.tar.gz\" and save as cifar-10-python.tar.gz\n",
        "\"\"\"\n",
        "if not isfile('cifar-10-python.tar.gz'):\n",
        "    with DownloadProgress(unit='B', unit_scale=True, miniters=1, desc='CIFAR-10 Dataset') as pbar:\n",
        "        urlretrieve(\n",
        "            'https://www.cs.toronto.edu/~kriz/cifar-10-python.tar.gz',\n",
        "            'cifar-10-python.tar.gz',\n",
        "            pbar.hook)\n",
        "\n",
        "if not isdir(cifar10_dataset_folder_path):\n",
        "    with tarfile.open('cifar-10-python.tar.gz') as tar:\n",
        "        tar.extractall()\n",
        "        tar.close()"
      ],
      "execution_count": 1,
      "outputs": [
        {
          "output_type": "stream",
          "text": [
            "CIFAR-10 Dataset: 171MB [01:32, 1.84MB/s]                           \n"
          ],
          "name": "stderr"
        }
      ]
    },
    {
      "metadata": {
        "id": "XLcz4Q02FpO6",
        "colab_type": "text"
      },
      "cell_type": "markdown",
      "source": [
        "The CIFAR-10 dataset consists of 10 object classes dogs, cats, aeroplanes, automobile, deer, horse, ship, truck, frog, bird.  \n",
        "We will require the labels to be one-hot encoded and the images require to be normalized."
      ]
    },
    {
      "metadata": {
        "id": "9eOokxC9FpPE",
        "colab_type": "code",
        "colab": {}
      },
      "cell_type": "code",
      "source": [
        "import pickle\n",
        "import numpy as np\n",
        "import tensorflow as tf\n",
        "import matplotlib.pyplot as plt"
      ],
      "execution_count": 0,
      "outputs": []
    },
    {
      "metadata": {
        "id": "ius4PXWcFpPW",
        "colab_type": "text"
      },
      "cell_type": "markdown",
      "source": [
        "The data files.\n",
        "The data archive would be extracted in 6 data files named as \n",
        "    - data_batch_i (1,2,...5)\n",
        "    - test_batch"
      ]
    },
    {
      "metadata": {
        "id": "w1i_P70hFpPe",
        "colab_type": "text"
      },
      "cell_type": "markdown",
      "source": [
        "## Knowing the data"
      ]
    },
    {
      "metadata": {
        "id": "iDfLSktlFpPk",
        "colab_type": "text"
      },
      "cell_type": "markdown",
      "source": [
        "The dataset contains coloured images of dimensions 32 x 32.  \n",
        "As the documentation states that the data files contains numpy arrays of (10000 * 3072) in row major order  \n",
        "32 height x 32 width x 3 channels RGB = 3072  \n",
        "There are 10000 images per data_batch = 50000 train images  \n",
        "10000 test images.  \n",
        "The first 1024 channels are for red channel ,next for green channel and then blue.\n",
        "\n",
        "The provided dimensions are not suitable to be fetched into the tensorflow so we will need to shape the data as the **tf.nn.conv2d()** requires which is either  \n",
        "\n",
        "**[batch , height , width , num_of_channels]**  or an alternative form could be  \n",
        "\n",
        "**[batch , num_of_channels , height , width]**"
      ]
    },
    {
      "metadata": {
        "id": "EkYq3LlCFpPt",
        "colab_type": "text"
      },
      "cell_type": "markdown",
      "source": [
        "## The Labels\n",
        "\n",
        "The original order of the data labels are:  \n",
        "\n",
        "**0 airplane \t\t\t\t\t\t\t\t\t\t\n",
        "1 automobile \t\t\t\t\t\t\t\t\t\t\n",
        "2 bird \t\t\t\t\t\t\t\t\t\t\n",
        "3 cat \t\t\t\t\t\t\t\t\t\t\n",
        "4 deer \t\t\t\t\t\t\t\t\t\t\n",
        "5 dog \t\t\t\t\t\t\t\t\t\t\n",
        "6 frog \t\t\t\t\t\t\t\t\t\t\n",
        "7 horse \t\t\t\t\t\t\t\t\t\t\n",
        "8 ship \t\t\t\t\t\t\t\t\t\t\n",
        "9 truck**"
      ]
    },
    {
      "metadata": {
        "id": "6DFgZskRFpPy",
        "colab_type": "code",
        "colab": {}
      },
      "cell_type": "code",
      "source": [
        "def load_label_names():\n",
        "    return['airplane', 'automobile', 'bird', 'cat', 'deer', 'dog', 'frog', 'horse', 'ship', 'truck']"
      ],
      "execution_count": 0,
      "outputs": []
    },
    {
      "metadata": {
        "id": "92KBatbWFpP9",
        "colab_type": "text"
      },
      "cell_type": "markdown",
      "source": [
        "## Reshaping the data"
      ]
    },
    {
      "metadata": {
        "id": "pJoRaLhTFpQN",
        "colab_type": "text"
      },
      "cell_type": "markdown",
      "source": [
        "We will firstly use the **numpy.reshape()** to shape our images and using the **np.traspose()** function.  \n",
        "The reshaping will be done in two steps:  \n",
        "- First we will convert the row vector 3072  into 3 x 1024, as per the channel.  \n",
        "- Secondly, we will convert it to 3 x 32 x 32 by dividing the tensor resulting from the first reshape by 32 where 32 is the width of the image because of the row major order."
      ]
    },
    {
      "metadata": {
        "id": "5SOczlf1FpQQ",
        "colab_type": "text"
      },
      "cell_type": "markdown",
      "source": [
        "The reshape function will be called with parameters, (10000, 3, 32, 32).  \n",
        "\n",
        "Now, the data is represented as **(num_channel , width , height)** form. But tensorflow and matplotlib expect a different shape. They expect **(width , height , num_channel)** instead. We need to swap the order using the transpose.  \n",
        "\n",
        "The transpose function can take a list of axes, and each value specifies where it wants to move around. For example, calling transpose with argument **(1, 2, 0)** in an numpy array of **(num_channel, width, height)** will return a new numpy array of **(width, height, num_channel)**."
      ]
    },
    {
      "metadata": {
        "id": "zfQ1PMf9FpQV",
        "colab_type": "code",
        "colab": {}
      },
      "cell_type": "code",
      "source": [
        "def load_cfar10_batch(cifar10_dataset_folder_path, batch_id):\n",
        "    with open(cifar10_dataset_folder_path + '/data_batch_' + str(batch_id), mode='rb') as file:\n",
        "        # note the encoding type is 'latin1'\n",
        "        batch = pickle.load(file, encoding='latin1')\n",
        "        \n",
        "    features = batch['data'].reshape((-1, 3, 32, 32)).transpose(0, 2, 3, 1)\n",
        " #Here we can use len(batch['data'] in place of -1 but -1 automatically considers the size of the batch\n",
        "    \n",
        "    labels = batch['labels']\n",
        "        \n",
        "    return features, labels"
      ],
      "execution_count": 0,
      "outputs": []
    },
    {
      "metadata": {
        "id": "UqCbcgpRFpQm",
        "colab_type": "text"
      },
      "cell_type": "markdown",
      "source": [
        "### Data Exploring"
      ]
    },
    {
      "metadata": {
        "id": "k3QjwBYRFpQp",
        "colab_type": "text"
      },
      "cell_type": "markdown",
      "source": [
        "The below code cells are used to know about the data and its stats."
      ]
    },
    {
      "metadata": {
        "id": "ATR9BLLvFpQu",
        "colab_type": "code",
        "colab": {}
      },
      "cell_type": "code",
      "source": [
        "def display_stats(cifar_dataset_folder_path, batch_id, sample_id):\n",
        "    features, labels = load_cfar10_batch(cifar10_dataset_folder_path, batch_id)\n",
        "    \n",
        "    if not 0 <= sample_id < len(features):\n",
        "        print(\"{} samples in batch {} .{} is out of range\".format(len(features), batch_id, sample_id))\n",
        "        return None\n",
        "    \n",
        "    print(\"\\nBatch {} Stats\\n\".format(batch_id))\n",
        "    print(\"Number of samples: {}\\n\".format(len(features)))\n",
        "    label_names = load_label_names()\n",
        "    label_counts =  dict(zip(*np.unique(labels, return_counts = True))) \n",
        "    #return_count will return number of the counts and a second tuple will be returned with positional counts\n",
        "    #the starred expression here will automatically map the two returned tuples as arguments of zip\n",
        "    #for starred expression docs refer (https://docs.python.org/dev/reference/expressions.html#calls)\n",
        "    \n",
        "    for key, value in label_counts.items(): #.items() returns a tuple of the key value pairs\n",
        "        print('Counts of {} {} are {}'.format(key, label_names[key], value))\n",
        "        \n",
        "    sample_image = features[sample_id]\n",
        "    sample_label = labels[sample_id]\n",
        "    \n",
        "    print('Example of image {}'.format(sample_id))\n",
        "    print('Image - Min Value: {} Max Value: {}'.format(sample_image.min(), sample_image.max()))\n",
        "    print('Image - Shape:{}'.format(sample_image.shape))\n",
        "    print('Label - Label _id: {} Name: {}'.format(sample_label, label_names[sample_label]))\n",
        "    \n",
        "    plt.imshow(sample_image)    \n",
        "    "
      ],
      "execution_count": 0,
      "outputs": []
    },
    {
      "metadata": {
        "id": "BncN8JgMFpRQ",
        "colab_type": "code",
        "colab": {
          "base_uri": "https://localhost:8080/",
          "height": 614
        },
        "outputId": "ad3c6472-db41-4586-d0dd-20dfbc20008e"
      },
      "cell_type": "code",
      "source": [
        "%matplotlib inline\n",
        "%config InlineBackend.figure_format = 'retina'\n",
        "\n",
        "batch_id = 2\n",
        "sample_id = 6000\n",
        "display_stats(cifar10_dataset_folder_path, batch_id, sample_id)"
      ],
      "execution_count": 8,
      "outputs": [
        {
          "output_type": "stream",
          "text": [
            "\n",
            "Batch 2 Stats\n",
            "\n",
            "Number of samples: 10000\n",
            "\n",
            "Counts of 0 airplane are 984\n",
            "Counts of 1 automobile are 1007\n",
            "Counts of 2 bird are 1010\n",
            "Counts of 3 cat are 995\n",
            "Counts of 4 deer are 1010\n",
            "Counts of 5 dog are 988\n",
            "Counts of 6 frog are 1008\n",
            "Counts of 7 horse are 1026\n",
            "Counts of 8 ship are 987\n",
            "Counts of 9 truck are 985\n",
            "Example of image 6000\n",
            "Image - Min Value: 5 Max Value: 182\n",
            "Image - Shape:(32, 32, 3)\n",
            "Label - Label _id: 7 Name: horse\n"
          ],
          "name": "stdout"
        },
        {
          "output_type": "display_data",
          "data": {
            "image/png": "[encoded data removed]",
            "text/plain": [
              "<matplotlib.figure.Figure at 0x7fe0797d3668>"
            ]
          },
          "metadata": {
            "tags": [],
            "image/png": {
              "width": 249,
              "height": 248
            }
          }
        }
      ]
    },
    {
      "metadata": {
        "id": "YCC7Jc6dFpRi",
        "colab_type": "text"
      },
      "cell_type": "markdown",
      "source": [
        "## Preprocessing The Inputs"
      ]
    },
    {
      "metadata": {
        "id": "NCrdP3gZFpRn",
        "colab_type": "text"
      },
      "cell_type": "markdown",
      "source": [
        "### Normalization"
      ]
    },
    {
      "metadata": {
        "id": "INNsyEqrFpRr",
        "colab_type": "text"
      },
      "cell_type": "markdown",
      "source": [
        "We have to make all the input values for al the images between 0 and 1.  \n",
        "We use the Min-Max Scaling.  \n",
        "\n",
        "#### Min Max Normalization\n",
        "Minmax normalization is a normalization strategy which linearly transforms x to y   \n",
        "## $$y = (x-min)/(max-min)$$  \n",
        "Where min and max are the minimum and maximum values in X, where X is the set of observed values of x.  \n",
        "It can be easily seen that when x=min, then y=0, and\n",
        "When $x=max$, then $y=1$.\n",
        "This means, the minimum value in X is mapped to 0 and the maximum value in X is mapped to 1. So, the entire range of values of X from min to max are mapped to the range 0 to 1."
      ]
    },
    {
      "metadata": {
        "id": "IFuB65TubyVm",
        "colab_type": "text"
      },
      "cell_type": "markdown",
      "source": [
        "Why normalization should be performed is somewhat related to activation function.  \n",
        "Sigmoid activation function takes an input value and outputs a new value ranging from 0 to 1. When the input value is somewhat large, the output value easily reaches the max value 1. Similarily, when the input value is somewhat small, the output value easily reaches the max value 0.\n",
        "ReLU activation function takes an input value and outputs a new value ranging from 0 to infinity. When the input value is somewhat large, the output value increases linearly. However, when the input value is somewhat small, the output value easily reaches the max value 0.  \n",
        "\n",
        "The images are in an input range from 0 to 255 so no normalization is likely to result in 1 most of the times which would not be appropriate. So we define a normalize function."
      ]
    },
    {
      "metadata": {
        "id": "3bmX18zbb4iw",
        "colab_type": "code",
        "colab": {}
      },
      "cell_type": "code",
      "source": [
        "def normalize(x):\n",
        "    \"input the numpy array to be normalized\"\n",
        "    min_ = np.min(x) #the conventional min() would not work here\n",
        "    max_ = np.max(x)\n",
        "    y = (x - min_)/(max_ - min_ )\n",
        "    return y"
      ],
      "execution_count": 0,
      "outputs": []
    },
    {
      "metadata": {
        "id": "tYdESURBb9zf",
        "colab_type": "text"
      },
      "cell_type": "markdown",
      "source": [
        "Let's see if our function works correct"
      ]
    },
    {
      "metadata": {
        "id": "xDro41ibbzHy",
        "colab_type": "code",
        "colab": {
          "base_uri": "https://localhost:8080/",
          "height": 72
        },
        "outputId": "1a04c906-6c06-4cc8-a42b-27bcbe7dbcf4"
      },
      "cell_type": "code",
      "source": [
        "normalize( np.array([[[3,3,3],[1,2,3],[4,5,6]]]) )"
      ],
      "execution_count": 10,
      "outputs": [
        {
          "output_type": "execute_result",
          "data": {
            "text/plain": [
              "array([[[0.4, 0.4, 0.4],\n",
              "        [0. , 0.2, 0.4],\n",
              "        [0.6, 0.8, 1. ]]])"
            ]
          },
          "metadata": {
            "tags": []
          },
          "execution_count": 10
        }
      ]
    },
    {
      "metadata": {
        "id": "lXb6vgDvcC48",
        "colab_type": "text"
      },
      "cell_type": "markdown",
      "source": [
        "Looks like the function is working well with our sample 3D array."
      ]
    },
    {
      "metadata": {
        "id": "drttTdxYb8js",
        "colab_type": "text"
      },
      "cell_type": "markdown",
      "source": [
        "### One hot encoding"
      ]
    },
    {
      "metadata": {
        "id": "qgGs6cAIcL8o",
        "colab_type": "text"
      },
      "cell_type": "markdown",
      "source": [
        "Since for each image the model would require to match its output probabilities for each of the 10 classes with the ground truth. But our label is only a single value so we have to modify it in a 1D vector of size 10.\n",
        "\n",
        "Example:** 3 ---one-hot---->  [0,0,0,1,0,0,0,0,0,0] **"
      ]
    },
    {
      "metadata": {
        "id": "bqPodqH3cJym",
        "colab_type": "code",
        "colab": {}
      },
      "cell_type": "code",
      "source": [
        "def one_hot_encode(x):\n",
        "    \"Takes numpy array and One Hot Encodes\"\n",
        "    encoded = np.zeros((len(x), 10))\n",
        "    \n",
        "    for idx, val in enumerate(x):\n",
        "        encoded[idx][val] = 1\n",
        "        \n",
        "    return encoded"
      ],
      "execution_count": 0,
      "outputs": []
    },
    {
      "metadata": {
        "id": "v5-cwWaqcQAj",
        "colab_type": "text"
      },
      "cell_type": "markdown",
      "source": [
        "Now we use all the above defined functions and preprocess all the input data and save it as a file.  \n",
        "We will also use 90% inputs from each batch during the training ad the rest of the 10% will be used as the validation set."
      ]
    },
    {
      "metadata": {
        "id": "ZNLyhPjKcNfE",
        "colab_type": "code",
        "colab": {}
      },
      "cell_type": "code",
      "source": [
        "#Not working\n",
        "def _preprocess_and_save(normalize, one_hot_encode, features, labels, filename):\n",
        "    features = normalize(features)\n",
        "    labels = one_hot_encode(labels)\n",
        "\n",
        "    pickle.dump((features, labels), open(filename, 'wb'))\n",
        "\n",
        "    \n",
        "def preprocess_and_save_data(cifar10_dataset_folder_path, normalize, one_hot_encode):\n",
        "    n_batches = 5\n",
        "    valid_features = []\n",
        "    valid_labels = []\n",
        "    \n",
        "    for batch_i in range(1, n_batches + 1):\n",
        "        features, labels = load_cfar10_batch(cifar10_dataset_folder_path, batch_i)\n",
        "        \n",
        "        #we use the 10% of the input of each batch to be reserved for validation\n",
        "        #So we preprocess all the training data and normalize the validation all stacked together\n",
        "        index_of_validation = int(len(features) * 0.1)\n",
        "        \n",
        "        #Preprocess 90%\n",
        "        # noramlize\n",
        "        # one hot encode\n",
        "        # save it as new file\n",
        "        # save file per batch\n",
        "        _preprocess_and_save(normalize, one_hot_encode, features[:-index_of_validation], \n",
        "                           labels[:-index_of_validation], 'preprocess_batch_'+ str(batch_i)+ '.p')\n",
        "        \n",
        "        valid_features.extend(features[-index_of_validation:])\n",
        "        valid_labels.extend(features[-index_of_validation:])\n",
        "        \n",
        "    #preprocess all the stacked validation set\n",
        "    _preprocess_and_save(normalize, one_hot_encode,\n",
        "                         np.array(valid_features), np.array(valid_labels),\n",
        "                         'preprocess_validation.p')\n",
        "\n",
        "   \n",
        "    #load the test set\n",
        "    with open(cifar10_dataset_folder_path+'/test_batch', mode = 'rb') as file:\n",
        "        batch = pickle.load(file,  encoding= 'latin1')\n",
        "        \n",
        "    #reshaping the test set\n",
        "    test_features = batch['data'].reshape((len(batch['data']), 3, 32, 32)).transpose(0, 2, 3, 1)\n",
        "    test_labels = batch['labels']\n",
        "    \n",
        "    #preprocess and save all the test set\n",
        "    _preprocess_and_save(normalize, one_hot_encode, np.array(test_features), np.array(test_labels)\n",
        "                        ,'preprocess_training.p')\n",
        "        \n",
        "        "
      ],
      "execution_count": 0,
      "outputs": []
    },
    {
      "metadata": {
        "id": "SdylgsHutiJA",
        "colab_type": "code",
        "colab": {}
      },
      "cell_type": "code",
      "source": [
        "def _preprocess_and_save(normalize, one_hot_encode, features, labels, filename):\n",
        "    features = normalize(features)\n",
        "    labels = one_hot_encode(labels)\n",
        "\n",
        "    pickle.dump((features, labels), open(filename, 'wb'))\n",
        "\n",
        "\n",
        "def preprocess_and_save_data(cifar10_dataset_folder_path, normalize, one_hot_encode):\n",
        "    n_batches = 5\n",
        "    valid_features = []\n",
        "    valid_labels = []\n",
        "\n",
        "    for batch_i in range(1, n_batches + 1):\n",
        "        features, labels = load_cfar10_batch(cifar10_dataset_folder_path, batch_i)\n",
        "        \n",
        "        #we use the 10% of the input of each batch to be reserved for validation\n",
        "        #So we preprocess all the training data and normalize the validation all stacked together\n",
        "        # find index to be the point as validation data in the whole dataset of the batch (10%)\n",
        "        index_of_validation = int(len(features) * 0.1)\n",
        "\n",
        "        #Preprocess 90%\n",
        "        # noramlize\n",
        "        # one hot encode\n",
        "        # save it as new file\n",
        "        # save file per batch\n",
        "        _preprocess_and_save(normalize, one_hot_encode,\n",
        "                             features[:-index_of_validation], labels[:-index_of_validation], \n",
        "                             'preprocess_batch_' + str(batch_i) + '.p')\n",
        "\n",
        "        \n",
        "        valid_features.extend(features[-index_of_validation:])\n",
        "        valid_labels.extend(labels[-index_of_validation:])\n",
        "\n",
        "    #preprocess all the stacked validation set\n",
        "    _preprocess_and_save(normalize, one_hot_encode,\n",
        "                         np.array(valid_features), np.array(valid_labels),\n",
        "                         'preprocess_validation.p')\n",
        "\n",
        "    # load the test dataset\n",
        "    with open(cifar10_dataset_folder_path + '/test_batch', mode='rb') as file:\n",
        "        batch = pickle.load(file, encoding='latin1')\n",
        "\n",
        "    # reshaping the test set\n",
        "    test_features = batch['data'].reshape((-1, 3, 32, 32)).transpose(0, 2, 3, 1)\n",
        "    test_labels = batch['labels']\n",
        "\n",
        "    #preprocess and save all the test set\n",
        "    _preprocess_and_save(normalize, one_hot_encode,\n",
        "                         np.array(test_features), np.array(test_labels),\n",
        "                         'preprocess_training.p')"
      ],
      "execution_count": 0,
      "outputs": []
    },
    {
      "metadata": {
        "id": "OAFek3bNcUuK",
        "colab_type": "code",
        "colab": {}
      },
      "cell_type": "code",
      "source": [
        "preprocess_and_save_data(cifar10_dataset_folder_path, normalize, one_hot_encode)"
      ],
      "execution_count": 0,
      "outputs": []
    },
    {
      "metadata": {
        "id": "bvSRTPkv_I4V",
        "colab_type": "text"
      },
      "cell_type": "markdown",
      "source": [
        "___________________"
      ]
    },
    {
      "metadata": {
        "id": "tUd59rowwk9p",
        "colab_type": "code",
        "colab": {}
      },
      "cell_type": "code",
      "source": [
        "valid_features, valid_labels = pickle.load(open('preprocess_validation.p', mode = 'rb'))"
      ],
      "execution_count": 0,
      "outputs": []
    },
    {
      "metadata": {
        "id": "8krCgjgS_Nbt",
        "colab_type": "text"
      },
      "cell_type": "markdown",
      "source": [
        "## Building the Network"
      ]
    },
    {
      "metadata": {
        "id": "FnpHc61L_LlQ",
        "colab_type": "code",
        "colab": {}
      },
      "cell_type": "code",
      "source": [
        "#Removing the previous weights, biases, inputs from memory\n",
        "tf.reset_default_graph()\n",
        "\n",
        "#Input\n",
        "x = tf.placeholder(tf.float32, shape = (None, 32, 32, 3), name = 'input_x')\n",
        "y = tf.placeholder(tf.float32, shape = (None, 10), name = 'output_y')\n",
        "keep_prob = tf.placeholder(tf.float32, name = 'keep_prob')"
      ],
      "execution_count": 0,
      "outputs": []
    },
    {
      "metadata": {
        "id": "cFTpJEbr_S9s",
        "colab_type": "text"
      },
      "cell_type": "markdown",
      "source": [
        "### The Network Layout  "
      ]
    },
    {
      "metadata": {
        "id": "i-0fKWIn_We9",
        "colab_type": "text"
      },
      "cell_type": "markdown",
      "source": [
        "The entire model consists of 14 layers in total. In addition to layers below lists what techniques are applied to build the model.\n",
        "\n",
        "- Convolution Layer of dimension 3 x 3 x 64  (where 64 being the number of filters)  \n",
        "ReLU activation function  \n",
        "Max Pooling by 2    \n",
        "Batch Normalization   \n",
        "\n",
        "    \n",
        "- Convolution Layer of dimension 3 x 3 x 128    \n",
        "ReLU activation function    \n",
        "Max Pooling by 2    \n",
        "Batch Normalization\n",
        "    \n",
        "    \n",
        "- Convolution Layer of dimension 3 x 3 x 256  \n",
        "ReLU activation function  \n",
        "Max Pooling by 2    \n",
        "Batch Normalization\n",
        "\n",
        "\n",
        "- Convolution Layer of dimension 3 x 3 x 512  \n",
        "ReLU activation function  \n",
        "Max Pooling by 2    \n",
        "Batch Normalization\n",
        "\n",
        "\n",
        "- Flattening output of the last convolutional layer.\n",
        "\n",
        "\n",
        "- Full connection of 128 units  \n",
        "Dropout  \n",
        "Batch Normalization  \n",
        "\n",
        "\n",
        "- Full connection of 256 units  \n",
        "Dropout  \n",
        "Batch Normalization  \n",
        "\n",
        "\n",
        "- Full connection of 512 units  \n",
        "Dropout  \n",
        "Batch Normalization  \n",
        "\n",
        "\n",
        "- Full connection of 1024 units  \n",
        "Dropout  \n",
        "Batch Normalization  \n",
        "\n",
        "\n",
        "- Full connection of 10 units (number of image classes)\n"
      ]
    },
    {
      "metadata": {
        "id": "KIyoynBu_cQd",
        "colab_type": "text"
      },
      "cell_type": "markdown",
      "source": [
        "References to [batch normalization](https://towardsdatascience.com/batch-normalization-in-neural-networks-1ac91516821c)"
      ]
    },
    {
      "metadata": {
        "id": "uw8upu1m_QYC",
        "colab_type": "code",
        "colab": {}
      },
      "cell_type": "code",
      "source": [
        "def conv_net(x, keep_prob):\n",
        "    \n",
        "    conv1_filter = tf.Variable(tf.truncated_normal(shape = [3, 3, 3, 64], mean= 0, stddev= 0.08))\n",
        "    conv1 = tf.nn.conv2d(x, conv1_filter, [1, 1, 1, 1], padding= 'SAME')\n",
        "    conv1 = tf.nn.relu(conv1)\n",
        "    conv1_pool = tf.nn.max_pool(conv1, ksize= [1, 2, 2, 1], strides= [1, 2, 2, 1], padding= 'SAME')\n",
        "#    conv1_bn = tf.nn.batch_normalization(conv1_pool)\n",
        "    \n",
        "    conv2_filter = tf.Variable(tf.truncated_normal(shape = [3, 3, 64, 128], mean= 0, stddev= 0.08))\n",
        "    conv2 = tf.nn.conv2d(conv1_pool, conv2_filter, [1, 1, 1, 1], padding= 'SAME')\n",
        "    conv2 = tf.nn.relu(conv2)\n",
        "    conv2_pool = tf.nn.max_pool(conv2, ksize= [1, 2, 2, 1], strides= [1, 2, 2, 1], padding= 'SAME')\n",
        "#    conv2_bn = tf.nn.batch_normalization(conv2_pool)\n",
        "    \n",
        "    conv3_filter = tf.Variable(tf.truncated_normal(shape = [5, 5, 128, 256], mean= 0, stddev= 0.08))\n",
        "    conv3 = tf.nn.conv2d(conv2_pool, conv3_filter, [1, 1, 1, 1], padding= 'SAME')\n",
        "    conv3 = tf.nn.relu(conv3)\n",
        "    conv3_pool = tf.nn.max_pool(conv3, ksize= [1, 2, 2, 1], strides= [1, 2, 2, 1], padding= 'SAME')\n",
        "#    conv3_bn = tf.nn.batch_normalization(conv3_pool)\n",
        "    \n",
        "    conv4_filter = tf.Variable(tf.truncated_normal(shape = [5, 5, 256, 512], mean= 0, stddev= 0.08))\n",
        "    conv4 = tf.nn.conv2d(conv3_pool, conv4_filter, [1, 1, 1, 1], padding= 'SAME')\n",
        "    conv4 = tf.nn.relu(conv4)\n",
        "    conv4_pool = tf.nn.max_pool(conv4, ksize= [1, 2, 2, 1], strides= [1, 2, 2, 1], padding= 'SAME')\n",
        "#    conv4_bn = tf.nn.batch_normalization(conv4_pool)  \n",
        "    \n",
        "    flat = tf.contrib.layers.flatten(conv4_pool)\n",
        "    \n",
        "    full1 = tf.contrib.layers.fully_connected(inputs = flat, num_outputs = 128, activation_fn = tf.nn.relu)\n",
        "    full1 = tf.nn.dropout(full1, keep_prob)\n",
        "#    full1 = tf.layers.batch_normalization(full1)\n",
        "    \n",
        "    full2 = tf.contrib.layers.fully_connected(inputs = full1, num_outputs = 256, activation_fn = tf.nn.relu)\n",
        "    full2 = tf.nn.dropout(full2, keep_prob)\n",
        "#    full2 = tf.layers.batch_normalization(full2)\n",
        "    \n",
        "    full3 = tf.contrib.layers.fully_connected(inputs = full2, num_outputs = 512, activation_fn = tf.nn.relu)\n",
        "    full3 = tf.nn.dropout(full3, keep_prob)\n",
        "#    full3 = tf.layers.batch_normalization(full3)\n",
        "    \n",
        "    full4 = tf.contrib.layers.fully_connected(inputs = full3, num_outputs = 1024, activation_fn = tf.nn.relu)\n",
        "    full4 = tf.nn.dropout(full4, keep_prob)\n",
        "#    full4 = tf.layers.batch_normalization(full4)\n",
        "    \n",
        "    out = tf.contrib.layers.fully_connected(inputs = full4, num_outputs = 10, activation_fn = None)\n",
        "    return out"
      ],
      "execution_count": 0,
      "outputs": []
    },
    {
      "metadata": {
        "id": "TGi-P1Pk_f4d",
        "colab_type": "text"
      },
      "cell_type": "markdown",
      "source": [
        "## Hyperparameters"
      ]
    },
    {
      "metadata": {
        "id": "ewJDw_vz_d_U",
        "colab_type": "code",
        "colab": {}
      },
      "cell_type": "code",
      "source": [
        "epochs = 10\n",
        "batch_size = 128\n",
        "keep_probability = 0.7\n",
        "learning_rate = 0.001"
      ],
      "execution_count": 0,
      "outputs": []
    },
    {
      "metadata": {
        "id": "DGE-10QQ_k5F",
        "colab_type": "text"
      },
      "cell_type": "markdown",
      "source": [
        "## Cost Optimization and Loss Functions"
      ]
    },
    {
      "metadata": {
        "id": "HWtPh_r7_h3s",
        "colab_type": "code",
        "colab": {}
      },
      "cell_type": "code",
      "source": [
        "logits = conv_net(x, keep_prob)\n",
        "model = tf.identity(logits, name = 'logits')\n",
        "\n",
        "#Loss function and Optimization\n",
        "cost = tf.reduce_mean(tf.nn.softmax_cross_entropy_with_logits_v2(logits= logits, labels = y))\n",
        "optimizer = tf.train.AdamOptimizer(learning_rate= learning_rate).minimize(cost)\n",
        "\n",
        "#Accuracy\n",
        "correct_pred = tf.equal(tf.argmax(logits, 1), tf.argmax(y, 1))\n",
        "accuracy = tf.reduce_mean(tf.cast(correct_pred, tf.float32), name = 'accuracy')"
      ],
      "execution_count": 0,
      "outputs": []
    },
    {
      "metadata": {
        "id": "__jogxihFEzh",
        "colab_type": "text"
      },
      "cell_type": "markdown",
      "source": [
        "## Training the Network"
      ]
    },
    {
      "metadata": {
        "id": "4jP0TNXnFHcV",
        "colab_type": "text"
      },
      "cell_type": "markdown",
      "source": [
        "### Single Optimization"
      ]
    },
    {
      "metadata": {
        "id": "rhGl6BM2_ohd",
        "colab_type": "code",
        "colab": {}
      },
      "cell_type": "code",
      "source": [
        "def train_neural_network(session, optimizer, keep_probability, feature_batch, label_batch):\n",
        "    session.run(optimizer, feed_dict = {x: feature_batch, y: label_batch, keep_prob: keep_probability})"
      ],
      "execution_count": 0,
      "outputs": []
    },
    {
      "metadata": {
        "id": "7EwZwlzDFNs4",
        "colab_type": "text"
      },
      "cell_type": "markdown",
      "source": [
        "### Show Stats"
      ]
    },
    {
      "metadata": {
        "id": "FKaZTVqeFLLp",
        "colab_type": "code",
        "colab": {}
      },
      "cell_type": "code",
      "source": [
        "def print_stats(session, feature_batch, label_batch, cost, accuracy):\n",
        "    loss = sess.run(cost, feed_dict = {x: feature_batch, y:label_batch, keep_prob: 1})\n",
        "    \n",
        "    valid_acc = sess.run(accuracy, feed_dict = {x: valid_features, y: valid_labels, keep_prob: 1})\n",
        "    \n",
        "    print('Loss: {:10.4f} Validation Accuracy:{:.6f}'.format(loss, valid_acc))"
      ],
      "execution_count": 0,
      "outputs": []
    },
    {
      "metadata": {
        "id": "_2JRniJWFTPE",
        "colab_type": "text"
      },
      "cell_type": "markdown",
      "source": [
        "### Fully Train the Model"
      ]
    },
    {
      "metadata": {
        "id": "jj8e7LKTFPcI",
        "colab_type": "code",
        "colab": {}
      },
      "cell_type": "code",
      "source": [
        "def batch_feature_labels(features, labels, batch_size):\n",
        "    \"\"\"Split features and labels into batches\"\"\"\n",
        "    for start in range(0, len(features), batch_size):\n",
        "        end = min(start +batch_size , len(features))\n",
        "        yield features[start:end], labels[start:end]\n",
        "    \n",
        "def load_preprocess_training_batch(batch_id, batch_size):\n",
        "    \"\"\"Load the Preprocessed Training data and return them in batches of <batch_size> or less\"\"\"\n",
        "    filename = 'preprocess_batch_'+ str(batch_id) + '.p'\n",
        "    features, labels = pickle.load(open(filename, mode = 'rb'))\n",
        "    \n",
        "    # Return the training data in batches of size <batch_size> or less\n",
        "    return batch_feature_labels(features, labels, batch_size)"
      ],
      "execution_count": 0,
      "outputs": []
    },
    {
      "metadata": {
        "id": "kiH_RCYDFYww",
        "colab_type": "code",
        "colab": {
          "base_uri": "https://localhost:8080/",
          "height": 954
        },
        "outputId": "891da887-2be5-4072-9776-7ede52a9ed70"
      },
      "cell_type": "code",
      "source": [
        "save_model_path = './image_classification'\n",
        "\n",
        "print('Training...')\n",
        "with tf.Session() as sess:\n",
        "    # Initializing the variables\n",
        "    sess.run(tf.global_variables_initializer())\n",
        "    \n",
        "    # Training cycle\n",
        "    for epoch in range(epochs):\n",
        "        # Loop over all batches\n",
        "        n_batches = 5\n",
        "        for batch_i in range(1, n_batches + 1):\n",
        "            for batch_features, batch_labels in load_preprocess_training_batch(batch_i, batch_size):\n",
        "                train_neural_network(sess, optimizer, keep_probability, batch_features, batch_labels)\n",
        "                \n",
        "            print('Epoch {:>2}, CIFAR-10 Batch {}:  '.format(epoch + 1, batch_i), end='')\n",
        "            print_stats(sess, batch_features, batch_labels, cost, accuracy)\n",
        "            \n",
        "    # Save Model\n",
        "    saver = tf.train.Saver()\n",
        "    save_path = saver.save(sess, save_model_path)"
      ],
      "execution_count": 60,
      "outputs": [
        {
          "output_type": "stream",
          "text": [
            "Training...\n",
            "Epoch  1, CIFAR-10 Batch 1:  Loss:     2.2636 Validation Accuracy:0.152000\n",
            "Epoch  1, CIFAR-10 Batch 2:  Loss:     1.9547 Validation Accuracy:0.183600\n",
            "Epoch  1, CIFAR-10 Batch 3:  Loss:     1.7651 Validation Accuracy:0.199800\n",
            "Epoch  1, CIFAR-10 Batch 4:  Loss:     1.7986 Validation Accuracy:0.274600\n",
            "Epoch  1, CIFAR-10 Batch 5:  Loss:     1.6305 Validation Accuracy:0.262000\n",
            "Epoch  2, CIFAR-10 Batch 1:  Loss:     1.8135 Validation Accuracy:0.253200\n",
            "Epoch  2, CIFAR-10 Batch 2:  Loss:     1.7203 Validation Accuracy:0.272800\n",
            "Epoch  2, CIFAR-10 Batch 3:  Loss:     1.5422 Validation Accuracy:0.336200\n",
            "Epoch  2, CIFAR-10 Batch 4:  Loss:     1.5171 Validation Accuracy:0.386400\n",
            "Epoch  2, CIFAR-10 Batch 5:  Loss:     1.4735 Validation Accuracy:0.340000\n",
            "Epoch  3, CIFAR-10 Batch 1:  Loss:     1.3993 Validation Accuracy:0.440000\n",
            "Epoch  3, CIFAR-10 Batch 2:  Loss:     1.2263 Validation Accuracy:0.481400\n",
            "Epoch  3, CIFAR-10 Batch 3:  Loss:     1.0714 Validation Accuracy:0.472600\n",
            "Epoch  3, CIFAR-10 Batch 4:  Loss:     1.1444 Validation Accuracy:0.541000\n",
            "Epoch  3, CIFAR-10 Batch 5:  Loss:     0.9910 Validation Accuracy:0.554400\n",
            "Epoch  4, CIFAR-10 Batch 1:  Loss:     0.8031 Validation Accuracy:0.604400\n",
            "Epoch  4, CIFAR-10 Batch 2:  Loss:     0.7217 Validation Accuracy:0.605800\n",
            "Epoch  4, CIFAR-10 Batch 3:  Loss:     0.7157 Validation Accuracy:0.589200\n",
            "Epoch  4, CIFAR-10 Batch 4:  Loss:     0.8046 Validation Accuracy:0.635800\n",
            "Epoch  4, CIFAR-10 Batch 5:  Loss:     0.6310 Validation Accuracy:0.647800\n",
            "Epoch  5, CIFAR-10 Batch 1:  Loss:     0.5486 Validation Accuracy:0.651000\n",
            "Epoch  5, CIFAR-10 Batch 2:  Loss:     0.4939 Validation Accuracy:0.670200\n",
            "Epoch  5, CIFAR-10 Batch 3:  Loss:     0.3759 Validation Accuracy:0.676400\n",
            "Epoch  5, CIFAR-10 Batch 4:  Loss:     0.4535 Validation Accuracy:0.681600\n",
            "Epoch  5, CIFAR-10 Batch 5:  Loss:     0.4886 Validation Accuracy:0.688800\n",
            "Epoch  6, CIFAR-10 Batch 1:  Loss:     0.3326 Validation Accuracy:0.684600\n",
            "Epoch  6, CIFAR-10 Batch 2:  Loss:     0.3940 Validation Accuracy:0.679600\n",
            "Epoch  6, CIFAR-10 Batch 3:  Loss:     0.1466 Validation Accuracy:0.691600\n",
            "Epoch  6, CIFAR-10 Batch 4:  Loss:     0.3211 Validation Accuracy:0.698600\n",
            "Epoch  6, CIFAR-10 Batch 5:  Loss:     0.2275 Validation Accuracy:0.688800\n",
            "Epoch  7, CIFAR-10 Batch 1:  Loss:     0.2066 Validation Accuracy:0.711000\n",
            "Epoch  7, CIFAR-10 Batch 2:  Loss:     0.2582 Validation Accuracy:0.682000\n",
            "Epoch  7, CIFAR-10 Batch 3:  Loss:     0.1287 Validation Accuracy:0.700800\n",
            "Epoch  7, CIFAR-10 Batch 4:  Loss:     0.2205 Validation Accuracy:0.698200\n",
            "Epoch  7, CIFAR-10 Batch 5:  Loss:     0.1706 Validation Accuracy:0.699400\n",
            "Epoch  8, CIFAR-10 Batch 1:  Loss:     0.0808 Validation Accuracy:0.720800\n",
            "Epoch  8, CIFAR-10 Batch 2:  Loss:     0.0949 Validation Accuracy:0.696600\n",
            "Epoch  8, CIFAR-10 Batch 3:  Loss:     0.0862 Validation Accuracy:0.694200\n",
            "Epoch  8, CIFAR-10 Batch 4:  Loss:     0.1476 Validation Accuracy:0.683200\n",
            "Epoch  8, CIFAR-10 Batch 5:  Loss:     0.1250 Validation Accuracy:0.701200\n",
            "Epoch  9, CIFAR-10 Batch 1:  Loss:     0.1854 Validation Accuracy:0.694600\n",
            "Epoch  9, CIFAR-10 Batch 2:  Loss:     0.0793 Validation Accuracy:0.676400\n",
            "Epoch  9, CIFAR-10 Batch 3:  Loss:     0.0458 Validation Accuracy:0.710600\n",
            "Epoch  9, CIFAR-10 Batch 4:  Loss:     0.1390 Validation Accuracy:0.708000\n",
            "Epoch  9, CIFAR-10 Batch 5:  Loss:     0.0581 Validation Accuracy:0.711000\n",
            "Epoch 10, CIFAR-10 Batch 1:  Loss:     0.0319 Validation Accuracy:0.714400\n",
            "Epoch 10, CIFAR-10 Batch 2:  Loss:     0.0403 Validation Accuracy:0.685800\n",
            "Epoch 10, CIFAR-10 Batch 3:  Loss:     0.0264 Validation Accuracy:0.697000\n",
            "Epoch 10, CIFAR-10 Batch 4:  Loss:     0.0427 Validation Accuracy:0.706600\n",
            "Epoch 10, CIFAR-10 Batch 5:  Loss:     0.0337 Validation Accuracy:0.698600\n"
          ],
          "name": "stdout"
        }
      ]
    },
    {
      "metadata": {
        "id": "SrYcQQMgFcty",
        "colab_type": "code",
        "colab": {
          "base_uri": "https://localhost:8080/",
          "height": 239
        },
        "outputId": "aa4d5984-e415-4907-e240-6d61fca5f220"
      },
      "cell_type": "code",
      "source": [
        "!apt-get install -y -qq software-properties-common python-software-properties module-init-tools\n",
        "!add-apt-repository -y ppa:alessandro-strada/ppa 2>&1 > /dev/null\n",
        "!apt-get update -qq 2>&1 > /dev/null\n",
        "!apt-get -y install -qq google-drive-ocamlfuse fuse\n",
        "from google.colab import auth\n",
        "auth.authenticate_user()\n",
        "from oauth2client.client import GoogleCredentials\n",
        "creds = GoogleCredentials.get_application_default()\n",
        "import getpass\n",
        "!google-drive-ocamlfuse -headless -id={creds.client_id} -secret={creds.client_secret} < /dev/null 2>&1 | grep URL\n",
        "vcode = getpass.getpass()\n",
        "!echo {vcode} | google-drive-ocamlfuse -headless -id={creds.client_id} -secret={creds.client_secret}"
      ],
      "execution_count": 61,
      "outputs": [
        {
          "output_type": "stream",
          "text": [
            "E: Package 'python-software-properties' has no installation candidate\n",
            "Selecting previously unselected package google-drive-ocamlfuse.\n",
            "(Reading database ... 110851 files and directories currently installed.)\n",
            "Preparing to unpack .../google-drive-ocamlfuse_0.7.1-0ubuntu3~ubuntu18.04.1_amd64.deb ...\n",
            "Unpacking google-drive-ocamlfuse (0.7.1-0ubuntu3~ubuntu18.04.1) ...\n",
            "Setting up google-drive-ocamlfuse (0.7.1-0ubuntu3~ubuntu18.04.1) ...\n",
            "Processing triggers for man-db (2.8.3-2ubuntu0.1) ...\n",
            "Please, open the following URL in a web browser: https://accounts.google.com/o/oauth2/auth?client_id=32555940559.apps.googleusercontent.com&redirect_uri=urn%3Aietf%3Awg%3Aoauth%3A2.0%3Aoob&scope=https%3A%2F%2Fwww.googleapis.com%2Fauth%2Fdrive&response_type=code&access_type=offline&approval_prompt=force\n",
            "··········\n",
            "Please, open the following URL in a web browser: https://accounts.google.com/o/oauth2/auth?client_id=32555940559.apps.googleusercontent.com&redirect_uri=urn%3Aietf%3Awg%3Aoauth%3A2.0%3Aoob&scope=https%3A%2F%2Fwww.googleapis.com%2Fauth%2Fdrive&response_type=code&access_type=offline&approval_prompt=force\n",
            "Please enter the verification code: Access token retrieved correctly.\n"
          ],
          "name": "stdout"
        }
      ]
    },
    {
      "metadata": {
        "id": "3YHsfrj1Huxv",
        "colab_type": "code",
        "colab": {}
      },
      "cell_type": "code",
      "source": [
        "!mkdir -p drive\n",
        "!google-drive-ocamlfuse drive"
      ],
      "execution_count": 0,
      "outputs": []
    },
    {
      "metadata": {
        "id": "MSpwkPDsJGC1",
        "colab_type": "text"
      },
      "cell_type": "markdown",
      "source": [
        "## de nada!"
      ]
    }
  ]
}
